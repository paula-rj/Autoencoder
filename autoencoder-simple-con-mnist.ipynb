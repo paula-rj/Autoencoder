{
 "cells": [
  {
   "cell_type": "markdown",
   "metadata": {
    "papermill": {
     "duration": 0.033547,
     "end_time": "2020-12-06T15:57:27.163608",
     "exception": false,
     "start_time": "2020-12-06T15:57:27.130061",
     "status": "completed"
    },
    "tags": []
   },
   "source": [
    "## Preparación de los datos\n",
    "\n",
    "En [este tutorial](https://jvn.io/aakashns/a1b40b04f5174a18bd05b17e3dffb0f0), se explica el procedimiento (en inglés).\n",
    "\n",
    "Primero importamos las librerías y funciones que vamos a utilizar."
   ]
  },
  {
   "cell_type": "code",
   "execution_count": 1,
   "metadata": {
    "execution": {
     "iopub.execute_input": "2020-12-06T15:57:27.240187Z",
     "iopub.status.busy": "2020-12-06T15:57:27.239248Z",
     "iopub.status.idle": "2020-12-06T15:57:28.744389Z",
     "shell.execute_reply": "2020-12-06T15:57:28.743603Z"
    },
    "papermill": {
     "duration": 1.547441,
     "end_time": "2020-12-06T15:57:28.744534",
     "exception": false,
     "start_time": "2020-12-06T15:57:27.197093",
     "status": "completed"
    },
    "tags": []
   },
   "outputs": [],
   "source": [
    "import torch #PyTorch\n",
    "import torchvision \n",
    "#Libreria para procesar imágenes para ML\n",
    "import numpy as np #Librería para hacer operaciones vectoriales y matriciales\n",
    "import torch.nn as nn #Librería de torch con funciones para hacer cosas con redes neuronales\n",
    "import torch.nn.functional as F #Lo mismo que nn pero le pasas los argumentos DENTRO de la funcion\n",
    "import torchvision.transforms #Sirve para hacer transformaciones a la imágenes por ej rotaciones \n",
    "from torchvision.datasets import MNIST #Dataset que vamos a usar. Lo importamos desde PyTorch\n",
    "from torch.utils.data.dataloader import DataLoader #Sirve para cargar los datos\n",
    "from torch.utils.data import random_split #Sirve para partir listas de manera aleatoria\n",
    "\n",
    "#Librerias para plotear\n",
    "from torchvision.utils import make_grid #para hacer un ploteo con varias imagenes del dataset\n",
    "import matplotlib.pyplot as plt\n",
    "%matplotlib inline"
   ]
  },
  {
   "cell_type": "markdown",
   "metadata": {
    "papermill": {
     "duration": 0.048213,
     "end_time": "2020-12-06T15:57:28.842140",
     "exception": false,
     "start_time": "2020-12-06T15:57:28.793927",
     "status": "completed"
    },
    "tags": []
   },
   "source": [
    "Descargamos los datos y creamos un dataset de PyTorch. Los datos serán imágenes de 28x28 píxeles en blanco y negro (es decir, cada imágen será una matriz 28x28x1) de números escritos. Este famoso dset de datos se denomina `MNIST` y es una clase dentro de la librería `torchvision.datasets`, de donde lo descargaremos."
   ]
  },
  {
   "cell_type": "code",
   "execution_count": 2,
   "metadata": {
    "execution": {
     "iopub.execute_input": "2020-12-06T15:57:28.945220Z",
     "iopub.status.busy": "2020-12-06T15:57:28.944521Z",
     "iopub.status.idle": "2020-12-06T15:57:32.377406Z",
     "shell.execute_reply": "2020-12-06T15:57:32.378390Z"
    },
    "papermill": {
     "duration": 3.48797,
     "end_time": "2020-12-06T15:57:32.378557",
     "exception": false,
     "start_time": "2020-12-06T15:57:28.890587",
     "status": "completed"
    },
    "tags": []
   },
   "outputs": [
    {
     "name": "stdout",
     "output_type": "stream",
     "text": [
      "Downloading http://yann.lecun.com/exdb/mnist/train-images-idx3-ubyte.gz to data/MNIST/raw/train-images-idx3-ubyte.gz\n"
     ]
    },
    {
     "data": {
      "application/vnd.jupyter.widget-view+json": {
       "model_id": "a7966a448cee472d962ec504d2ddef46",
       "version_major": 2,
       "version_minor": 0
      },
      "text/plain": [
       "HBox(children=(FloatProgress(value=1.0, bar_style='info', max=1.0), HTML(value='')))"
      ]
     },
     "metadata": {},
     "output_type": "display_data"
    },
    {
     "name": "stdout",
     "output_type": "stream",
     "text": [
      "Extracting data/MNIST/raw/train-images-idx3-ubyte.gz to data/MNIST/raw\n",
      "Downloading http://yann.lecun.com/exdb/mnist/train-labels-idx1-ubyte.gz to data/MNIST/raw/train-labels-idx1-ubyte.gz\n"
     ]
    },
    {
     "data": {
      "application/vnd.jupyter.widget-view+json": {
       "model_id": "b38fe0458322407da2091f9d1b04df1a",
       "version_major": 2,
       "version_minor": 0
      },
      "text/plain": [
       "HBox(children=(FloatProgress(value=1.0, bar_style='info', max=1.0), HTML(value='')))"
      ]
     },
     "metadata": {},
     "output_type": "display_data"
    },
    {
     "name": "stdout",
     "output_type": "stream",
     "text": [
      "Extracting data/MNIST/raw/train-labels-idx1-ubyte.gz to data/MNIST/raw\n",
      "Downloading http://yann.lecun.com/exdb/mnist/t10k-images-idx3-ubyte.gz to data/MNIST/raw/t10k-images-idx3-ubyte.gz\n",
      "\n"
     ]
    },
    {
     "data": {
      "application/vnd.jupyter.widget-view+json": {
       "model_id": "d2ada34d0ca64e59a9ead11ef5b5e566",
       "version_major": 2,
       "version_minor": 0
      },
      "text/plain": [
       "HBox(children=(FloatProgress(value=1.0, bar_style='info', max=1.0), HTML(value='')))"
      ]
     },
     "metadata": {},
     "output_type": "display_data"
    },
    {
     "name": "stdout",
     "output_type": "stream",
     "text": [
      "Extracting data/MNIST/raw/t10k-images-idx3-ubyte.gz to data/MNIST/raw\n",
      "Downloading http://yann.lecun.com/exdb/mnist/t10k-labels-idx1-ubyte.gz to data/MNIST/raw/t10k-labels-idx1-ubyte.gz\n"
     ]
    },
    {
     "data": {
      "application/vnd.jupyter.widget-view+json": {
       "model_id": "4b2f6915c3a5471390acd69560200bfc",
       "version_major": 2,
       "version_minor": 0
      },
      "text/plain": [
       "HBox(children=(FloatProgress(value=1.0, bar_style='info', max=1.0), HTML(value='')))"
      ]
     },
     "metadata": {},
     "output_type": "display_data"
    },
    {
     "name": "stdout",
     "output_type": "stream",
     "text": [
      "Extracting data/MNIST/raw/t10k-labels-idx1-ubyte.gz to data/MNIST/raw\n",
      "Processing...\n",
      "Done!\n"
     ]
    },
    {
     "name": "stderr",
     "output_type": "stream",
     "text": [
      "/opt/conda/lib/python3.7/site-packages/torchvision/datasets/mnist.py:469: UserWarning: The given NumPy array is not writeable, and PyTorch does not support non-writeable tensors. This means you can write to the underlying (supposedly non-writeable) NumPy array using the tensor. You may want to copy the array to protect its data or make it writeable before converting it to a tensor. This type of warning will be suppressed for the rest of this program. (Triggered internally at  /opt/conda/conda-bld/pytorch_1595629401553/work/torch/csrc/utils/tensor_numpy.cpp:141.)\n",
      "  return torch.from_numpy(parsed.astype(m[2], copy=False)).view(*s)\n"
     ]
    }
   ],
   "source": [
    "dataset = MNIST(root='data/', \n",
    "                download=True, \n",
    "                transform=torchvision.transforms.Compose([\n",
    "                              torchvision.transforms.ToTensor(),#transforma la img a tensores (matrices)\n",
    "                              torchvision.transforms.Normalize((0.1307,), (0.3081,))]) #normaliza \n",
    "               )"
   ]
  },
  {
   "cell_type": "markdown",
   "metadata": {
    "papermill": {
     "duration": 0.054842,
     "end_time": "2020-12-06T15:57:32.489730",
     "exception": false,
     "start_time": "2020-12-06T15:57:32.434888",
     "status": "completed"
    },
    "tags": []
   },
   "source": [
    "Usamos la función `random_split` para separar el dataset (60000 imagenes) en dos:\n",
    "\n",
    "Conjunto de entrenamiento(train): contendrá 80% del total de imagenes.\n",
    "\n",
    "Conjunto de validacióno(val): contendrá el restante 20% del total de imagenes."
   ]
  },
  {
   "cell_type": "code",
   "execution_count": 3,
   "metadata": {
    "execution": {
     "iopub.execute_input": "2020-12-06T15:57:32.608803Z",
     "iopub.status.busy": "2020-12-06T15:57:32.607944Z",
     "iopub.status.idle": "2020-12-06T15:57:32.631165Z",
     "shell.execute_reply": "2020-12-06T15:57:32.631700Z"
    },
    "papermill": {
     "duration": 0.086818,
     "end_time": "2020-12-06T15:57:32.631862",
     "exception": false,
     "start_time": "2020-12-06T15:57:32.545044",
     "status": "completed"
    },
    "tags": []
   },
   "outputs": [
    {
     "data": {
      "text/plain": [
       "(48000, 12000)"
      ]
     },
     "execution_count": 3,
     "metadata": {},
     "output_type": "execute_result"
    }
   ],
   "source": [
    "train_size = 48000\n",
    "val_size = len(dataset)- train_size\n",
    "\n",
    "train_ds, val_ds = random_split(dataset, [train_size, val_size])\n",
    "len(train_ds), len(val_ds)"
   ]
  },
  {
   "cell_type": "markdown",
   "metadata": {
    "papermill": {
     "duration": 0.038626,
     "end_time": "2020-12-06T15:57:32.709560",
     "exception": false,
     "start_time": "2020-12-06T15:57:32.670934",
     "status": "completed"
    },
    "tags": []
   },
   "source": [
    "Creamos los 'PyTorch data loaders' para el cojunto de entrenamiento y validación. Básicamente son funciones que ya vienen incluidas en PyTorch mediante las cuales podremos ordenar los datos y realizar un entrenamiento en mini-batches (lotes) del tamaño que elijamos, entre otras funcionaliades. Por ejemplo:\n",
    "\n",
    "- shuffle (bool): Sirve para indicar si queremos que los datos se reorganicen luego de cada epoca de corrida.\n",
    "- num_workers (int, optional): Cuántos subprocesos usar para la carga de los datos. 0 significa que los datos se cargarán en el proceso principal. \n",
    "- pin_memory (bool, optional): Si está en True, el data loader va a copiar los Tensores en la memoria  CUDA antes de devoverlos. Sirve particularmente si vamos a usar el acelerador. \n",
    "\n",
    "Más documentación: https://pytorch.org/docs/stable/data.html"
   ]
  },
  {
   "cell_type": "code",
   "execution_count": 4,
   "metadata": {
    "execution": {
     "iopub.execute_input": "2020-12-06T15:57:32.793066Z",
     "iopub.status.busy": "2020-12-06T15:57:32.792143Z",
     "iopub.status.idle": "2020-12-06T15:57:32.796216Z",
     "shell.execute_reply": "2020-12-06T15:57:32.795529Z"
    },
    "papermill": {
     "duration": 0.047843,
     "end_time": "2020-12-06T15:57:32.796388",
     "exception": false,
     "start_time": "2020-12-06T15:57:32.748545",
     "status": "completed"
    },
    "tags": []
   },
   "outputs": [],
   "source": [
    "#Defino tamaño de los batch\n",
    "batch_size=1000"
   ]
  },
  {
   "cell_type": "code",
   "execution_count": 5,
   "metadata": {
    "execution": {
     "iopub.execute_input": "2020-12-06T15:57:32.882121Z",
     "iopub.status.busy": "2020-12-06T15:57:32.881491Z",
     "iopub.status.idle": "2020-12-06T15:57:32.884387Z",
     "shell.execute_reply": "2020-12-06T15:57:32.883851Z"
    },
    "papermill": {
     "duration": 0.047271,
     "end_time": "2020-12-06T15:57:32.884501",
     "exception": false,
     "start_time": "2020-12-06T15:57:32.837230",
     "status": "completed"
    },
    "tags": []
   },
   "outputs": [],
   "source": [
    "train_loader = DataLoader(train_ds, batch_size, shuffle=True, num_workers=4, pin_memory=True)\n",
    "val_loader = DataLoader(val_ds, batch_size, num_workers=4, pin_memory=True)"
   ]
  },
  {
   "cell_type": "markdown",
   "metadata": {
    "papermill": {
     "duration": 0.038267,
     "end_time": "2020-12-06T15:57:32.961679",
     "exception": false,
     "start_time": "2020-12-06T15:57:32.923412",
     "status": "completed"
    },
    "tags": []
   },
   "source": [
    "Vamos a plotear un minibatch de imagenes. Para ello utilizamos la función `make_grid` de `torchvision` y el método `.permute`. Necesitamos este último porque la forma del tensor de las imágenes cargadas en el dataloader es [1,28,28], es decir que los canales están el la dimensión '0' del tensor (la primera). Pero la función `make_grid` toma como argumento tensores (imágenes) de la forma [ancho, alto, canales], por lo que si no hacemos este cambio con las dimensiones la funcion tira un error. Por lo tanto, con el método permute le pedimos que para cada tensor del dataloader, haga el siguiente cambio antes de pasarle en tensor a la función `make_grid`:\n",
    "\n",
    "canales dim 0-> dim 2\n",
    "\n",
    "ancho   dim 1-> dim 0\n",
    "\n",
    "alto    dim2 -> dim 1"
   ]
  },
  {
   "cell_type": "code",
   "execution_count": 6,
   "metadata": {
    "execution": {
     "iopub.execute_input": "2020-12-06T15:57:33.050728Z",
     "iopub.status.busy": "2020-12-06T15:57:33.050090Z",
     "iopub.status.idle": "2020-12-06T15:57:34.330445Z",
     "shell.execute_reply": "2020-12-06T15:57:34.325982Z"
    },
    "papermill": {
     "duration": 1.33036,
     "end_time": "2020-12-06T15:57:34.330584",
     "exception": false,
     "start_time": "2020-12-06T15:57:33.000224",
     "status": "completed"
    },
    "tags": []
   },
   "outputs": [
    {
     "name": "stdout",
     "output_type": "stream",
     "text": [
      "\n",
      "images.shape: torch.Size([1000, 1, 28, 28])\n",
      "\n",
      "\n"
     ]
    },
    {
     "data": {
      "image/png": "[encoded data removed]",
      "text/plain": [
       "<Figure size 1152x576 with 1 Axes>"
      ]
     },
     "metadata": {
      "needs_background": "light"
     },
     "output_type": "display_data"
    },
    {
     "name": "stdout",
     "output_type": "stream",
     "text": [
      "\n",
      "\n"
     ]
    }
   ],
   "source": [
    "for images, _ in train_loader:\n",
    "    print('images.shape:', images.shape)\n",
    "    plt.figure(figsize=(16,8))\n",
    "    plt.axis('off')\n",
    "    plt.imshow(make_grid(images, nrow=100).permute((1, 2, 0)))\n",
    "    break"
   ]
  },
  {
   "cell_type": "markdown",
   "metadata": {
    "papermill": {
     "duration": 0.042318,
     "end_time": "2020-12-06T15:57:34.418551",
     "exception": false,
     "start_time": "2020-12-06T15:57:34.376233",
     "status": "completed"
    },
    "tags": []
   },
   "source": [
    "## Modelo\n",
    "\n",
    "Antes que nada, vamos a definir la clase Flatten que simplemente usa la funcion view(input.size(0), -1) para 'aplastar' las imagenes, es decir convertir las matrices en un vector unidimensional. Podríamos usar directamente la función pero es mucho texto. Necesitamos hacer esto porque las funciones que vamos a usar en el modelo son lineales, toman vectores, osea tensores de dimension 1x(largo), no matrices."
   ]
  },
  {
   "cell_type": "code",
   "execution_count": 7,
   "metadata": {
    "execution": {
     "iopub.execute_input": "2020-12-06T15:57:34.510110Z",
     "iopub.status.busy": "2020-12-06T15:57:34.509442Z",
     "iopub.status.idle": "2020-12-06T15:57:34.514411Z",
     "shell.execute_reply": "2020-12-06T15:57:34.513588Z"
    },
    "papermill": {
     "duration": 0.053198,
     "end_time": "2020-12-06T15:57:34.514528",
     "exception": false,
     "start_time": "2020-12-06T15:57:34.461330",
     "status": "completed"
    },
    "tags": []
   },
   "outputs": [],
   "source": [
    "class Flatten(nn.Module):\n",
    "    def forward(self, input):\n",
    "        return input.view(input.size(0), -1)\n",
    "\n",
    "flatten = Flatten()"
   ]
  },
  {
   "cell_type": "code",
   "execution_count": 8,
   "metadata": {
    "execution": {
     "iopub.execute_input": "2020-12-06T15:57:34.624650Z",
     "iopub.status.busy": "2020-12-06T15:57:34.623931Z",
     "iopub.status.idle": "2020-12-06T15:57:34.627611Z",
     "shell.execute_reply": "2020-12-06T15:57:34.626956Z"
    },
    "papermill": {
     "duration": 0.070136,
     "end_time": "2020-12-06T15:57:34.627721",
     "exception": false,
     "start_time": "2020-12-06T15:57:34.557585",
     "status": "completed"
    },
    "tags": []
   },
   "outputs": [],
   "source": [
    "#def accuracy(outputs, labels):\n",
    "#    _, preds = torch.max(outputs, dim=1)\n",
    "#    return torch.tensor(torch.sum(preds == labels).item() / len(preds))\n",
    "\n",
    "#The accuracy we will define our own, that will be basically \n",
    "#the number of matched pixels (mask == prediction) divided by the total number of pixels in a batch\n",
    "def accuracy(outputs, yb):\n",
    "    return (outputs.argmax(dim=1) == yb).float().mean()\n",
    "\n",
    "#correct += outputs.eq(target.data.view_as(outputs)).sum()"
   ]
  },
  {
   "cell_type": "markdown",
   "metadata": {
    "papermill": {
     "duration": 0.044134,
     "end_time": "2020-12-06T15:57:34.716158",
     "exception": false,
     "start_time": "2020-12-06T15:57:34.672024",
     "status": "completed"
    },
    "tags": []
   },
   "source": [
    "Ahora si, el modelo:\n",
    "\n",
    "* Usaremos la función `nn.Linear`. Cada vez que usamos una de estas en la red, se dice que es una 'capa' de la misma.\n",
    "\n",
    "* La primera capa (hidden layer) transformará la matriz de entrada, cuyo tamaño será `batch_size x 784`(luego de pasarla por Flatten) en una matriz intermedia de tamaño `batch_size x hidden_size`, donde `hidden_size` es un parámetro que le pasaremos de antemano a la función, el tamaño de la capa oculta.\n",
    "\n",
    "* Luego le pasamos la salida de esta funcion a la función `Dropout(p).` Esto 'apaga' algunas conexiones de manera aleatoria, con una probabilidad p. Es un método que sirve para mejorar la performance del modelo. El tamaño se conserva.\n",
    "\n",
    "* Luego le pasamos la salida a una función de activación no lineal, en particular elegiremos la ReLU(). \n",
    "\n",
    "* Al resultado que sale de la función activación, de tamaño `batch_size x hidden_size`, se lo pasamos a la segunda capa denominada 'output layer', que es la capa final y se ocupará de transformar la salida en una matriz de tamaño  `batch_size x 784` identico al tamaño de la entrada inicial, ya que de eso se trata el autoencoder."
   ]
  },
  {
   "cell_type": "code",
   "execution_count": 9,
   "metadata": {
    "execution": {
     "iopub.execute_input": "2020-12-06T15:57:34.819485Z",
     "iopub.status.busy": "2020-12-06T15:57:34.812468Z",
     "iopub.status.idle": "2020-12-06T15:57:34.822621Z",
     "shell.execute_reply": "2020-12-06T15:57:34.823074Z"
    },
    "papermill": {
     "duration": 0.063496,
     "end_time": "2020-12-06T15:57:34.823219",
     "exception": false,
     "start_time": "2020-12-06T15:57:34.759723",
     "status": "completed"
    },
    "tags": []
   },
   "outputs": [],
   "source": [
    "class MnistModel(nn.Module):\n",
    "    \"\"\"Feedfoward neural network with 1 hidden layer\"\"\"\n",
    "    def __init__(self, in_size, hidden_size, out_size):\n",
    "        super().__init__()\n",
    "        # hidden layer\n",
    "        self.linear1 = nn.Linear(in_size, hidden_size)\n",
    "        # output layer\n",
    "        self.linear2 = nn.Linear(hidden_size, out_size)\n",
    "        #Dropuot\n",
    "        self.drop = nn.Dropout(0.1)\n",
    "        \n",
    "    def forward(self, xb):\n",
    "        # Flatten the image tensors\n",
    "        xb = xb.view(xb.size(0), -1)\n",
    "        # Get intermediate outputs using hidden layer\n",
    "        out = self.linear1(xb)\n",
    "        #droput \n",
    "        out = self.drop(out)\n",
    "        # Apply activation function\n",
    "        out = F.relu(out)\n",
    "        # Get predictions using output layer\n",
    "        out = self.linear2(out)\n",
    "        return out\n",
    "    \n",
    "    def training_step(self, batch):\n",
    "        images, labels = batch \n",
    "        out = self(images)                  # Generate predictions\n",
    "        loss = F.mse_loss(out,flatten(images)) # Calculate loss\n",
    "        return loss\n",
    "    \n",
    "    def validation_step(self, batch):\n",
    "        images, labels = batch \n",
    "        out = self(images)                    # Generate predictions\n",
    "        loss = F.mse_loss(out, flatten(images))   # Calculate loss ([1, 1, 28, 28])\n",
    "        #acc = accuracy(out, images.view(-1, 784))          # Calculate accuracy\n",
    "        return {'val_loss': loss} # val_acc acc\n",
    "        \n",
    "    def validation_epoch_end(self, outputs):\n",
    "        batch_losses = [x['val_loss'] for x in outputs]\n",
    "        epoch_loss = torch.stack(batch_losses).mean()   # Combine losses\n",
    "        #batch_accs = [x['val_acc'] for x in outputs]\n",
    "        #epoch_acc = torch.stack(batch_accs).mean()      # Combine accuracies\n",
    "        return {'val_loss': epoch_loss.item()} # 'val_acc': epoch_acc.item()\n",
    "    \n",
    "    def epoch_end(self, epoch, result):\n",
    "        print(\"Epoch [{}], last_lr: {:.5f}, train_loss: {:.4f}, val_loss: {:.4f}\".format(\n",
    "            epoch, result['lrs'][-1], result['train_loss'], result['val_loss']))"
   ]
  },
  {
   "cell_type": "markdown",
   "metadata": {
    "papermill": {
     "duration": 0.043783,
     "end_time": "2020-12-06T15:57:34.910785",
     "exception": false,
     "start_time": "2020-12-06T15:57:34.867002",
     "status": "completed"
    },
    "tags": []
   },
   "source": [
    "## Prueba\n",
    "Crearemos un modelo que contenga una sola capa oculta con 512 activaciones; este no es el entrenamiento definitivo, sólo vamos a ver si el código funciona antes de entrenar."
   ]
  },
  {
   "cell_type": "code",
   "execution_count": 10,
   "metadata": {
    "execution": {
     "iopub.execute_input": "2020-12-06T15:57:35.005669Z",
     "iopub.status.busy": "2020-12-06T15:57:35.005033Z",
     "iopub.status.idle": "2020-12-06T15:57:35.014761Z",
     "shell.execute_reply": "2020-12-06T15:57:35.014185Z"
    },
    "papermill": {
     "duration": 0.060159,
     "end_time": "2020-12-06T15:57:35.014880",
     "exception": false,
     "start_time": "2020-12-06T15:57:34.954721",
     "status": "completed"
    },
    "tags": []
   },
   "outputs": [],
   "source": [
    "input_size = 784\n",
    "hidden_size = 512 # you can change this\n",
    "out_size = 784\n",
    "\n",
    "model = MnistModel(input_size, hidden_size=hidden_size, out_size=out_size)"
   ]
  },
  {
   "cell_type": "code",
   "execution_count": null,
   "metadata": {
    "papermill": {
     "duration": 0.044096,
     "end_time": "2020-12-06T15:57:35.103054",
     "exception": false,
     "start_time": "2020-12-06T15:57:35.058958",
     "status": "completed"
    },
    "tags": []
   },
   "outputs": [],
   "source": []
  },
  {
   "cell_type": "code",
   "execution_count": null,
   "metadata": {
    "collapsed": true,
    "papermill": {
     "duration": 0.043375,
     "end_time": "2020-12-06T15:57:35.190609",
     "exception": false,
     "start_time": "2020-12-06T15:57:35.147234",
     "status": "completed"
    },
    "tags": []
   },
   "outputs": [],
   "source": []
  },
  {
   "cell_type": "markdown",
   "metadata": {
    "papermill": {
     "duration": 0.04409,
     "end_time": "2020-12-06T15:57:35.279096",
     "exception": false,
     "start_time": "2020-12-06T15:57:35.235006",
     "status": "completed"
    },
    "tags": []
   },
   "source": [
    "Veamos si los tamaños de las salidas son los esperados. "
   ]
  },
  {
   "cell_type": "code",
   "execution_count": 11,
   "metadata": {
    "execution": {
     "iopub.execute_input": "2020-12-06T15:57:35.373692Z",
     "iopub.status.busy": "2020-12-06T15:57:35.372984Z",
     "iopub.status.idle": "2020-12-06T15:57:35.378050Z",
     "shell.execute_reply": "2020-12-06T15:57:35.377514Z"
    },
    "papermill": {
     "duration": 0.054644,
     "end_time": "2020-12-06T15:57:35.378167",
     "exception": false,
     "start_time": "2020-12-06T15:57:35.323523",
     "status": "completed"
    },
    "tags": []
   },
   "outputs": [
    {
     "name": "stdout",
     "output_type": "stream",
     "text": [
      "torch.Size([512, 784])\n",
      "torch.Size([512])\n",
      "torch.Size([784, 512])\n",
      "torch.Size([784])\n"
     ]
    }
   ],
   "source": [
    "for t in model.parameters():\n",
    "    print(t.shape)"
   ]
  },
  {
   "cell_type": "markdown",
   "metadata": {
    "papermill": {
     "duration": 0.043575,
     "end_time": "2020-12-06T15:57:35.466920",
     "exception": false,
     "start_time": "2020-12-06T15:57:35.423345",
     "status": "completed"
    },
    "tags": []
   },
   "source": [
    "Generemos algunas salidas del modelo, para ver cómo funciona."
   ]
  },
  {
   "cell_type": "code",
   "execution_count": 12,
   "metadata": {
    "execution": {
     "iopub.execute_input": "2020-12-06T15:57:35.562196Z",
     "iopub.status.busy": "2020-12-06T15:57:35.561093Z",
     "iopub.status.idle": "2020-12-06T15:57:36.361502Z",
     "shell.execute_reply": "2020-12-06T15:57:36.362518Z"
    },
    "papermill": {
     "duration": 0.851902,
     "end_time": "2020-12-06T15:57:36.362722",
     "exception": false,
     "start_time": "2020-12-06T15:57:35.510820",
     "status": "completed"
    },
    "tags": []
   },
   "outputs": [
    {
     "name": "stdout",
     "output_type": "stream",
     "text": [
      "Loss: 1.075011134147644\n",
      "outputs.shape :  torch.Size([1000, 784])\n",
      "Sample outputs :\n",
      " tensor([[ 0.1288,  0.1462,  0.0905,  ..., -0.3094,  0.3004, -0.2052],\n",
      "        [ 0.2076, -0.0621, -0.0820,  ..., -0.1715, -0.0393, -0.1204]])\n",
      "image shape in loader  tensor([[ 0.1288,  0.1462,  0.0905,  ..., -0.3094,  0.3004, -0.2052],\n",
      "        [ 0.2076, -0.0621, -0.0820,  ..., -0.1715, -0.0393, -0.1204]])\n"
     ]
    }
   ],
   "source": [
    "for images, labels in train_loader:\n",
    "    outputs = model(images)\n",
    "    loss = F.mse_loss(outputs, flatten(images))\n",
    "    print('Loss:', loss.item())\n",
    "    break\n",
    "\n",
    "print('outputs.shape : ', outputs.shape)\n",
    "print('Sample outputs :\\n', outputs[:2].data)\n",
    "print('image shape in loader ', outputs[:2].data)"
   ]
  },
  {
   "cell_type": "code",
   "execution_count": 13,
   "metadata": {
    "execution": {
     "iopub.execute_input": "2020-12-06T15:57:36.503042Z",
     "iopub.status.busy": "2020-12-06T15:57:36.502174Z",
     "iopub.status.idle": "2020-12-06T15:57:37.200915Z",
     "shell.execute_reply": "2020-12-06T15:57:37.200023Z"
    },
    "papermill": {
     "duration": 0.771234,
     "end_time": "2020-12-06T15:57:37.201047",
     "exception": false,
     "start_time": "2020-12-06T15:57:36.429813",
     "status": "completed"
    },
    "tags": []
   },
   "outputs": [
    {
     "name": "stdout",
     "output_type": "stream",
     "text": [
      "xb shape torch.Size([1000, 1, 28, 28])\n",
      "yb shape torch.Size([1000])\n"
     ]
    }
   ],
   "source": [
    "for xb, yb in val_loader:\n",
    "    print('xb shape', xb.shape)\n",
    "    print('yb shape', yb.shape)\n",
    "    break"
   ]
  },
  {
   "cell_type": "markdown",
   "metadata": {
    "papermill": {
     "duration": 0.068126,
     "end_time": "2020-12-06T15:57:37.336689",
     "exception": false,
     "start_time": "2020-12-06T15:57:37.268563",
     "status": "completed"
    },
    "tags": []
   },
   "source": [
    "## Training the Model\n",
    "\n",
    "Vamos a definir algunas funciones que servirán para entrena el modelo. El entrenamiento se realizará con un learning rate variable a lo largo de los batches. Se podría hacer con un lr constante haciendo algunas modificacione en el código.\n",
    "\n",
    "Más documentacion sobre [lr variables](http://https://pytorch.org/docs/stable/optim.html?highlight=one%20cycle#torch.optim.lr_scheduler.OneCycleLR)"
   ]
  },
  {
   "cell_type": "code",
   "execution_count": 14,
   "metadata": {
    "execution": {
     "iopub.execute_input": "2020-12-06T15:57:37.484762Z",
     "iopub.status.busy": "2020-12-06T15:57:37.483866Z",
     "iopub.status.idle": "2020-12-06T15:57:37.487561Z",
     "shell.execute_reply": "2020-12-06T15:57:37.487037Z"
    },
    "papermill": {
     "duration": 0.084502,
     "end_time": "2020-12-06T15:57:37.487705",
     "exception": false,
     "start_time": "2020-12-06T15:57:37.403203",
     "status": "completed"
    },
    "tags": []
   },
   "outputs": [],
   "source": [
    "@torch.no_grad()\n",
    "def evaluate(model, val_loader):\n",
    "    model.eval()\n",
    "    outputs = [model.validation_step(batch) for batch in val_loader]\n",
    "    return model.validation_epoch_end(outputs)\n",
    "\n",
    "def get_lr(optimizer):\n",
    "    for param_group in optimizer.param_groups:\n",
    "        return param_group['lr']\n",
    "\n",
    "def fit_one_cycle(epochs, max_lr, model, train_loader, val_loader, \n",
    "                 grad_clip=None, opt_func=torch.optim.SGD):\n",
    "    torch.cuda.empty_cache()\n",
    "    history = []\n",
    "    \n",
    "    # Set up cutom optimizer with weight decay\n",
    "    optimizer = opt_func(model.parameters(), max_lr)\n",
    "    # Set up one-cycle learning rate scheduler\n",
    "    sched = torch.optim.lr_scheduler.OneCycleLR(optimizer, max_lr, epochs=epochs, \n",
    "                                                steps_per_epoch=len(train_loader))\n",
    "    \n",
    "    for epoch in range(epochs):\n",
    "        # Training Phase \n",
    "        model.train()\n",
    "        train_losses = []\n",
    "        lrs = []\n",
    "        for batch in train_loader:\n",
    "            loss = model.training_step(batch)\n",
    "            train_losses.append(loss)\n",
    "            loss.backward()\n",
    "            \n",
    "            # Gradient clipping\n",
    "            if grad_clip: \n",
    "                nn.utils.clip_grad_value_(model.parameters(), grad_clip)\n",
    "            \n",
    "            optimizer.step()\n",
    "            optimizer.zero_grad()\n",
    "            \n",
    "            # Record & update learning rate\n",
    "            lrs.append(get_lr(optimizer))\n",
    "            sched.step()\n",
    "        \n",
    "        # Validation phase\n",
    "        result = evaluate(model, val_loader)\n",
    "        result['train_loss'] = torch.stack(train_losses).mean().item()\n",
    "        result['lrs'] = lrs\n",
    "        model.epoch_end(epoch, result)\n",
    "        history.append(result)\n",
    "    return history"
   ]
  },
  {
   "cell_type": "markdown",
   "metadata": {
    "papermill": {
     "duration": 0.053994,
     "end_time": "2020-12-06T15:57:37.587325",
     "exception": false,
     "start_time": "2020-12-06T15:57:37.533331",
     "status": "completed"
    },
    "tags": []
   },
   "source": [
    "Con lo siguiente podremos ver cómo se desempeña el modelo con un conjunto inicial de pesos. Si vamos a entrenar definitivamente, recomiendo reiniciar el kerne y saltar este paso."
   ]
  },
  {
   "cell_type": "code",
   "execution_count": 15,
   "metadata": {
    "execution": {
     "iopub.execute_input": "2020-12-06T15:57:37.703025Z",
     "iopub.status.busy": "2020-12-06T15:57:37.702002Z",
     "iopub.status.idle": "2020-12-06T15:57:37.705900Z",
     "shell.execute_reply": "2020-12-06T15:57:37.705047Z"
    },
    "papermill": {
     "duration": 0.058627,
     "end_time": "2020-12-06T15:57:37.706022",
     "exception": false,
     "start_time": "2020-12-06T15:57:37.647395",
     "status": "completed"
    },
    "tags": []
   },
   "outputs": [],
   "source": [
    "#history = [evaluate(model, val_loader)]\n",
    "#history"
   ]
  },
  {
   "cell_type": "markdown",
   "metadata": {
    "papermill": {
     "duration": 0.072603,
     "end_time": "2020-12-06T15:57:37.846411",
     "exception": false,
     "start_time": "2020-12-06T15:57:37.773808",
     "status": "completed"
    },
    "tags": []
   },
   "source": [
    "Elegimos los parámetros con los que entrenaremos"
   ]
  },
  {
   "cell_type": "code",
   "execution_count": 16,
   "metadata": {
    "execution": {
     "iopub.execute_input": "2020-12-06T15:57:37.992271Z",
     "iopub.status.busy": "2020-12-06T15:57:37.991630Z",
     "iopub.status.idle": "2020-12-06T15:57:37.995993Z",
     "shell.execute_reply": "2020-12-06T15:57:37.995111Z"
    },
    "papermill": {
     "duration": 0.078951,
     "end_time": "2020-12-06T15:57:37.996125",
     "exception": false,
     "start_time": "2020-12-06T15:57:37.917174",
     "status": "completed"
    },
    "tags": []
   },
   "outputs": [],
   "source": [
    "epochs = 30\n",
    "max_lr = 0.1\n",
    "grad_clip = 0.1\n",
    "weight_decay = 1e-4\n",
    "input_size = 784"
   ]
  },
  {
   "cell_type": "markdown",
   "metadata": {
    "papermill": {
     "duration": 0.070303,
     "end_time": "2020-12-06T15:57:38.135631",
     "exception": false,
     "start_time": "2020-12-06T15:57:38.065328",
     "status": "completed"
    },
    "tags": []
   },
   "source": [
    "Entrenaremos con diferentes tamaños de capas ocultas para después comparar con cuál se desempeña mejor el modelo."
   ]
  },
  {
   "cell_type": "code",
   "execution_count": 17,
   "metadata": {
    "execution": {
     "iopub.execute_input": "2020-12-06T15:57:38.278843Z",
     "iopub.status.busy": "2020-12-06T15:57:38.277942Z",
     "iopub.status.idle": "2020-12-06T15:57:38.342040Z",
     "shell.execute_reply": "2020-12-06T15:57:38.342619Z"
    },
    "papermill": {
     "duration": 0.138489,
     "end_time": "2020-12-06T15:57:38.342754",
     "exception": false,
     "start_time": "2020-12-06T15:57:38.204265",
     "status": "completed"
    },
    "tags": []
   },
   "outputs": [
    {
     "ename": "NameError",
     "evalue": "name 'to_device' is not defined",
     "output_type": "error",
     "traceback": [
      "\u001b[0;31m---------------------------------------------------------------------------\u001b[0m",
      "\u001b[0;31mNameError\u001b[0m                                 Traceback (most recent call last)",
      "\u001b[0;32m<ipython-input-17-9de37c0e895d>\u001b[0m in \u001b[0;36m<module>\u001b[0;34m\u001b[0m\n\u001b[1;32m      2\u001b[0m \u001b[0;34m\u001b[0m\u001b[0m\n\u001b[1;32m      3\u001b[0m \u001b[0mmodel1\u001b[0m \u001b[0;34m=\u001b[0m \u001b[0mMnistModel\u001b[0m\u001b[0;34m(\u001b[0m\u001b[0minput_size\u001b[0m\u001b[0;34m,\u001b[0m \u001b[0mhidden_size\u001b[0m\u001b[0;34m=\u001b[0m\u001b[0mhidden_size1\u001b[0m\u001b[0;34m,\u001b[0m \u001b[0mout_size\u001b[0m\u001b[0;34m=\u001b[0m\u001b[0minput_size\u001b[0m\u001b[0;34m)\u001b[0m\u001b[0;34m\u001b[0m\u001b[0;34m\u001b[0m\u001b[0m\n\u001b[0;32m----> 4\u001b[0;31m \u001b[0mto_device\u001b[0m\u001b[0;34m(\u001b[0m\u001b[0mmodel1\u001b[0m\u001b[0;34m,\u001b[0m \u001b[0mdevice\u001b[0m\u001b[0;34m)\u001b[0m\u001b[0;34m\u001b[0m\u001b[0;34m\u001b[0m\u001b[0m\n\u001b[0m\u001b[1;32m      5\u001b[0m \u001b[0;34m\u001b[0m\u001b[0m\n\u001b[1;32m      6\u001b[0m \u001b[0mhistory1\u001b[0m \u001b[0;34m=\u001b[0m \u001b[0;34m[\u001b[0m\u001b[0mevaluate\u001b[0m\u001b[0;34m(\u001b[0m\u001b[0mmodel1\u001b[0m\u001b[0;34m,\u001b[0m \u001b[0mval_loader\u001b[0m\u001b[0;34m)\u001b[0m\u001b[0;34m]\u001b[0m\u001b[0;34m\u001b[0m\u001b[0;34m\u001b[0m\u001b[0m\n",
      "\u001b[0;31mNameError\u001b[0m: name 'to_device' is not defined"
     ]
    }
   ],
   "source": [
    "hidden_size1 = 64 \n",
    "\n",
    "model1 = MnistModel(input_size, hidden_size=hidden_size1, out_size=input_size)\n",
    "to_device(model1, device)\n",
    "\n",
    "history1 = [evaluate(model1, val_loader)]\n",
    "history1"
   ]
  },
  {
   "cell_type": "code",
   "execution_count": 18,
   "metadata": {
    "execution": {
     "iopub.execute_input": "2020-12-06T15:57:38.443237Z",
     "iopub.status.busy": "2020-12-06T15:57:38.442584Z",
     "iopub.status.idle": "2020-12-06T15:57:38.457121Z",
     "shell.execute_reply": "2020-12-06T15:57:38.456511Z"
    },
    "papermill": {
     "duration": 0.067354,
     "end_time": "2020-12-06T15:57:38.457245",
     "exception": false,
     "start_time": "2020-12-06T15:57:38.389891",
     "status": "completed"
    },
    "tags": []
   },
   "outputs": [
    {
     "ename": "NameError",
     "evalue": "name 'history1' is not defined",
     "output_type": "error",
     "traceback": [
      "\u001b[0;31m---------------------------------------------------------------------------\u001b[0m",
      "\u001b[0;31mNameError\u001b[0m                                 Traceback (most recent call last)",
      "\u001b[0;32m<timed exec>\u001b[0m in \u001b[0;36m<module>\u001b[0;34m\u001b[0m\n",
      "\u001b[0;31mNameError\u001b[0m: name 'history1' is not defined"
     ]
    }
   ],
   "source": [
    "%%time\n",
    "history1 += fit_one_cycle(epochs, max_lr, model1, train_loader, val_loader,grad_clip=grad_clip)"
   ]
  },
  {
   "cell_type": "code",
   "execution_count": 19,
   "metadata": {
    "execution": {
     "iopub.execute_input": "2020-12-06T15:57:38.559603Z",
     "iopub.status.busy": "2020-12-06T15:57:38.558937Z",
     "iopub.status.idle": "2020-12-06T15:57:38.573541Z",
     "shell.execute_reply": "2020-12-06T15:57:38.572938Z"
    },
    "papermill": {
     "duration": 0.068477,
     "end_time": "2020-12-06T15:57:38.573654",
     "exception": false,
     "start_time": "2020-12-06T15:57:38.505177",
     "status": "completed"
    },
    "tags": []
   },
   "outputs": [
    {
     "ename": "NameError",
     "evalue": "name 'to_device' is not defined",
     "output_type": "error",
     "traceback": [
      "\u001b[0;31m---------------------------------------------------------------------------\u001b[0m",
      "\u001b[0;31mNameError\u001b[0m                                 Traceback (most recent call last)",
      "\u001b[0;32m<ipython-input-19-547680cb69f5>\u001b[0m in \u001b[0;36m<module>\u001b[0;34m\u001b[0m\n\u001b[1;32m      2\u001b[0m \u001b[0;34m\u001b[0m\u001b[0m\n\u001b[1;32m      3\u001b[0m \u001b[0mmodel2\u001b[0m \u001b[0;34m=\u001b[0m \u001b[0mMnistModel\u001b[0m\u001b[0;34m(\u001b[0m\u001b[0minput_size\u001b[0m\u001b[0;34m,\u001b[0m \u001b[0mhidden_size\u001b[0m\u001b[0;34m=\u001b[0m\u001b[0mhidden_size2\u001b[0m\u001b[0;34m,\u001b[0m \u001b[0mout_size\u001b[0m\u001b[0;34m=\u001b[0m\u001b[0minput_size\u001b[0m\u001b[0;34m)\u001b[0m\u001b[0;34m\u001b[0m\u001b[0;34m\u001b[0m\u001b[0m\n\u001b[0;32m----> 4\u001b[0;31m \u001b[0mto_device\u001b[0m\u001b[0;34m(\u001b[0m\u001b[0mmodel2\u001b[0m\u001b[0;34m,\u001b[0m \u001b[0mdevice\u001b[0m\u001b[0;34m)\u001b[0m\u001b[0;34m\u001b[0m\u001b[0;34m\u001b[0m\u001b[0m\n\u001b[0m\u001b[1;32m      5\u001b[0m \u001b[0;34m\u001b[0m\u001b[0m\n\u001b[1;32m      6\u001b[0m \u001b[0mhistory2\u001b[0m \u001b[0;34m=\u001b[0m \u001b[0;34m[\u001b[0m\u001b[0mevaluate\u001b[0m\u001b[0;34m(\u001b[0m\u001b[0mmodel2\u001b[0m\u001b[0;34m,\u001b[0m \u001b[0mval_loader\u001b[0m\u001b[0;34m)\u001b[0m\u001b[0;34m]\u001b[0m\u001b[0;34m\u001b[0m\u001b[0;34m\u001b[0m\u001b[0m\n",
      "\u001b[0;31mNameError\u001b[0m: name 'to_device' is not defined"
     ]
    }
   ],
   "source": [
    "hidden_size2 = 128\n",
    "\n",
    "model2 = MnistModel(input_size, hidden_size=hidden_size2, out_size=input_size)\n",
    "to_device(model2, device)\n",
    "\n",
    "history2 = [evaluate(model2, val_loader)]\n",
    "history2"
   ]
  },
  {
   "cell_type": "code",
   "execution_count": 20,
   "metadata": {
    "execution": {
     "iopub.execute_input": "2020-12-06T15:57:38.679798Z",
     "iopub.status.busy": "2020-12-06T15:57:38.678895Z",
     "iopub.status.idle": "2020-12-06T15:57:38.684268Z",
     "shell.execute_reply": "2020-12-06T15:57:38.683776Z"
    },
    "papermill": {
     "duration": 0.063136,
     "end_time": "2020-12-06T15:57:38.684402",
     "exception": false,
     "start_time": "2020-12-06T15:57:38.621266",
     "status": "completed"
    },
    "tags": []
   },
   "outputs": [
    {
     "ename": "NameError",
     "evalue": "name 'history2' is not defined",
     "output_type": "error",
     "traceback": [
      "\u001b[0;31m---------------------------------------------------------------------------\u001b[0m",
      "\u001b[0;31mNameError\u001b[0m                                 Traceback (most recent call last)",
      "\u001b[0;32m<timed exec>\u001b[0m in \u001b[0;36m<module>\u001b[0;34m\u001b[0m\n",
      "\u001b[0;31mNameError\u001b[0m: name 'history2' is not defined"
     ]
    }
   ],
   "source": [
    "%%time\n",
    "history2 += fit_one_cycle(epochs, max_lr, model2, train_loader, val_loader, grad_clip=grad_clip)"
   ]
  },
  {
   "cell_type": "code",
   "execution_count": 21,
   "metadata": {
    "execution": {
     "iopub.execute_input": "2020-12-06T15:57:38.787430Z",
     "iopub.status.busy": "2020-12-06T15:57:38.786729Z",
     "iopub.status.idle": "2020-12-06T15:57:38.814634Z",
     "shell.execute_reply": "2020-12-06T15:57:38.814072Z"
    },
    "papermill": {
     "duration": 0.082318,
     "end_time": "2020-12-06T15:57:38.814759",
     "exception": false,
     "start_time": "2020-12-06T15:57:38.732441",
     "status": "completed"
    },
    "tags": []
   },
   "outputs": [
    {
     "ename": "NameError",
     "evalue": "name 'to_device' is not defined",
     "output_type": "error",
     "traceback": [
      "\u001b[0;31m---------------------------------------------------------------------------\u001b[0m",
      "\u001b[0;31mNameError\u001b[0m                                 Traceback (most recent call last)",
      "\u001b[0;32m<ipython-input-21-b4e12f49f0c8>\u001b[0m in \u001b[0;36m<module>\u001b[0;34m\u001b[0m\n\u001b[1;32m      2\u001b[0m \u001b[0;34m\u001b[0m\u001b[0m\n\u001b[1;32m      3\u001b[0m \u001b[0mmodel3\u001b[0m \u001b[0;34m=\u001b[0m \u001b[0mMnistModel\u001b[0m\u001b[0;34m(\u001b[0m\u001b[0minput_size\u001b[0m\u001b[0;34m,\u001b[0m \u001b[0mhidden_size\u001b[0m\u001b[0;34m=\u001b[0m\u001b[0mhidden_size3\u001b[0m\u001b[0;34m,\u001b[0m \u001b[0mout_size\u001b[0m\u001b[0;34m=\u001b[0m\u001b[0minput_size\u001b[0m\u001b[0;34m)\u001b[0m\u001b[0;34m\u001b[0m\u001b[0;34m\u001b[0m\u001b[0m\n\u001b[0;32m----> 4\u001b[0;31m \u001b[0mto_device\u001b[0m\u001b[0;34m(\u001b[0m\u001b[0mmodel3\u001b[0m\u001b[0;34m,\u001b[0m \u001b[0mdevice\u001b[0m\u001b[0;34m)\u001b[0m\u001b[0;34m\u001b[0m\u001b[0;34m\u001b[0m\u001b[0m\n\u001b[0m\u001b[1;32m      5\u001b[0m \u001b[0;34m\u001b[0m\u001b[0m\n\u001b[1;32m      6\u001b[0m \u001b[0mhistory3\u001b[0m \u001b[0;34m=\u001b[0m \u001b[0;34m[\u001b[0m\u001b[0mevaluate\u001b[0m\u001b[0;34m(\u001b[0m\u001b[0mmodel3\u001b[0m\u001b[0;34m,\u001b[0m \u001b[0mval_loader\u001b[0m\u001b[0;34m)\u001b[0m\u001b[0;34m]\u001b[0m\u001b[0;34m\u001b[0m\u001b[0;34m\u001b[0m\u001b[0m\n",
      "\u001b[0;31mNameError\u001b[0m: name 'to_device' is not defined"
     ]
    }
   ],
   "source": [
    "hidden_size3 = 256\n",
    "\n",
    "model3 = MnistModel(input_size, hidden_size=hidden_size3, out_size=input_size)\n",
    "to_device(model3, device)\n",
    "\n",
    "history3 = [evaluate(model3, val_loader)]\n",
    "history3"
   ]
  },
  {
   "cell_type": "code",
   "execution_count": 22,
   "metadata": {
    "execution": {
     "iopub.execute_input": "2020-12-06T15:57:38.919013Z",
     "iopub.status.busy": "2020-12-06T15:57:38.918129Z",
     "iopub.status.idle": "2020-12-06T15:57:38.930028Z",
     "shell.execute_reply": "2020-12-06T15:57:38.929153Z"
    },
    "papermill": {
     "duration": 0.065945,
     "end_time": "2020-12-06T15:57:38.930183",
     "exception": false,
     "start_time": "2020-12-06T15:57:38.864238",
     "status": "completed"
    },
    "tags": []
   },
   "outputs": [
    {
     "ename": "NameError",
     "evalue": "name 'history3' is not defined",
     "output_type": "error",
     "traceback": [
      "\u001b[0;31m---------------------------------------------------------------------------\u001b[0m",
      "\u001b[0;31mNameError\u001b[0m                                 Traceback (most recent call last)",
      "\u001b[0;32m<timed exec>\u001b[0m in \u001b[0;36m<module>\u001b[0;34m\u001b[0m\n",
      "\u001b[0;31mNameError\u001b[0m: name 'history3' is not defined"
     ]
    }
   ],
   "source": [
    "%%time\n",
    "history3 += fit_one_cycle(epochs, max_lr, model3, train_loader, val_loader, grad_clip=grad_clip)"
   ]
  },
  {
   "cell_type": "code",
   "execution_count": 23,
   "metadata": {
    "execution": {
     "iopub.execute_input": "2020-12-06T15:57:39.080247Z",
     "iopub.status.busy": "2020-12-06T15:57:39.079515Z",
     "iopub.status.idle": "2020-12-06T15:57:39.098171Z",
     "shell.execute_reply": "2020-12-06T15:57:39.097661Z"
    },
    "papermill": {
     "duration": 0.095641,
     "end_time": "2020-12-06T15:57:39.098302",
     "exception": false,
     "start_time": "2020-12-06T15:57:39.002661",
     "status": "completed"
    },
    "tags": []
   },
   "outputs": [
    {
     "ename": "NameError",
     "evalue": "name 'to_device' is not defined",
     "output_type": "error",
     "traceback": [
      "\u001b[0;31m---------------------------------------------------------------------------\u001b[0m",
      "\u001b[0;31mNameError\u001b[0m                                 Traceback (most recent call last)",
      "\u001b[0;32m<ipython-input-23-31b5909d1dfa>\u001b[0m in \u001b[0;36m<module>\u001b[0;34m\u001b[0m\n\u001b[1;32m      2\u001b[0m \u001b[0;34m\u001b[0m\u001b[0m\n\u001b[1;32m      3\u001b[0m \u001b[0mmodel4\u001b[0m \u001b[0;34m=\u001b[0m \u001b[0mMnistModel\u001b[0m\u001b[0;34m(\u001b[0m\u001b[0minput_size\u001b[0m\u001b[0;34m,\u001b[0m \u001b[0mhidden_size\u001b[0m\u001b[0;34m=\u001b[0m\u001b[0mhidden_size4\u001b[0m\u001b[0;34m,\u001b[0m \u001b[0mout_size\u001b[0m\u001b[0;34m=\u001b[0m\u001b[0minput_size\u001b[0m\u001b[0;34m)\u001b[0m\u001b[0;34m\u001b[0m\u001b[0;34m\u001b[0m\u001b[0m\n\u001b[0;32m----> 4\u001b[0;31m \u001b[0mto_device\u001b[0m\u001b[0;34m(\u001b[0m\u001b[0mmodel4\u001b[0m\u001b[0;34m,\u001b[0m \u001b[0mdevice\u001b[0m\u001b[0;34m)\u001b[0m\u001b[0;34m\u001b[0m\u001b[0;34m\u001b[0m\u001b[0m\n\u001b[0m\u001b[1;32m      5\u001b[0m \u001b[0;34m\u001b[0m\u001b[0m\n\u001b[1;32m      6\u001b[0m \u001b[0;34m\u001b[0m\u001b[0m\n",
      "\u001b[0;31mNameError\u001b[0m: name 'to_device' is not defined"
     ]
    }
   ],
   "source": [
    "hidden_size4 = 512\n",
    "\n",
    "model4 = MnistModel(input_size, hidden_size=hidden_size4, out_size=input_size)\n",
    "to_device(model4, device)\n",
    "\n",
    "\n",
    "history4 = [evaluate(model4, val_loader)]\n",
    "history4"
   ]
  },
  {
   "cell_type": "code",
   "execution_count": 24,
   "metadata": {
    "execution": {
     "iopub.execute_input": "2020-12-06T15:57:39.210081Z",
     "iopub.status.busy": "2020-12-06T15:57:39.209393Z",
     "iopub.status.idle": "2020-12-06T15:57:39.215082Z",
     "shell.execute_reply": "2020-12-06T15:57:39.214242Z"
    },
    "papermill": {
     "duration": 0.067397,
     "end_time": "2020-12-06T15:57:39.215219",
     "exception": false,
     "start_time": "2020-12-06T15:57:39.147822",
     "status": "completed"
    },
    "tags": []
   },
   "outputs": [
    {
     "ename": "NameError",
     "evalue": "name 'history4' is not defined",
     "output_type": "error",
     "traceback": [
      "\u001b[0;31m---------------------------------------------------------------------------\u001b[0m",
      "\u001b[0;31mNameError\u001b[0m                                 Traceback (most recent call last)",
      "\u001b[0;32m<timed exec>\u001b[0m in \u001b[0;36m<module>\u001b[0;34m\u001b[0m\n",
      "\u001b[0;31mNameError\u001b[0m: name 'history4' is not defined"
     ]
    }
   ],
   "source": [
    "%%time\n",
    "history4 += fit_one_cycle(epochs, max_lr, model4, train_loader, val_loader, grad_clip=grad_clip)"
   ]
  },
  {
   "cell_type": "markdown",
   "metadata": {
    "papermill": {
     "duration": 0.073998,
     "end_time": "2020-12-06T15:57:39.363035",
     "exception": false,
     "start_time": "2020-12-06T15:57:39.289037",
     "status": "completed"
    },
    "tags": []
   },
   "source": [
    "## Ploteos"
   ]
  },
  {
   "cell_type": "markdown",
   "metadata": {
    "papermill": {
     "duration": 0.073543,
     "end_time": "2020-12-06T15:57:39.509979",
     "exception": false,
     "start_time": "2020-12-06T15:57:39.436436",
     "status": "completed"
    },
    "tags": []
   },
   "source": [
    "### Error cuadrático medio de val"
   ]
  },
  {
   "cell_type": "code",
   "execution_count": 25,
   "metadata": {
    "execution": {
     "iopub.execute_input": "2020-12-06T15:57:39.672242Z",
     "iopub.status.busy": "2020-12-06T15:57:39.665123Z",
     "iopub.status.idle": "2020-12-06T15:57:39.677853Z",
     "shell.execute_reply": "2020-12-06T15:57:39.677247Z"
    },
    "papermill": {
     "duration": 0.093771,
     "end_time": "2020-12-06T15:57:39.677964",
     "exception": false,
     "start_time": "2020-12-06T15:57:39.584193",
     "status": "completed"
    },
    "tags": []
   },
   "outputs": [
    {
     "ename": "NameError",
     "evalue": "name 'history1' is not defined",
     "output_type": "error",
     "traceback": [
      "\u001b[0;31m---------------------------------------------------------------------------\u001b[0m",
      "\u001b[0;31mNameError\u001b[0m                                 Traceback (most recent call last)",
      "\u001b[0;32m<ipython-input-25-01d2857cf7dc>\u001b[0m in \u001b[0;36m<module>\u001b[0;34m\u001b[0m\n\u001b[0;32m----> 1\u001b[0;31m \u001b[0mvloss1\u001b[0m \u001b[0;34m=\u001b[0m \u001b[0;34m[\u001b[0m\u001b[0mx\u001b[0m\u001b[0;34m[\u001b[0m\u001b[0;34m'val_loss'\u001b[0m\u001b[0;34m]\u001b[0m \u001b[0;32mfor\u001b[0m \u001b[0mx\u001b[0m \u001b[0;32min\u001b[0m \u001b[0mhistory1\u001b[0m\u001b[0;34m]\u001b[0m\u001b[0;34m\u001b[0m\u001b[0;34m\u001b[0m\u001b[0m\n\u001b[0m\u001b[1;32m      2\u001b[0m \u001b[0mvloss2\u001b[0m \u001b[0;34m=\u001b[0m \u001b[0;34m[\u001b[0m\u001b[0mx\u001b[0m\u001b[0;34m[\u001b[0m\u001b[0;34m'val_loss'\u001b[0m\u001b[0;34m]\u001b[0m \u001b[0;32mfor\u001b[0m \u001b[0mx\u001b[0m \u001b[0;32min\u001b[0m \u001b[0mhistory2\u001b[0m\u001b[0;34m]\u001b[0m\u001b[0;34m\u001b[0m\u001b[0;34m\u001b[0m\u001b[0m\n\u001b[1;32m      3\u001b[0m \u001b[0mvloss3\u001b[0m \u001b[0;34m=\u001b[0m \u001b[0;34m[\u001b[0m\u001b[0mx\u001b[0m\u001b[0;34m[\u001b[0m\u001b[0;34m'val_loss'\u001b[0m\u001b[0;34m]\u001b[0m \u001b[0;32mfor\u001b[0m \u001b[0mx\u001b[0m \u001b[0;32min\u001b[0m \u001b[0mhistory3\u001b[0m\u001b[0;34m]\u001b[0m\u001b[0;34m\u001b[0m\u001b[0;34m\u001b[0m\u001b[0m\n\u001b[1;32m      4\u001b[0m \u001b[0mvloss4\u001b[0m \u001b[0;34m=\u001b[0m \u001b[0;34m[\u001b[0m\u001b[0mx\u001b[0m\u001b[0;34m[\u001b[0m\u001b[0;34m'val_loss'\u001b[0m\u001b[0;34m]\u001b[0m \u001b[0;32mfor\u001b[0m \u001b[0mx\u001b[0m \u001b[0;32min\u001b[0m \u001b[0mhistory4\u001b[0m\u001b[0;34m]\u001b[0m\u001b[0;34m\u001b[0m\u001b[0;34m\u001b[0m\u001b[0m\n\u001b[1;32m      5\u001b[0m \u001b[0mplt\u001b[0m\u001b[0;34m.\u001b[0m\u001b[0mplot\u001b[0m\u001b[0;34m(\u001b[0m\u001b[0mvloss1\u001b[0m\u001b[0;34m,\u001b[0m \u001b[0;34m'-r.'\u001b[0m\u001b[0;34m,\u001b[0m \u001b[0mlabel\u001b[0m\u001b[0;34m=\u001b[0m\u001b[0;34m'64'\u001b[0m\u001b[0;34m)\u001b[0m\u001b[0;34m\u001b[0m\u001b[0;34m\u001b[0m\u001b[0m\n",
      "\u001b[0;31mNameError\u001b[0m: name 'history1' is not defined"
     ]
    }
   ],
   "source": [
    "vloss1 = [x['val_loss'] for x in history1]\n",
    "vloss2 = [x['val_loss'] for x in history2]\n",
    "vloss3 = [x['val_loss'] for x in history3]\n",
    "vloss4 = [x['val_loss'] for x in history4]\n",
    "plt.plot(vloss1, '-r.', label='64')\n",
    "plt.plot(vloss2, '-b.', label='128')\n",
    "plt.plot(vloss3, '-g.', label='256')\n",
    "plt.plot(vloss4, '-m.', label='512')\n",
    "\n",
    "plt.xlabel('epoca')\n",
    "plt.ylabel('error')\n",
    "plt.title('Error cuadrático medio - Test')\n",
    "plt.legend(title='Tamaño capa oculta')"
   ]
  },
  {
   "cell_type": "markdown",
   "metadata": {
    "papermill": {
     "duration": 0.049641,
     "end_time": "2020-12-06T15:57:39.777882",
     "exception": false,
     "start_time": "2020-12-06T15:57:39.728241",
     "status": "completed"
    },
    "tags": []
   },
   "source": [
    "### Error cuadrático medio de train"
   ]
  },
  {
   "cell_type": "code",
   "execution_count": 26,
   "metadata": {
    "execution": {
     "iopub.execute_input": "2020-12-06T15:57:39.896317Z",
     "iopub.status.busy": "2020-12-06T15:57:39.895513Z",
     "iopub.status.idle": "2020-12-06T15:57:39.901032Z",
     "shell.execute_reply": "2020-12-06T15:57:39.900496Z"
    },
    "papermill": {
     "duration": 0.072617,
     "end_time": "2020-12-06T15:57:39.901149",
     "exception": false,
     "start_time": "2020-12-06T15:57:39.828532",
     "status": "completed"
    },
    "tags": []
   },
   "outputs": [
    {
     "ename": "NameError",
     "evalue": "name 'history1' is not defined",
     "output_type": "error",
     "traceback": [
      "\u001b[0;31m---------------------------------------------------------------------------\u001b[0m",
      "\u001b[0;31mNameError\u001b[0m                                 Traceback (most recent call last)",
      "\u001b[0;32m<ipython-input-26-e0c783fbe8af>\u001b[0m in \u001b[0;36m<module>\u001b[0;34m\u001b[0m\n\u001b[0;32m----> 1\u001b[0;31m \u001b[0mtloss1\u001b[0m \u001b[0;34m=\u001b[0m \u001b[0;34m[\u001b[0m\u001b[0mx\u001b[0m\u001b[0;34m.\u001b[0m\u001b[0mget\u001b[0m\u001b[0;34m(\u001b[0m\u001b[0;34m'train_loss'\u001b[0m\u001b[0;34m)\u001b[0m \u001b[0;32mfor\u001b[0m \u001b[0mx\u001b[0m \u001b[0;32min\u001b[0m \u001b[0mhistory1\u001b[0m\u001b[0;34m]\u001b[0m\u001b[0;34m\u001b[0m\u001b[0;34m\u001b[0m\u001b[0m\n\u001b[0m\u001b[1;32m      2\u001b[0m \u001b[0mtloss2\u001b[0m \u001b[0;34m=\u001b[0m \u001b[0;34m[\u001b[0m\u001b[0mx\u001b[0m\u001b[0;34m.\u001b[0m\u001b[0mget\u001b[0m\u001b[0;34m(\u001b[0m\u001b[0;34m'train_loss'\u001b[0m\u001b[0;34m)\u001b[0m \u001b[0;32mfor\u001b[0m \u001b[0mx\u001b[0m \u001b[0;32min\u001b[0m \u001b[0mhistory2\u001b[0m\u001b[0;34m]\u001b[0m\u001b[0;34m\u001b[0m\u001b[0;34m\u001b[0m\u001b[0m\n\u001b[1;32m      3\u001b[0m \u001b[0mtloss3\u001b[0m \u001b[0;34m=\u001b[0m \u001b[0;34m[\u001b[0m\u001b[0mx\u001b[0m\u001b[0;34m.\u001b[0m\u001b[0mget\u001b[0m\u001b[0;34m(\u001b[0m\u001b[0;34m'train_loss'\u001b[0m\u001b[0;34m)\u001b[0m \u001b[0;32mfor\u001b[0m \u001b[0mx\u001b[0m \u001b[0;32min\u001b[0m \u001b[0mhistory3\u001b[0m\u001b[0;34m]\u001b[0m\u001b[0;34m\u001b[0m\u001b[0;34m\u001b[0m\u001b[0m\n\u001b[1;32m      4\u001b[0m \u001b[0mtloss4\u001b[0m \u001b[0;34m=\u001b[0m \u001b[0;34m[\u001b[0m\u001b[0mx\u001b[0m\u001b[0;34m.\u001b[0m\u001b[0mget\u001b[0m\u001b[0;34m(\u001b[0m\u001b[0;34m'train_loss'\u001b[0m\u001b[0;34m)\u001b[0m \u001b[0;32mfor\u001b[0m \u001b[0mx\u001b[0m \u001b[0;32min\u001b[0m \u001b[0mhistory4\u001b[0m\u001b[0;34m]\u001b[0m\u001b[0;34m\u001b[0m\u001b[0;34m\u001b[0m\u001b[0m\n\u001b[1;32m      5\u001b[0m \u001b[0mplt\u001b[0m\u001b[0;34m.\u001b[0m\u001b[0mplot\u001b[0m\u001b[0;34m(\u001b[0m\u001b[0mtloss1\u001b[0m\u001b[0;34m,\u001b[0m \u001b[0;34m'-r.'\u001b[0m\u001b[0;34m,\u001b[0m \u001b[0mlabel\u001b[0m\u001b[0;34m=\u001b[0m\u001b[0;34m'64'\u001b[0m\u001b[0;34m)\u001b[0m\u001b[0;34m\u001b[0m\u001b[0;34m\u001b[0m\u001b[0m\n",
      "\u001b[0;31mNameError\u001b[0m: name 'history1' is not defined"
     ]
    }
   ],
   "source": [
    "tloss1 = [x.get('train_loss') for x in history1]\n",
    "tloss2 = [x.get('train_loss') for x in history2]\n",
    "tloss3 = [x.get('train_loss') for x in history3]\n",
    "tloss4 = [x.get('train_loss') for x in history4]\n",
    "plt.plot(tloss1, '-r.', label='64')\n",
    "plt.plot(tloss2, '-b.', label='128')\n",
    "plt.plot(tloss3, '-g.', label='256')\n",
    "plt.plot(tloss4, '-m.', label='512')\n",
    "\n",
    "plt.xlabel('epoca')\n",
    "plt.ylabel('error')\n",
    "plt.title('Error cuadrático medio - Train')\n",
    "plt.legend(title='Tamaño capa oculta')"
   ]
  },
  {
   "cell_type": "markdown",
   "metadata": {
    "papermill": {
     "duration": 0.051431,
     "end_time": "2020-12-06T15:57:40.004550",
     "exception": false,
     "start_time": "2020-12-06T15:57:39.953119",
     "status": "completed"
    },
    "tags": []
   },
   "source": [
    "### Función de pérdida vs numero de epoca"
   ]
  },
  {
   "cell_type": "code",
   "execution_count": 27,
   "metadata": {
    "execution": {
     "iopub.execute_input": "2020-12-06T15:57:40.116918Z",
     "iopub.status.busy": "2020-12-06T15:57:40.115787Z",
     "iopub.status.idle": "2020-12-06T15:57:40.119352Z",
     "shell.execute_reply": "2020-12-06T15:57:40.118521Z"
    },
    "papermill": {
     "duration": 0.063523,
     "end_time": "2020-12-06T15:57:40.119483",
     "exception": false,
     "start_time": "2020-12-06T15:57:40.055960",
     "status": "completed"
    },
    "tags": []
   },
   "outputs": [],
   "source": [
    "def plot_losses(history):\n",
    "    train_losses = [x.get('train_loss') for x in history]\n",
    "    val_losses = [x['val_loss'] for x in history]\n",
    "    plt.plot(train_losses, '-b.')\n",
    "    plt.plot(val_losses, '-r.')\n",
    "    plt.xlabel('epoch')\n",
    "    plt.ylabel('loss')\n",
    "    plt.legend(['Training', 'Validation'])\n",
    "    plt.title('Loss vs. No. of epochs');"
   ]
  },
  {
   "cell_type": "markdown",
   "metadata": {
    "papermill": {
     "duration": 0.076465,
     "end_time": "2020-12-06T15:57:40.272370",
     "exception": false,
     "start_time": "2020-12-06T15:57:40.195905",
     "status": "completed"
    },
    "tags": []
   },
   "source": [
    "### Learning rate vs batch"
   ]
  },
  {
   "cell_type": "code",
   "execution_count": 28,
   "metadata": {
    "execution": {
     "iopub.execute_input": "2020-12-06T15:57:40.441873Z",
     "iopub.status.busy": "2020-12-06T15:57:40.440976Z",
     "iopub.status.idle": "2020-12-06T15:57:40.446735Z",
     "shell.execute_reply": "2020-12-06T15:57:40.446122Z"
    },
    "papermill": {
     "duration": 0.096649,
     "end_time": "2020-12-06T15:57:40.446851",
     "exception": false,
     "start_time": "2020-12-06T15:57:40.350202",
     "status": "completed"
    },
    "tags": []
   },
   "outputs": [
    {
     "ename": "NameError",
     "evalue": "name 'history4' is not defined",
     "output_type": "error",
     "traceback": [
      "\u001b[0;31m---------------------------------------------------------------------------\u001b[0m",
      "\u001b[0;31mNameError\u001b[0m                                 Traceback (most recent call last)",
      "\u001b[0;32m<ipython-input-28-71071c6c5d7f>\u001b[0m in \u001b[0;36m<module>\u001b[0;34m\u001b[0m\n\u001b[1;32m      6\u001b[0m     \u001b[0mplt\u001b[0m\u001b[0;34m.\u001b[0m\u001b[0mtitle\u001b[0m\u001b[0;34m(\u001b[0m\u001b[0;34m'Learning Rate vs. Batch no.'\u001b[0m\u001b[0;34m)\u001b[0m\u001b[0;34m;\u001b[0m\u001b[0;34m\u001b[0m\u001b[0;34m\u001b[0m\u001b[0m\n\u001b[1;32m      7\u001b[0m \u001b[0;34m\u001b[0m\u001b[0m\n\u001b[0;32m----> 8\u001b[0;31m \u001b[0mplot_lrs\u001b[0m\u001b[0;34m(\u001b[0m\u001b[0mhistory4\u001b[0m\u001b[0;34m)\u001b[0m\u001b[0;34m\u001b[0m\u001b[0;34m\u001b[0m\u001b[0m\n\u001b[0m",
      "\u001b[0;31mNameError\u001b[0m: name 'history4' is not defined"
     ]
    }
   ],
   "source": [
    "def plot_lrs(history):\n",
    "    lrs = np.concatenate([x.get('lrs', []) for x in history])\n",
    "    plt.plot(lrs)\n",
    "    plt.xlabel('Batch no.')\n",
    "    plt.ylabel('Learning rate')\n",
    "    plt.title('Learning Rate vs. Batch no.');\n",
    "    \n",
    "plot_lrs(history4)"
   ]
  },
  {
   "cell_type": "markdown",
   "metadata": {
    "papermill": {
     "duration": 0.051358,
     "end_time": "2020-12-06T15:57:40.550256",
     "exception": false,
     "start_time": "2020-12-06T15:57:40.498898",
     "status": "completed"
    },
    "tags": []
   },
   "source": [
    "## Testeo\n",
    "Con las siguientes funciones podremos graficar un autput del modelo junto con la imagen original, de forma que podamos comparar."
   ]
  },
  {
   "cell_type": "code",
   "execution_count": 29,
   "metadata": {
    "execution": {
     "iopub.execute_input": "2020-12-06T15:57:40.680428Z",
     "iopub.status.busy": "2020-12-06T15:57:40.679491Z",
     "iopub.status.idle": "2020-12-06T15:57:40.684729Z",
     "shell.execute_reply": "2020-12-06T15:57:40.685393Z"
    },
    "papermill": {
     "duration": 0.076385,
     "end_time": "2020-12-06T15:57:40.685575",
     "exception": false,
     "start_time": "2020-12-06T15:57:40.609190",
     "status": "completed"
    },
    "tags": []
   },
   "outputs": [],
   "source": [
    "#Test\n",
    "def predict_image(img, model):\n",
    "    xb = to_device(img.unsqueeze(0), device)  # Convert to a batch of 1\n",
    "    yb = model(xb) # Get predictions from model\n",
    "    return yb"
   ]
  },
  {
   "cell_type": "code",
   "execution_count": 30,
   "metadata": {
    "execution": {
     "iopub.execute_input": "2020-12-06T15:57:40.815327Z",
     "iopub.status.busy": "2020-12-06T15:57:40.814461Z",
     "iopub.status.idle": "2020-12-06T15:57:40.818712Z",
     "shell.execute_reply": "2020-12-06T15:57:40.817936Z"
    },
    "papermill": {
     "duration": 0.067363,
     "end_time": "2020-12-06T15:57:40.818852",
     "exception": false,
     "start_time": "2020-12-06T15:57:40.751489",
     "status": "completed"
    },
    "tags": []
   },
   "outputs": [],
   "source": [
    "def plot_autoencoder_outputs(x_test, autoencoder, dims):\n",
    "    decoded_imgs = predict_image(x_test,autoencoder).detach().numpy()\n",
    "\n",
    "    # number of example digits to show\n",
    "    #n = 5\n",
    "    plt.figure(figsize=(10, 4.5))\n",
    "    #for i in range(n):\n",
    "        # plot original image\n",
    "    ax = plt.subplot(2, 1,1)\n",
    "    plt.imshow(x_test.reshape(*dims))\n",
    "    plt.gray()\n",
    "    ax.get_xaxis().set_visible(False)\n",
    "    ax.get_yaxis().set_visible(False)\n",
    "    ax.set_title('Original Images')\n",
    "\n",
    "        # plot reconstruction \n",
    "    ax = plt.subplot(2, 1,2)\n",
    "    plt.imshow(decoded_imgs.reshape(*dims))\n",
    "    plt.gray()\n",
    "    ax.get_xaxis().set_visible(False)\n",
    "    ax.get_yaxis().set_visible(False)\n",
    "    ax.set_title('Reconstructed Images')\n",
    "    plt.show()"
   ]
  },
  {
   "cell_type": "code",
   "execution_count": 31,
   "metadata": {
    "execution": {
     "iopub.execute_input": "2020-12-06T15:57:40.979494Z",
     "iopub.status.busy": "2020-12-06T15:57:40.978625Z",
     "iopub.status.idle": "2020-12-06T15:57:40.984163Z",
     "shell.execute_reply": "2020-12-06T15:57:40.983485Z"
    },
    "papermill": {
     "duration": 0.087994,
     "end_time": "2020-12-06T15:57:40.984323",
     "exception": false,
     "start_time": "2020-12-06T15:57:40.896329",
     "status": "completed"
    },
    "tags": []
   },
   "outputs": [],
   "source": [
    "img_orig, label = val_ds[11235] #le pasamos el numero de imagen del set de validación"
   ]
  },
  {
   "cell_type": "code",
   "execution_count": 32,
   "metadata": {
    "execution": {
     "iopub.execute_input": "2020-12-06T15:57:41.111658Z",
     "iopub.status.busy": "2020-12-06T15:57:41.108271Z",
     "iopub.status.idle": "2020-12-06T15:57:41.141246Z",
     "shell.execute_reply": "2020-12-06T15:57:41.140725Z"
    },
    "papermill": {
     "duration": 0.101811,
     "end_time": "2020-12-06T15:57:41.141378",
     "exception": false,
     "start_time": "2020-12-06T15:57:41.039567",
     "status": "completed"
    },
    "tags": []
   },
   "outputs": [
    {
     "ename": "NameError",
     "evalue": "name 'to_device' is not defined",
     "output_type": "error",
     "traceback": [
      "\u001b[0;31m---------------------------------------------------------------------------\u001b[0m",
      "\u001b[0;31mNameError\u001b[0m                                 Traceback (most recent call last)",
      "\u001b[0;32m<ipython-input-32-796b2ad08ca5>\u001b[0m in \u001b[0;36m<module>\u001b[0;34m\u001b[0m\n\u001b[1;32m      1\u001b[0m \u001b[0mplt\u001b[0m\u001b[0;34m.\u001b[0m\u001b[0mfigure\u001b[0m\u001b[0;34m(\u001b[0m\u001b[0;34m)\u001b[0m\u001b[0;34m\u001b[0m\u001b[0;34m\u001b[0m\u001b[0m\n\u001b[0;32m----> 2\u001b[0;31m \u001b[0mplot_autoencoder_outputs\u001b[0m\u001b[0;34m(\u001b[0m\u001b[0mimg_orig\u001b[0m\u001b[0;34m,\u001b[0m\u001b[0mmodel1\u001b[0m\u001b[0;34m,\u001b[0m\u001b[0;34m(\u001b[0m\u001b[0;36m28\u001b[0m\u001b[0;34m,\u001b[0m \u001b[0;36m28\u001b[0m\u001b[0;34m)\u001b[0m\u001b[0;34m)\u001b[0m\u001b[0;34m\u001b[0m\u001b[0;34m\u001b[0m\u001b[0m\n\u001b[0m\u001b[1;32m      3\u001b[0m \u001b[0mplot_autoencoder_outputs\u001b[0m\u001b[0;34m(\u001b[0m\u001b[0mimg_orig\u001b[0m\u001b[0;34m,\u001b[0m\u001b[0mmodel2\u001b[0m\u001b[0;34m,\u001b[0m\u001b[0;34m(\u001b[0m\u001b[0;36m28\u001b[0m\u001b[0;34m,\u001b[0m \u001b[0;36m28\u001b[0m\u001b[0;34m)\u001b[0m\u001b[0;34m)\u001b[0m\u001b[0;34m\u001b[0m\u001b[0;34m\u001b[0m\u001b[0m\n\u001b[1;32m      4\u001b[0m \u001b[0mplot_autoencoder_outputs\u001b[0m\u001b[0;34m(\u001b[0m\u001b[0mimg_orig\u001b[0m\u001b[0;34m,\u001b[0m\u001b[0mmodel3\u001b[0m\u001b[0;34m,\u001b[0m\u001b[0;34m(\u001b[0m\u001b[0;36m28\u001b[0m\u001b[0;34m,\u001b[0m \u001b[0;36m28\u001b[0m\u001b[0;34m)\u001b[0m\u001b[0;34m)\u001b[0m\u001b[0;34m\u001b[0m\u001b[0;34m\u001b[0m\u001b[0m\n\u001b[1;32m      5\u001b[0m \u001b[0mplot_autoencoder_outputs\u001b[0m\u001b[0;34m(\u001b[0m\u001b[0mimg_orig\u001b[0m\u001b[0;34m,\u001b[0m\u001b[0mmodel4\u001b[0m\u001b[0;34m,\u001b[0m\u001b[0;34m(\u001b[0m\u001b[0;36m28\u001b[0m\u001b[0;34m,\u001b[0m \u001b[0;36m28\u001b[0m\u001b[0;34m)\u001b[0m\u001b[0;34m)\u001b[0m\u001b[0;34m\u001b[0m\u001b[0;34m\u001b[0m\u001b[0m\n",
      "\u001b[0;32m<ipython-input-30-5adc8f53c3f2>\u001b[0m in \u001b[0;36mplot_autoencoder_outputs\u001b[0;34m(x_test, autoencoder, dims)\u001b[0m\n\u001b[1;32m      1\u001b[0m \u001b[0;32mdef\u001b[0m \u001b[0mplot_autoencoder_outputs\u001b[0m\u001b[0;34m(\u001b[0m\u001b[0mx_test\u001b[0m\u001b[0;34m,\u001b[0m \u001b[0mautoencoder\u001b[0m\u001b[0;34m,\u001b[0m \u001b[0mdims\u001b[0m\u001b[0;34m)\u001b[0m\u001b[0;34m:\u001b[0m\u001b[0;34m\u001b[0m\u001b[0;34m\u001b[0m\u001b[0m\n\u001b[0;32m----> 2\u001b[0;31m     \u001b[0mdecoded_imgs\u001b[0m \u001b[0;34m=\u001b[0m \u001b[0mpredict_image\u001b[0m\u001b[0;34m(\u001b[0m\u001b[0mx_test\u001b[0m\u001b[0;34m,\u001b[0m\u001b[0mautoencoder\u001b[0m\u001b[0;34m)\u001b[0m\u001b[0;34m.\u001b[0m\u001b[0mdetach\u001b[0m\u001b[0;34m(\u001b[0m\u001b[0;34m)\u001b[0m\u001b[0;34m.\u001b[0m\u001b[0mnumpy\u001b[0m\u001b[0;34m(\u001b[0m\u001b[0;34m)\u001b[0m\u001b[0;34m\u001b[0m\u001b[0;34m\u001b[0m\u001b[0m\n\u001b[0m\u001b[1;32m      3\u001b[0m \u001b[0;34m\u001b[0m\u001b[0m\n\u001b[1;32m      4\u001b[0m     \u001b[0;31m# number of example digits to show\u001b[0m\u001b[0;34m\u001b[0m\u001b[0;34m\u001b[0m\u001b[0;34m\u001b[0m\u001b[0m\n\u001b[1;32m      5\u001b[0m     \u001b[0;31m#n = 5\u001b[0m\u001b[0;34m\u001b[0m\u001b[0;34m\u001b[0m\u001b[0;34m\u001b[0m\u001b[0m\n",
      "\u001b[0;32m<ipython-input-29-fbdad43d5da3>\u001b[0m in \u001b[0;36mpredict_image\u001b[0;34m(img, model)\u001b[0m\n\u001b[1;32m      1\u001b[0m \u001b[0;31m#Test\u001b[0m\u001b[0;34m\u001b[0m\u001b[0;34m\u001b[0m\u001b[0;34m\u001b[0m\u001b[0m\n\u001b[1;32m      2\u001b[0m \u001b[0;32mdef\u001b[0m \u001b[0mpredict_image\u001b[0m\u001b[0;34m(\u001b[0m\u001b[0mimg\u001b[0m\u001b[0;34m,\u001b[0m \u001b[0mmodel\u001b[0m\u001b[0;34m)\u001b[0m\u001b[0;34m:\u001b[0m\u001b[0;34m\u001b[0m\u001b[0;34m\u001b[0m\u001b[0m\n\u001b[0;32m----> 3\u001b[0;31m     \u001b[0mxb\u001b[0m \u001b[0;34m=\u001b[0m \u001b[0mto_device\u001b[0m\u001b[0;34m(\u001b[0m\u001b[0mimg\u001b[0m\u001b[0;34m.\u001b[0m\u001b[0munsqueeze\u001b[0m\u001b[0;34m(\u001b[0m\u001b[0;36m0\u001b[0m\u001b[0;34m)\u001b[0m\u001b[0;34m,\u001b[0m \u001b[0mdevice\u001b[0m\u001b[0;34m)\u001b[0m  \u001b[0;31m# Convert to a batch of 1\u001b[0m\u001b[0;34m\u001b[0m\u001b[0;34m\u001b[0m\u001b[0m\n\u001b[0m\u001b[1;32m      4\u001b[0m     \u001b[0myb\u001b[0m \u001b[0;34m=\u001b[0m \u001b[0mmodel\u001b[0m\u001b[0;34m(\u001b[0m\u001b[0mxb\u001b[0m\u001b[0;34m)\u001b[0m \u001b[0;31m# Get predictions from model\u001b[0m\u001b[0;34m\u001b[0m\u001b[0;34m\u001b[0m\u001b[0m\n\u001b[1;32m      5\u001b[0m     \u001b[0;32mreturn\u001b[0m \u001b[0myb\u001b[0m\u001b[0;34m\u001b[0m\u001b[0;34m\u001b[0m\u001b[0m\n",
      "\u001b[0;31mNameError\u001b[0m: name 'to_device' is not defined"
     ]
    },
    {
     "data": {
      "text/plain": [
       "<Figure size 432x288 with 0 Axes>"
      ]
     },
     "metadata": {},
     "output_type": "display_data"
    }
   ],
   "source": [
    "plt.figure()\n",
    "plot_autoencoder_outputs(img_orig,model1,(28, 28))\n",
    "plot_autoencoder_outputs(img_orig,model2,(28, 28))\n",
    "plot_autoencoder_outputs(img_orig,model3,(28, 28))\n",
    "plot_autoencoder_outputs(img_orig,model4,(28, 28))"
   ]
  },
  {
   "cell_type": "markdown",
   "metadata": {
    "papermill": {
     "duration": 0.0532,
     "end_time": "2020-12-06T15:57:41.248188",
     "exception": false,
     "start_time": "2020-12-06T15:57:41.194988",
     "status": "completed"
    },
    "tags": []
   },
   "source": [
    "## Commit and upload the notebook\n",
    "\n",
    "Finalemente, guardamos el trabajo en Jovian. Esto es muy util si queremos, además de conservar versiones, guardar las métricas de forma simple."
   ]
  },
  {
   "cell_type": "code",
   "execution_count": 33,
   "metadata": {
    "execution": {
     "iopub.execute_input": "2020-12-06T15:57:41.364052Z",
     "iopub.status.busy": "2020-12-06T15:57:41.363450Z",
     "iopub.status.idle": "2020-12-06T15:57:54.003395Z",
     "shell.execute_reply": "2020-12-06T15:57:54.002712Z"
    },
    "papermill": {
     "duration": 12.700524,
     "end_time": "2020-12-06T15:57:54.003506",
     "exception": false,
     "start_time": "2020-12-06T15:57:41.302982",
     "status": "completed"
    },
    "tags": []
   },
   "outputs": [
    {
     "name": "stdout",
     "output_type": "stream",
     "text": [
      "\u001b[33mWARNING: You are using pip version 20.2.4; however, version 20.3.1 is available.\r\n",
      "You should consider upgrading via the '/opt/conda/bin/python3.7 -m pip install --upgrade pip' command.\u001b[0m\r\n"
     ]
    },
    {
     "data": {
      "application/javascript": [
       "if (window.IPython && IPython.notebook.kernel) IPython.notebook.kernel.execute('jovian.utils.jupyter.get_notebook_name_saved = lambda: \"' + IPython.notebook.notebook_name + '\"')"
      ],
      "text/plain": [
       "<IPython.core.display.Javascript object>"
      ]
     },
     "metadata": {},
     "output_type": "display_data"
    }
   ],
   "source": [
    "!pip install jovian --upgrade -q\n",
    "\n",
    "import jovian"
   ]
  },
  {
   "cell_type": "code",
   "execution_count": 34,
   "metadata": {
    "execution": {
     "iopub.execute_input": "2020-12-06T15:57:54.124736Z",
     "iopub.status.busy": "2020-12-06T15:57:54.123945Z",
     "iopub.status.idle": "2020-12-06T15:57:54.129163Z",
     "shell.execute_reply": "2020-12-06T15:57:54.128671Z"
    },
    "papermill": {
     "duration": 0.071157,
     "end_time": "2020-12-06T15:57:54.129300",
     "exception": false,
     "start_time": "2020-12-06T15:57:54.058143",
     "status": "completed"
    },
    "tags": []
   },
   "outputs": [
    {
     "ename": "SyntaxError",
     "evalue": "invalid syntax (<ipython-input-34-e2ddabaf10de>, line 8)",
     "output_type": "error",
     "traceback": [
      "\u001b[0;36m  File \u001b[0;32m\"<ipython-input-34-e2ddabaf10de>\"\u001b[0;36m, line \u001b[0;32m8\u001b[0m\n\u001b[0;31m    jovian.log_metrics(min_train_loss=,  min_val_loss= , time = ' ', lr_de_minLoss = )\u001b[0m\n\u001b[0m                                      ^\u001b[0m\n\u001b[0;31mSyntaxError\u001b[0m\u001b[0;31m:\u001b[0m invalid syntax\n"
     ]
    }
   ],
   "source": [
    "jovian.reset()\n",
    "\n",
    "jovian.log_hyperparams(capa_oculta=hidden_size,\n",
    "                       cant_epocas = epochs,\n",
    "                       lr = max_lr,\n",
    "                       grad_clip = grad_clip)\n",
    "\n",
    "jovian.log_metrics(min_train_loss=,  min_val_loss= , time = ' ', lr_de_minLoss = )\n",
    "\n",
    "jovian.commit(project='Autoencoder simple', outputs=['Autoencoder simple.pth'], environment=None)"
   ]
  },
  {
   "cell_type": "markdown",
   "metadata": {
    "papermill": {
     "duration": 0.056813,
     "end_time": "2020-12-06T15:57:54.282796",
     "exception": false,
     "start_time": "2020-12-06T15:57:54.225983",
     "status": "completed"
    },
    "tags": []
   },
   "source": [
    "Fuentes:\n",
    "\n",
    "[Pytorch: from zero to GANs](http://jovian.ai)\n",
    "\n",
    "https://nextjournal.com/gkoehler/pytorch-mnist\n",
    "\n",
    "https://github.com/ardendertat/Applied-Deep-Learning-with-Keras/blob/master/notebooks/Part%203%20-%20Autoencoders.ipynb"
   ]
  }
 ],
 "metadata": {
  "kernelspec": {
   "display_name": "Python 3",
   "language": "python",
   "name": "python3"
  },
  "language_info": {
   "codemirror_mode": {
    "name": "ipython",
    "version": 3
   },
   "file_extension": ".py",
   "mimetype": "text/x-python",
   "name": "python",
   "nbconvert_exporter": "python",
   "pygments_lexer": "ipython3",
   "version": "3.7.6"
  },
  "papermill": {
   "duration": 32.482736,
   "end_time": "2020-12-06T15:57:54.449137",
   "environment_variables": {},
   "exception": null,
   "input_path": "__notebook__.ipynb",
   "output_path": "__notebook__.ipynb",
   "parameters": {},
   "start_time": "2020-12-06T15:57:21.966401",
   "version": "2.1.0"
  },
  "widgets": {
   "application/vnd.jupyter.widget-state+json": {
    "state": {
     "0286f080029b448ba1c71018f6de5058": {
      "model_module": "@jupyter-widgets/controls",
      "model_module_version": "1.5.0",
      "model_name": "ProgressStyleModel",
      "state": {
       "_model_module": "@jupyter-widgets/controls",
       "_model_module_version": "1.5.0",
       "_model_name": "ProgressStyleModel",
       "_view_count": null,
       "_view_module": "@jupyter-widgets/base",
       "_view_module_version": "1.2.0",
       "_view_name": "StyleView",
       "bar_color": null,
       "description_width": "initial"
      }
     },
     "03ae32489db54d6e992a124c501b4528": {
      "model_module": "@jupyter-widgets/controls",
      "model_module_version": "1.5.0",
      "model_name": "HTMLModel",
      "state": {
       "_dom_classes": [],
       "_model_module": "@jupyter-widgets/controls",
       "_model_module_version": "1.5.0",
       "_model_name": "HTMLModel",
       "_view_count": null,
       "_view_module": "@jupyter-widgets/controls",
       "_view_module_version": "1.5.0",
       "_view_name": "HTMLView",
       "description": "",
       "description_tooltip": null,
       "layout": "IPY_MODEL_e9aababf627243f9804397a200932863",
       "placeholder": "​",
       "style": "IPY_MODEL_70d2c710e4bb4e279093aaa9da9da4cf",
       "value": " 8192/? [00:01&lt;00:00, 6762.97it/s]"
      }
     },
     "086b457afa5c4c6d9e145dc5b14e80a7": {
      "model_module": "@jupyter-widgets/base",
      "model_module_version": "1.2.0",
      "model_name": "LayoutModel",
      "state": {
       "_model_module": "@jupyter-widgets/base",
       "_model_module_version": "1.2.0",
       "_model_name": "LayoutModel",
       "_view_count": null,
       "_view_module": "@jupyter-widgets/base",
       "_view_module_version": "1.2.0",
       "_view_name": "LayoutView",
       "align_content": null,
       "align_items": null,
       "align_self": null,
       "border": null,
       "bottom": null,
       "display": null,
       "flex": null,
       "flex_flow": null,
       "grid_area": null,
       "grid_auto_columns": null,
       "grid_auto_flow": null,
       "grid_auto_rows": null,
       "grid_column": null,
       "grid_gap": null,
       "grid_row": null,
       "grid_template_areas": null,
       "grid_template_columns": null,
       "grid_template_rows": null,
       "height": null,
       "justify_content": null,
       "justify_items": null,
       "left": null,
       "margin": null,
       "max_height": null,
       "max_width": null,
       "min_height": null,
       "min_width": null,
       "object_fit": null,
       "object_position": null,
       "order": null,
       "overflow": null,
       "overflow_x": null,
       "overflow_y": null,
       "padding": null,
       "right": null,
       "top": null,
       "visibility": null,
       "width": null
      }
     },
     "2a72017bd08549c6a2fe09971efcb737": {
      "model_module": "@jupyter-widgets/base",
      "model_module_version": "1.2.0",
      "model_name": "LayoutModel",
      "state": {
       "_model_module": "@jupyter-widgets/base",
       "_model_module_version": "1.2.0",
       "_model_name": "LayoutModel",
       "_view_count": null,
       "_view_module": "@jupyter-widgets/base",
       "_view_module_version": "1.2.0",
       "_view_name": "LayoutView",
       "align_content": null,
       "align_items": null,
       "align_self": null,
       "border": null,
       "bottom": null,
       "display": null,
       "flex": null,
       "flex_flow": null,
       "grid_area": null,
       "grid_auto_columns": null,
       "grid_auto_flow": null,
       "grid_auto_rows": null,
       "grid_column": null,
       "grid_gap": null,
       "grid_row": null,
       "grid_template_areas": null,
       "grid_template_columns": null,
       "grid_template_rows": null,
       "height": null,
       "justify_content": null,
       "justify_items": null,
       "left": null,
       "margin": null,
       "max_height": null,
       "max_width": null,
       "min_height": null,
       "min_width": null,
       "object_fit": null,
       "object_position": null,
       "order": null,
       "overflow": null,
       "overflow_x": null,
       "overflow_y": null,
       "padding": null,
       "right": null,
       "top": null,
       "visibility": null,
       "width": null
      }
     },
     "2a80d279bf374f239c06ea9025c167f5": {
      "model_module": "@jupyter-widgets/controls",
      "model_module_version": "1.5.0",
      "model_name": "ProgressStyleModel",
      "state": {
       "_model_module": "@jupyter-widgets/controls",
       "_model_module_version": "1.5.0",
       "_model_name": "ProgressStyleModel",
       "_view_count": null,
       "_view_module": "@jupyter-widgets/base",
       "_view_module_version": "1.2.0",
       "_view_name": "StyleView",
       "bar_color": null,
       "description_width": "initial"
      }
     },
     "34212d6832d544759b4c5b0aee393607": {
      "model_module": "@jupyter-widgets/base",
      "model_module_version": "1.2.0",
      "model_name": "LayoutModel",
      "state": {
       "_model_module": "@jupyter-widgets/base",
       "_model_module_version": "1.2.0",
       "_model_name": "LayoutModel",
       "_view_count": null,
       "_view_module": "@jupyter-widgets/base",
       "_view_module_version": "1.2.0",
       "_view_name": "LayoutView",
       "align_content": null,
       "align_items": null,
       "align_self": null,
       "border": null,
       "bottom": null,
       "display": null,
       "flex": null,
       "flex_flow": null,
       "grid_area": null,
       "grid_auto_columns": null,
       "grid_auto_flow": null,
       "grid_auto_rows": null,
       "grid_column": null,
       "grid_gap": null,
       "grid_row": null,
       "grid_template_areas": null,
       "grid_template_columns": null,
       "grid_template_rows": null,
       "height": null,
       "justify_content": null,
       "justify_items": null,
       "left": null,
       "margin": null,
       "max_height": null,
       "max_width": null,
       "min_height": null,
       "min_width": null,
       "object_fit": null,
       "object_position": null,
       "order": null,
       "overflow": null,
       "overflow_x": null,
       "overflow_y": null,
       "padding": null,
       "right": null,
       "top": null,
       "visibility": null,
       "width": null
      }
     },
     "4b2f6915c3a5471390acd69560200bfc": {
      "model_module": "@jupyter-widgets/controls",
      "model_module_version": "1.5.0",
      "model_name": "HBoxModel",
      "state": {
       "_dom_classes": [],
       "_model_module": "@jupyter-widgets/controls",
       "_model_module_version": "1.5.0",
       "_model_name": "HBoxModel",
       "_view_count": null,
       "_view_module": "@jupyter-widgets/controls",
       "_view_module_version": "1.5.0",
       "_view_name": "HBoxView",
       "box_style": "",
       "children": [
        "IPY_MODEL_d3185be1f0e34efea77413a0a6143d29",
        "IPY_MODEL_03ae32489db54d6e992a124c501b4528"
       ],
       "layout": "IPY_MODEL_cf908aeae2e1447e8d8a9c1804ba7a42"
      }
     },
     "54be4250cd59437dbe783bc630c3d996": {
      "model_module": "@jupyter-widgets/controls",
      "model_module_version": "1.5.0",
      "model_name": "FloatProgressModel",
      "state": {
       "_dom_classes": [],
       "_model_module": "@jupyter-widgets/controls",
       "_model_module_version": "1.5.0",
       "_model_name": "FloatProgressModel",
       "_view_count": null,
       "_view_module": "@jupyter-widgets/controls",
       "_view_module_version": "1.5.0",
       "_view_name": "ProgressView",
       "bar_style": "success",
       "description": "",
       "description_tooltip": null,
       "layout": "IPY_MODEL_77cb1aa47cf04f33a4532b3f11ddbc6c",
       "max": 1.0,
       "min": 0.0,
       "orientation": "horizontal",
       "style": "IPY_MODEL_0286f080029b448ba1c71018f6de5058",
       "value": 1.0
      }
     },
     "6ab121dac68b47e8ac47afa1cbf8a699": {
      "model_module": "@jupyter-widgets/controls",
      "model_module_version": "1.5.0",
      "model_name": "DescriptionStyleModel",
      "state": {
       "_model_module": "@jupyter-widgets/controls",
       "_model_module_version": "1.5.0",
       "_model_name": "DescriptionStyleModel",
       "_view_count": null,
       "_view_module": "@jupyter-widgets/base",
       "_view_module_version": "1.2.0",
       "_view_name": "StyleView",
       "description_width": ""
      }
     },
     "70d2c710e4bb4e279093aaa9da9da4cf": {
      "model_module": "@jupyter-widgets/controls",
      "model_module_version": "1.5.0",
      "model_name": "DescriptionStyleModel",
      "state": {
       "_model_module": "@jupyter-widgets/controls",
       "_model_module_version": "1.5.0",
       "_model_name": "DescriptionStyleModel",
       "_view_count": null,
       "_view_module": "@jupyter-widgets/base",
       "_view_module_version": "1.2.0",
       "_view_name": "StyleView",
       "description_width": ""
      }
     },
     "77cb1aa47cf04f33a4532b3f11ddbc6c": {
      "model_module": "@jupyter-widgets/base",
      "model_module_version": "1.2.0",
      "model_name": "LayoutModel",
      "state": {
       "_model_module": "@jupyter-widgets/base",
       "_model_module_version": "1.2.0",
       "_model_name": "LayoutModel",
       "_view_count": null,
       "_view_module": "@jupyter-widgets/base",
       "_view_module_version": "1.2.0",
       "_view_name": "LayoutView",
       "align_content": null,
       "align_items": null,
       "align_self": null,
       "border": null,
       "bottom": null,
       "display": null,
       "flex": null,
       "flex_flow": null,
       "grid_area": null,
       "grid_auto_columns": null,
       "grid_auto_flow": null,
       "grid_auto_rows": null,
       "grid_column": null,
       "grid_gap": null,
       "grid_row": null,
       "grid_template_areas": null,
       "grid_template_columns": null,
       "grid_template_rows": null,
       "height": null,
       "justify_content": null,
       "justify_items": null,
       "left": null,
       "margin": null,
       "max_height": null,
       "max_width": null,
       "min_height": null,
       "min_width": null,
       "object_fit": null,
       "object_position": null,
       "order": null,
       "overflow": null,
       "overflow_x": null,
       "overflow_y": null,
       "padding": null,
       "right": null,
       "top": null,
       "visibility": null,
       "width": null
      }
     },
     "7ea0266562d94d66ab6befad48bde7d8": {
      "model_module": "@jupyter-widgets/controls",
      "model_module_version": "1.5.0",
      "model_name": "HTMLModel",
      "state": {
       "_dom_classes": [],
       "_model_module": "@jupyter-widgets/controls",
       "_model_module_version": "1.5.0",
       "_model_name": "HTMLModel",
       "_view_count": null,
       "_view_module": "@jupyter-widgets/controls",
       "_view_module_version": "1.5.0",
       "_view_name": "HTMLView",
       "description": "",
       "description_tooltip": null,
       "layout": "IPY_MODEL_34212d6832d544759b4c5b0aee393607",
       "placeholder": "​",
       "style": "IPY_MODEL_6ab121dac68b47e8ac47afa1cbf8a699",
       "value": " 9920512/? [00:05&lt;00:00, 1849799.82it/s]"
      }
     },
     "86f518483a684b58b56345d281f661e3": {
      "model_module": "@jupyter-widgets/controls",
      "model_module_version": "1.5.0",
      "model_name": "FloatProgressModel",
      "state": {
       "_dom_classes": [],
       "_model_module": "@jupyter-widgets/controls",
       "_model_module_version": "1.5.0",
       "_model_name": "FloatProgressModel",
       "_view_count": null,
       "_view_module": "@jupyter-widgets/controls",
       "_view_module_version": "1.5.0",
       "_view_name": "ProgressView",
       "bar_style": "success",
       "description": "",
       "description_tooltip": null,
       "layout": "IPY_MODEL_086b457afa5c4c6d9e145dc5b14e80a7",
       "max": 1.0,
       "min": 0.0,
       "orientation": "horizontal",
       "style": "IPY_MODEL_a65aa06080c94bc88f539cd60b457f0c",
       "value": 1.0
      }
     },
     "989d3b23b37947c8a30f16a94da23917": {
      "model_module": "@jupyter-widgets/base",
      "model_module_version": "1.2.0",
      "model_name": "LayoutModel",
      "state": {
       "_model_module": "@jupyter-widgets/base",
       "_model_module_version": "1.2.0",
       "_model_name": "LayoutModel",
       "_view_count": null,
       "_view_module": "@jupyter-widgets/base",
       "_view_module_version": "1.2.0",
       "_view_name": "LayoutView",
       "align_content": null,
       "align_items": null,
       "align_self": null,
       "border": null,
       "bottom": null,
       "display": null,
       "flex": null,
       "flex_flow": null,
       "grid_area": null,
       "grid_auto_columns": null,
       "grid_auto_flow": null,
       "grid_auto_rows": null,
       "grid_column": null,
       "grid_gap": null,
       "grid_row": null,
       "grid_template_areas": null,
       "grid_template_columns": null,
       "grid_template_rows": null,
       "height": null,
       "justify_content": null,
       "justify_items": null,
       "left": null,
       "margin": null,
       "max_height": null,
       "max_width": null,
       "min_height": null,
       "min_width": null,
       "object_fit": null,
       "object_position": null,
       "order": null,
       "overflow": null,
       "overflow_x": null,
       "overflow_y": null,
       "padding": null,
       "right": null,
       "top": null,
       "visibility": null,
       "width": null
      }
     },
     "9931d34df01c4039acd4bb2b34bbb000": {
      "model_module": "@jupyter-widgets/base",
      "model_module_version": "1.2.0",
      "model_name": "LayoutModel",
      "state": {
       "_model_module": "@jupyter-widgets/base",
       "_model_module_version": "1.2.0",
       "_model_name": "LayoutModel",
       "_view_count": null,
       "_view_module": "@jupyter-widgets/base",
       "_view_module_version": "1.2.0",
       "_view_name": "LayoutView",
       "align_content": null,
       "align_items": null,
       "align_self": null,
       "border": null,
       "bottom": null,
       "display": null,
       "flex": null,
       "flex_flow": null,
       "grid_area": null,
       "grid_auto_columns": null,
       "grid_auto_flow": null,
       "grid_auto_rows": null,
       "grid_column": null,
       "grid_gap": null,
       "grid_row": null,
       "grid_template_areas": null,
       "grid_template_columns": null,
       "grid_template_rows": null,
       "height": null,
       "justify_content": null,
       "justify_items": null,
       "left": null,
       "margin": null,
       "max_height": null,
       "max_width": null,
       "min_height": null,
       "min_width": null,
       "object_fit": null,
       "object_position": null,
       "order": null,
       "overflow": null,
       "overflow_x": null,
       "overflow_y": null,
       "padding": null,
       "right": null,
       "top": null,
       "visibility": null,
       "width": null
      }
     },
     "9cef13589c394a599eb147b246fd5b96": {
      "model_module": "@jupyter-widgets/base",
      "model_module_version": "1.2.0",
      "model_name": "LayoutModel",
      "state": {
       "_model_module": "@jupyter-widgets/base",
       "_model_module_version": "1.2.0",
       "_model_name": "LayoutModel",
       "_view_count": null,
       "_view_module": "@jupyter-widgets/base",
       "_view_module_version": "1.2.0",
       "_view_name": "LayoutView",
       "align_content": null,
       "align_items": null,
       "align_self": null,
       "border": null,
       "bottom": null,
       "display": null,
       "flex": null,
       "flex_flow": null,
       "grid_area": null,
       "grid_auto_columns": null,
       "grid_auto_flow": null,
       "grid_auto_rows": null,
       "grid_column": null,
       "grid_gap": null,
       "grid_row": null,
       "grid_template_areas": null,
       "grid_template_columns": null,
       "grid_template_rows": null,
       "height": null,
       "justify_content": null,
       "justify_items": null,
       "left": null,
       "margin": null,
       "max_height": null,
       "max_width": null,
       "min_height": null,
       "min_width": null,
       "object_fit": null,
       "object_position": null,
       "order": null,
       "overflow": null,
       "overflow_x": null,
       "overflow_y": null,
       "padding": null,
       "right": null,
       "top": null,
       "visibility": null,
       "width": null
      }
     },
     "a65aa06080c94bc88f539cd60b457f0c": {
      "model_module": "@jupyter-widgets/controls",
      "model_module_version": "1.5.0",
      "model_name": "ProgressStyleModel",
      "state": {
       "_model_module": "@jupyter-widgets/controls",
       "_model_module_version": "1.5.0",
       "_model_name": "ProgressStyleModel",
       "_view_count": null,
       "_view_module": "@jupyter-widgets/base",
       "_view_module_version": "1.2.0",
       "_view_name": "StyleView",
       "bar_color": null,
       "description_width": "initial"
      }
     },
     "a7966a448cee472d962ec504d2ddef46": {
      "model_module": "@jupyter-widgets/controls",
      "model_module_version": "1.5.0",
      "model_name": "HBoxModel",
      "state": {
       "_dom_classes": [],
       "_model_module": "@jupyter-widgets/controls",
       "_model_module_version": "1.5.0",
       "_model_name": "HBoxModel",
       "_view_count": null,
       "_view_module": "@jupyter-widgets/controls",
       "_view_module_version": "1.5.0",
       "_view_name": "HBoxView",
       "box_style": "",
       "children": [
        "IPY_MODEL_86f518483a684b58b56345d281f661e3",
        "IPY_MODEL_7ea0266562d94d66ab6befad48bde7d8"
       ],
       "layout": "IPY_MODEL_c92dccf74e024e1cb4de94aa4b52f898"
      }
     },
     "a9186952361b4c07aa7f3da407168ae8": {
      "model_module": "@jupyter-widgets/controls",
      "model_module_version": "1.5.0",
      "model_name": "DescriptionStyleModel",
      "state": {
       "_model_module": "@jupyter-widgets/controls",
       "_model_module_version": "1.5.0",
       "_model_name": "DescriptionStyleModel",
       "_view_count": null,
       "_view_module": "@jupyter-widgets/base",
       "_view_module_version": "1.2.0",
       "_view_name": "StyleView",
       "description_width": ""
      }
     },
     "acd7161a86b741f3a20b750eb4510499": {
      "model_module": "@jupyter-widgets/controls",
      "model_module_version": "1.5.0",
      "model_name": "DescriptionStyleModel",
      "state": {
       "_model_module": "@jupyter-widgets/controls",
       "_model_module_version": "1.5.0",
       "_model_name": "DescriptionStyleModel",
       "_view_count": null,
       "_view_module": "@jupyter-widgets/base",
       "_view_module_version": "1.2.0",
       "_view_name": "StyleView",
       "description_width": ""
      }
     },
     "b0d9308fb80d4fbe8d5bb806d15f91f4": {
      "model_module": "@jupyter-widgets/base",
      "model_module_version": "1.2.0",
      "model_name": "LayoutModel",
      "state": {
       "_model_module": "@jupyter-widgets/base",
       "_model_module_version": "1.2.0",
       "_model_name": "LayoutModel",
       "_view_count": null,
       "_view_module": "@jupyter-widgets/base",
       "_view_module_version": "1.2.0",
       "_view_name": "LayoutView",
       "align_content": null,
       "align_items": null,
       "align_self": null,
       "border": null,
       "bottom": null,
       "display": null,
       "flex": null,
       "flex_flow": null,
       "grid_area": null,
       "grid_auto_columns": null,
       "grid_auto_flow": null,
       "grid_auto_rows": null,
       "grid_column": null,
       "grid_gap": null,
       "grid_row": null,
       "grid_template_areas": null,
       "grid_template_columns": null,
       "grid_template_rows": null,
       "height": null,
       "justify_content": null,
       "justify_items": null,
       "left": null,
       "margin": null,
       "max_height": null,
       "max_width": null,
       "min_height": null,
       "min_width": null,
       "object_fit": null,
       "object_position": null,
       "order": null,
       "overflow": null,
       "overflow_x": null,
       "overflow_y": null,
       "padding": null,
       "right": null,
       "top": null,
       "visibility": null,
       "width": null
      }
     },
     "b38fe0458322407da2091f9d1b04df1a": {
      "model_module": "@jupyter-widgets/controls",
      "model_module_version": "1.5.0",
      "model_name": "HBoxModel",
      "state": {
       "_dom_classes": [],
       "_model_module": "@jupyter-widgets/controls",
       "_model_module_version": "1.5.0",
       "_model_name": "HBoxModel",
       "_view_count": null,
       "_view_module": "@jupyter-widgets/controls",
       "_view_module_version": "1.5.0",
       "_view_name": "HBoxView",
       "box_style": "",
       "children": [
        "IPY_MODEL_f35e57c427a742dbb9f10a7eeed22d3c",
        "IPY_MODEL_eb40b5d33e9249b4a234b75dd6362e12"
       ],
       "layout": "IPY_MODEL_989d3b23b37947c8a30f16a94da23917"
      }
     },
     "c92dccf74e024e1cb4de94aa4b52f898": {
      "model_module": "@jupyter-widgets/base",
      "model_module_version": "1.2.0",
      "model_name": "LayoutModel",
      "state": {
       "_model_module": "@jupyter-widgets/base",
       "_model_module_version": "1.2.0",
       "_model_name": "LayoutModel",
       "_view_count": null,
       "_view_module": "@jupyter-widgets/base",
       "_view_module_version": "1.2.0",
       "_view_name": "LayoutView",
       "align_content": null,
       "align_items": null,
       "align_self": null,
       "border": null,
       "bottom": null,
       "display": null,
       "flex": null,
       "flex_flow": null,
       "grid_area": null,
       "grid_auto_columns": null,
       "grid_auto_flow": null,
       "grid_auto_rows": null,
       "grid_column": null,
       "grid_gap": null,
       "grid_row": null,
       "grid_template_areas": null,
       "grid_template_columns": null,
       "grid_template_rows": null,
       "height": null,
       "justify_content": null,
       "justify_items": null,
       "left": null,
       "margin": null,
       "max_height": null,
       "max_width": null,
       "min_height": null,
       "min_width": null,
       "object_fit": null,
       "object_position": null,
       "order": null,
       "overflow": null,
       "overflow_x": null,
       "overflow_y": null,
       "padding": null,
       "right": null,
       "top": null,
       "visibility": null,
       "width": null
      }
     },
     "cf908aeae2e1447e8d8a9c1804ba7a42": {
      "model_module": "@jupyter-widgets/base",
      "model_module_version": "1.2.0",
      "model_name": "LayoutModel",
      "state": {
       "_model_module": "@jupyter-widgets/base",
       "_model_module_version": "1.2.0",
       "_model_name": "LayoutModel",
       "_view_count": null,
       "_view_module": "@jupyter-widgets/base",
       "_view_module_version": "1.2.0",
       "_view_name": "LayoutView",
       "align_content": null,
       "align_items": null,
       "align_self": null,
       "border": null,
       "bottom": null,
       "display": null,
       "flex": null,
       "flex_flow": null,
       "grid_area": null,
       "grid_auto_columns": null,
       "grid_auto_flow": null,
       "grid_auto_rows": null,
       "grid_column": null,
       "grid_gap": null,
       "grid_row": null,
       "grid_template_areas": null,
       "grid_template_columns": null,
       "grid_template_rows": null,
       "height": null,
       "justify_content": null,
       "justify_items": null,
       "left": null,
       "margin": null,
       "max_height": null,
       "max_width": null,
       "min_height": null,
       "min_width": null,
       "object_fit": null,
       "object_position": null,
       "order": null,
       "overflow": null,
       "overflow_x": null,
       "overflow_y": null,
       "padding": null,
       "right": null,
       "top": null,
       "visibility": null,
       "width": null
      }
     },
     "d04eeb524f224e5e978fbff715490ec0": {
      "model_module": "@jupyter-widgets/base",
      "model_module_version": "1.2.0",
      "model_name": "LayoutModel",
      "state": {
       "_model_module": "@jupyter-widgets/base",
       "_model_module_version": "1.2.0",
       "_model_name": "LayoutModel",
       "_view_count": null,
       "_view_module": "@jupyter-widgets/base",
       "_view_module_version": "1.2.0",
       "_view_name": "LayoutView",
       "align_content": null,
       "align_items": null,
       "align_self": null,
       "border": null,
       "bottom": null,
       "display": null,
       "flex": null,
       "flex_flow": null,
       "grid_area": null,
       "grid_auto_columns": null,
       "grid_auto_flow": null,
       "grid_auto_rows": null,
       "grid_column": null,
       "grid_gap": null,
       "grid_row": null,
       "grid_template_areas": null,
       "grid_template_columns": null,
       "grid_template_rows": null,
       "height": null,
       "justify_content": null,
       "justify_items": null,
       "left": null,
       "margin": null,
       "max_height": null,
       "max_width": null,
       "min_height": null,
       "min_width": null,
       "object_fit": null,
       "object_position": null,
       "order": null,
       "overflow": null,
       "overflow_x": null,
       "overflow_y": null,
       "padding": null,
       "right": null,
       "top": null,
       "visibility": null,
       "width": null
      }
     },
     "d2ada34d0ca64e59a9ead11ef5b5e566": {
      "model_module": "@jupyter-widgets/controls",
      "model_module_version": "1.5.0",
      "model_name": "HBoxModel",
      "state": {
       "_dom_classes": [],
       "_model_module": "@jupyter-widgets/controls",
       "_model_module_version": "1.5.0",
       "_model_name": "HBoxModel",
       "_view_count": null,
       "_view_module": "@jupyter-widgets/controls",
       "_view_module_version": "1.5.0",
       "_view_name": "HBoxView",
       "box_style": "",
       "children": [
        "IPY_MODEL_54be4250cd59437dbe783bc630c3d996",
        "IPY_MODEL_e5b7deb9552647558e3dc4f2147cdc28"
       ],
       "layout": "IPY_MODEL_d04eeb524f224e5e978fbff715490ec0"
      }
     },
     "d3185be1f0e34efea77413a0a6143d29": {
      "model_module": "@jupyter-widgets/controls",
      "model_module_version": "1.5.0",
      "model_name": "FloatProgressModel",
      "state": {
       "_dom_classes": [],
       "_model_module": "@jupyter-widgets/controls",
       "_model_module_version": "1.5.0",
       "_model_name": "FloatProgressModel",
       "_view_count": null,
       "_view_module": "@jupyter-widgets/controls",
       "_view_module_version": "1.5.0",
       "_view_name": "ProgressView",
       "bar_style": "success",
       "description": "",
       "description_tooltip": null,
       "layout": "IPY_MODEL_9931d34df01c4039acd4bb2b34bbb000",
       "max": 1.0,
       "min": 0.0,
       "orientation": "horizontal",
       "style": "IPY_MODEL_2a80d279bf374f239c06ea9025c167f5",
       "value": 1.0
      }
     },
     "e5b7deb9552647558e3dc4f2147cdc28": {
      "model_module": "@jupyter-widgets/controls",
      "model_module_version": "1.5.0",
      "model_name": "HTMLModel",
      "state": {
       "_dom_classes": [],
       "_model_module": "@jupyter-widgets/controls",
       "_model_module_version": "1.5.0",
       "_model_name": "HTMLModel",
       "_view_count": null,
       "_view_module": "@jupyter-widgets/controls",
       "_view_module_version": "1.5.0",
       "_view_name": "HTMLView",
       "description": "",
       "description_tooltip": null,
       "layout": "IPY_MODEL_b0d9308fb80d4fbe8d5bb806d15f91f4",
       "placeholder": "​",
       "style": "IPY_MODEL_a9186952361b4c07aa7f3da407168ae8",
       "value": " 1654784/? [00:03&lt;00:00, 493223.11it/s]"
      }
     },
     "e9aababf627243f9804397a200932863": {
      "model_module": "@jupyter-widgets/base",
      "model_module_version": "1.2.0",
      "model_name": "LayoutModel",
      "state": {
       "_model_module": "@jupyter-widgets/base",
       "_model_module_version": "1.2.0",
       "_model_name": "LayoutModel",
       "_view_count": null,
       "_view_module": "@jupyter-widgets/base",
       "_view_module_version": "1.2.0",
       "_view_name": "LayoutView",
       "align_content": null,
       "align_items": null,
       "align_self": null,
       "border": null,
       "bottom": null,
       "display": null,
       "flex": null,
       "flex_flow": null,
       "grid_area": null,
       "grid_auto_columns": null,
       "grid_auto_flow": null,
       "grid_auto_rows": null,
       "grid_column": null,
       "grid_gap": null,
       "grid_row": null,
       "grid_template_areas": null,
       "grid_template_columns": null,
       "grid_template_rows": null,
       "height": null,
       "justify_content": null,
       "justify_items": null,
       "left": null,
       "margin": null,
       "max_height": null,
       "max_width": null,
       "min_height": null,
       "min_width": null,
       "object_fit": null,
       "object_position": null,
       "order": null,
       "overflow": null,
       "overflow_x": null,
       "overflow_y": null,
       "padding": null,
       "right": null,
       "top": null,
       "visibility": null,
       "width": null
      }
     },
     "e9ce2d0ee41e48158f26c10895c43fe6": {
      "model_module": "@jupyter-widgets/controls",
      "model_module_version": "1.5.0",
      "model_name": "ProgressStyleModel",
      "state": {
       "_model_module": "@jupyter-widgets/controls",
       "_model_module_version": "1.5.0",
       "_model_name": "ProgressStyleModel",
       "_view_count": null,
       "_view_module": "@jupyter-widgets/base",
       "_view_module_version": "1.2.0",
       "_view_name": "StyleView",
       "bar_color": null,
       "description_width": "initial"
      }
     },
     "eb40b5d33e9249b4a234b75dd6362e12": {
      "model_module": "@jupyter-widgets/controls",
      "model_module_version": "1.5.0",
      "model_name": "HTMLModel",
      "state": {
       "_dom_classes": [],
       "_model_module": "@jupyter-widgets/controls",
       "_model_module_version": "1.5.0",
       "_model_name": "HTMLModel",
       "_view_count": null,
       "_view_module": "@jupyter-widgets/controls",
       "_view_module_version": "1.5.0",
       "_view_name": "HTMLView",
       "description": "",
       "description_tooltip": null,
       "layout": "IPY_MODEL_2a72017bd08549c6a2fe09971efcb737",
       "placeholder": "​",
       "style": "IPY_MODEL_acd7161a86b741f3a20b750eb4510499",
       "value": " 32768/? [00:00&lt;00:00, 80742.29it/s]"
      }
     },
     "f35e57c427a742dbb9f10a7eeed22d3c": {
      "model_module": "@jupyter-widgets/controls",
      "model_module_version": "1.5.0",
      "model_name": "FloatProgressModel",
      "state": {
       "_dom_classes": [],
       "_model_module": "@jupyter-widgets/controls",
       "_model_module_version": "1.5.0",
       "_model_name": "FloatProgressModel",
       "_view_count": null,
       "_view_module": "@jupyter-widgets/controls",
       "_view_module_version": "1.5.0",
       "_view_name": "ProgressView",
       "bar_style": "success",
       "description": "",
       "description_tooltip": null,
       "layout": "IPY_MODEL_9cef13589c394a599eb147b246fd5b96",
       "max": 1.0,
       "min": 0.0,
       "orientation": "horizontal",
       "style": "IPY_MODEL_e9ce2d0ee41e48158f26c10895c43fe6",
       "value": 1.0
      }
     }
    },
    "version_major": 2,
    "version_minor": 0
   }
  }
 },
 "nbformat": 4,
 "nbformat_minor": 4
}
