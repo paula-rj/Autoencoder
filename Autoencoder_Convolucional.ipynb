{
 "cells": [
  {
   "cell_type": "markdown",
   "metadata": {},
   "source": [
    "## Preparación de los datos\n",
    "\n",
    "En [este tutorial](https://jvn.io/aakashns/a1b40b04f5174a18bd05b17e3dffb0f0), se explica el procedimiento (en inglés).\n",
    "\n",
    "Primero importamos las librerías y funciones que vamos a utilizar."
   ]
  },
  {
   "cell_type": "code",
   "execution_count": 1,
   "metadata": {},
   "outputs": [],
   "source": [
    "#Librerias de machine learning\n",
    "import torch #PyTorch\n",
    "import torchvision \n",
    "#Libreria para procesar imágenes para ML\n",
    "import numpy as np #Librería para hacer operaciones vectoriales y matriciales\n",
    "import torch.nn as nn #Librería de torch con funciones para hacer cosas con redes neuronales\n",
    "import torch.nn.functional as F #Lo mismo que nn pero le pasas los argumentos DENTRO de la funcion\n",
    "import torchvision.transforms #Sirve para hacer transformaciones a la imágenes por ej rotaciones \n",
    "from torchvision.datasets import MNIST #Dataset que vamos a usar. Lo importamos desde PyTorch\n",
    "from torch.utils.data.dataloader import DataLoader #Sirve para cargar los datos\n",
    "from torch.utils.data import random_split #Sirve para partir listas de manera aleatoria\n",
    "\n",
    "#Librerias para plotear\n",
    "from torchvision.utils import make_grid #para hacer un ploteo con varias imagenes del dataset\n",
    "import matplotlib.pyplot as plt\n",
    "%matplotlib inline\n",
    "\n",
    "import time"
   ]
  },
  {
   "cell_type": "markdown",
   "metadata": {},
   "source": [
    "Descargamos los datos y creamos un dataset de PyTorch. Los datos serán imágenes de 28x28 píxeles en blanco y negro (es decir, cada imágen será una matriz 28x28x1) de números escritos. Este famoso conjunto de datos se denomina `MNIST` y es una clase dentro de la librería `torchvision.datasets`, de donde lo descargaremos. Vamos a utilizar un conjunto de imagenes para el entrenamiento y otro con imágenes distintas para el testeo o evaluación."
   ]
  },
  {
   "cell_type": "code",
   "execution_count": 2,
   "metadata": {},
   "outputs": [
    {
     "name": "stdout",
     "output_type": "stream",
     "text": [
      "Downloading http://yann.lecun.com/exdb/mnist/train-images-idx3-ubyte.gz to /tmp/MNIST/raw/train-images-idx3-ubyte.gz\n"
     ]
    },
    {
     "data": {
      "application/vnd.jupyter.widget-view+json": {
       "model_id": "0a5de7cf6153451f95652a7aba8f6448",
       "version_major": 2,
       "version_minor": 0
      },
      "text/plain": [
       "|          | 0/? [00:00<?, ?it/s]"
      ]
     },
     "metadata": {},
     "output_type": "display_data"
    },
    {
     "name": "stdout",
     "output_type": "stream",
     "text": [
      "Extracting /tmp/MNIST/raw/train-images-idx3-ubyte.gz to /tmp/MNIST/raw\n",
      "Downloading http://yann.lecun.com/exdb/mnist/train-labels-idx1-ubyte.gz to /tmp/MNIST/raw/train-labels-idx1-ubyte.gz\n"
     ]
    },
    {
     "data": {
      "application/vnd.jupyter.widget-view+json": {
       "model_id": "01104efa449543b49a4527f297949a95",
       "version_major": 2,
       "version_minor": 0
      },
      "text/plain": [
       "|          | 0/? [00:00<?, ?it/s]"
      ]
     },
     "metadata": {},
     "output_type": "display_data"
    },
    {
     "name": "stdout",
     "output_type": "stream",
     "text": [
      "Extracting /tmp/MNIST/raw/train-labels-idx1-ubyte.gz to /tmp/MNIST/raw\n",
      "Downloading http://yann.lecun.com/exdb/mnist/t10k-images-idx3-ubyte.gz to /tmp/MNIST/raw/t10k-images-idx3-ubyte.gz\n"
     ]
    },
    {
     "data": {
      "application/vnd.jupyter.widget-view+json": {
       "model_id": "3e746a832af84881b717f6f9e350608d",
       "version_major": 2,
       "version_minor": 0
      },
      "text/plain": [
       "|          | 0/? [00:00<?, ?it/s]"
      ]
     },
     "metadata": {},
     "output_type": "display_data"
    },
    {
     "name": "stdout",
     "output_type": "stream",
     "text": [
      "Extracting /tmp/MNIST/raw/t10k-images-idx3-ubyte.gz to /tmp/MNIST/raw\n",
      "Downloading http://yann.lecun.com/exdb/mnist/t10k-labels-idx1-ubyte.gz to /tmp/MNIST/raw/t10k-labels-idx1-ubyte.gz\n"
     ]
    },
    {
     "data": {
      "application/vnd.jupyter.widget-view+json": {
       "model_id": "a236c1a940154c55b15481ba846f19b2",
       "version_major": 2,
       "version_minor": 0
      },
      "text/plain": [
       "|          | 0/? [00:00<?, ?it/s]"
      ]
     },
     "metadata": {},
     "output_type": "display_data"
    },
    {
     "name": "stdout",
     "output_type": "stream",
     "text": [
      "Extracting /tmp/MNIST/raw/t10k-labels-idx1-ubyte.gz to /tmp/MNIST/raw\n",
      "Processing...\n",
      "Done!\n"
     ]
    },
    {
     "name": "stderr",
     "output_type": "stream",
     "text": [
      "/opt/conda/lib/python3.7/site-packages/torchvision/datasets/mnist.py:480: UserWarning: The given NumPy array is not writeable, and PyTorch does not support non-writeable tensors. This means you can write to the underlying (supposedly non-writeable) NumPy array using the tensor. You may want to copy the array to protect its data or make it writeable before converting it to a tensor. This type of warning will be suppressed for the rest of this program. (Triggered internally at  /opt/conda/conda-bld/pytorch_1603729138878/work/torch/csrc/utils/tensor_numpy.cpp:141.)\n",
      "  return torch.from_numpy(parsed.astype(m[2], copy=False)).view(*s)\n"
     ]
    }
   ],
   "source": [
    "# Load and transform data\n",
    "train_ds = MNIST(root='/tmp', \n",
    "                 train=True, \n",
    "                 download=True, \n",
    "                 transform=torchvision.transforms.Compose([\n",
    "                            torchvision.transforms.ToTensor(),#transforma la img a tensores (matrices)\n",
    "                            torchvision.transforms.Normalize((0.1307,), (0.3081,))]) #normaliza \n",
    "                  )\n",
    "\n",
    "test_ds = MNIST(root='/tmp', \n",
    "                train=False, \n",
    "                download=True, \n",
    "                transform=torchvision.transforms.Compose([\n",
    "                          torchvision.transforms.ToTensor(),#transforma la img a tensores (matrices)\n",
    "                          torchvision.transforms.Normalize((0.1307,), (0.3081,))]) #normaliza \n",
    "                  )"
   ]
  },
  {
   "cell_type": "markdown",
   "metadata": {},
   "source": [
    "Veamos la longitud de cada dataset:"
   ]
  },
  {
   "cell_type": "code",
   "execution_count": 3,
   "metadata": {},
   "outputs": [
    {
     "data": {
      "text/plain": [
       "(60000, 10000)"
      ]
     },
     "execution_count": 3,
     "metadata": {},
     "output_type": "execute_result"
    }
   ],
   "source": [
    "len(train_ds),len(test_ds)"
   ]
  },
  {
   "cell_type": "markdown",
   "metadata": {},
   "source": [
    "Ahora, usamos la función random_split para separar el conjunto de entrenamiento (60000 imagenes) en dos:\n",
    "\n",
    "Conjunto de entrenamiento(train): contendrá 80% del total de imagenes en train_ds.\n",
    "\n",
    "Conjunto de validacióno(val): contendrá el restante 20% del total de imagenes en train_ds.\n",
    "\n",
    "Ambos subconjuntos se utilizaran *durante* el entrenamiento. El conjunto de testeo NO se utilizará durante el entreamientp, si no despues de concluir con el mismo."
   ]
  },
  {
   "cell_type": "code",
   "execution_count": 4,
   "metadata": {},
   "outputs": [
    {
     "data": {
      "text/plain": [
       "(48000, 12000)"
      ]
     },
     "execution_count": 4,
     "metadata": {},
     "output_type": "execute_result"
    }
   ],
   "source": [
    "train_size = 48000\n",
    "val_size = len(train_ds)- train_size\n",
    "\n",
    "train_ds, val_ds = random_split(train_ds, [train_size, val_size])\n",
    "len(train_ds), len(val_ds)"
   ]
  },
  {
   "cell_type": "markdown",
   "metadata": {},
   "source": [
    "Creamos los 'PyTorch data loaders' para el cojunto de entrenamiento y validación. Básicamente son funciones que ya vienen incluidas en PyTorch mediante las cuales podremos ordenar los datos y realizar un entrenamiento en mini-batches (lotes) del tamaño que elijamos, entre otras funcionaliades. Por ejemplo:\n",
    "\n",
    "- shuffle (bool): Sirve para indicar si queremos que los datos se reorganicen luego de cada epoca de corrida.\n",
    "- num_workers (int, optional): Cuántos subprocesos usar para la carga de los datos. 0 significa que los datos se cargarán en el proceso principal. \n",
    "- pin_memory (bool, optional): Si está en True, el data loader va a copiar los Tensores en la memoria  CUDA antes de devoverlos. Sirve particularmente si vamos a usar el acelerador. \n",
    "\n",
    "Más documentación: https://pytorch.org/docs/stable/data.html"
   ]
  },
  {
   "cell_type": "code",
   "execution_count": 5,
   "metadata": {},
   "outputs": [],
   "source": [
    "#Defino tamaño de los batch\n",
    "batch_size=24   \n",
    "\n",
    "train_dl = DataLoader(train_ds, batch_size, shuffle=True, num_workers=4, pin_memory=True)\n",
    "val_dl = DataLoader(val_ds, batch_size, num_workers=4, pin_memory=True)"
   ]
  },
  {
   "cell_type": "markdown",
   "metadata": {},
   "source": [
    "Vamos a plotear un minibatch de imagenes. Para ello utilizamos la función `make_grid` de `torchvision` y el método `.permute`. Necesitamos este último porque la forma del tensor de las imágenes cargadas en el dataloader es [1,28,28], es decir que los canales están el la dimensión '0' del tensor (la primera). Pero la función `make_grid` toma como argumento tensores (imágenes) de la forma [ancho, alto, canales], por lo que si no hacemos este cambio con las dimensiones la funcion tira un error. Por lo tanto, con el método permute le pedimos que para cada tensor del dataloader, haga el siguiente cambio antes de pasarle en tensor a la función `make_grid`:\n",
    "\n",
    "canales dim 0-> dim 2\n",
    "\n",
    "ancho   dim 1-> dim 0\n",
    "\n",
    "alto    dim2 -> dim 1"
   ]
  },
  {
   "cell_type": "code",
   "execution_count": 6,
   "metadata": {},
   "outputs": [
    {
     "name": "stdout",
     "output_type": "stream",
     "text": [
      "images.shape: torch.Size([24, 1, 28, 28])\n"
     ]
    },
    {
     "data": {
      "image/png": "[encoded data removed]",
      "text/plain": [
       "<Figure size 1152x576 with 1 Axes>"
      ]
     },
     "metadata": {
      "needs_background": "light"
     },
     "output_type": "display_data"
    }
   ],
   "source": [
    "for images, _ in train_dl:\n",
    "    print('images.shape:', images.shape)\n",
    "    plt.figure(figsize=(16,8))\n",
    "    plt.axis('off')\n",
    "    plt.imshow(make_grid(images, nrow=100).permute((1, 2, 0)))\n",
    "    break"
   ]
  },
  {
   "cell_type": "markdown",
   "metadata": {},
   "source": [
    "## Mover los datos al GPU\n",
    "\n",
    "A continuación defino una serie de funciones cuyo objetivo es mover los datos al GPU para poder utilizarlo y entrenar la red con este dispositivo. Un GPU es una unidad de procesamiento gráfico (Graphics Processing Unit por sus siglas en inglés) es un coprocesador dedicado al procesamiento de gráficos u operaciones de punto flotante. Se utilizan los GPU en estos casos porque el CPU solo muchas veces no alcanza, tarda demasiado tiempo en entrenar la red, incluso en algunos casos es imposible. \n",
    "\n",
    "En Kaggle, el GPU se activa en settings -> Accelerator -> GPU.\n",
    "En Colab, \n",
    "\n",
    "No es posible utilizar este dispositivo locamente a no ser que la computadora tenga incorporado uno de ellos."
   ]
  },
  {
   "cell_type": "code",
   "execution_count": 7,
   "metadata": {},
   "outputs": [
    {
     "data": {
      "text/plain": [
       "True"
      ]
     },
     "execution_count": 7,
     "metadata": {},
     "output_type": "execute_result"
    }
   ],
   "source": [
    "torch.cuda.is_available() #Detecta si hay un GPU disponible"
   ]
  },
  {
   "cell_type": "code",
   "execution_count": 8,
   "metadata": {},
   "outputs": [],
   "source": [
    "def get_default_device():\n",
    "    \"\"\"Pick GPU if available, else CPU\"\"\"\n",
    "    if torch.cuda.is_available():\n",
    "        return torch.device('cuda')\n",
    "    else:\n",
    "        return torch.device('cpu')\n",
    "    \n",
    "def to_device(data, device):\n",
    "    \"\"\"Move tensor(s) to chosen device\"\"\"\n",
    "    if isinstance(data, (list,tuple)):\n",
    "        return [to_device(x, device) for x in data]\n",
    "    return data.to(device, non_blocking=True)\n",
    "\n",
    "class DeviceDataLoader():\n",
    "    \"\"\"Wrap a dataloader to move data to a device\"\"\"\n",
    "    def __init__(self, dl, device):\n",
    "        self.dl = dl\n",
    "        self.device = device\n",
    "        \n",
    "    def __iter__(self):\n",
    "        \"\"\"Yield a batch of data after moving it to device\"\"\"\n",
    "        for b in self.dl: \n",
    "            yield to_device(b, self.device)\n",
    "\n",
    "    def __len__(self):\n",
    "        \"\"\"Number of batches\"\"\"\n",
    "        return len(self.dl)"
   ]
  },
  {
   "cell_type": "code",
   "execution_count": 9,
   "metadata": {},
   "outputs": [
    {
     "data": {
      "text/plain": [
       "device(type='cuda')"
      ]
     },
     "execution_count": 9,
     "metadata": {},
     "output_type": "execute_result"
    }
   ],
   "source": [
    "#Elige un GPU si hay uno disponible. Si no, elige un CPU.\n",
    "device = get_default_device()\n",
    "device"
   ]
  },
  {
   "cell_type": "markdown",
   "metadata": {},
   "source": [
    "## Modelo\n",
    "\n"
   ]
  },
  {
   "cell_type": "markdown",
   "metadata": {},
   "source": [
    "Se considerará un modelo similar al publicado en el trabajo [1], con algunos parámetros cambiados.\n",
    "Se trata de un autoencoder convolucional simétrico, es decir que la parte del encoder es un reflejo de la parte de decoder. El encoder es la sección donde la información \"se comprime\" hasta llegar al espacio latente, y luego con el decoder se \"decodifica\" esta información. \n",
    "\n",
    "Las capas del modelo estarán compuestas por convoluciones 2D en el caso del encoder y por convoluciones traspuestas 2d en el caso del decoder. Ya existen funciones en Pytorch que realizan estos cálculos, y necesitan que se les pase los siguientes parámetros:\n",
    "\n",
    "Stride s: son la cantidad de pasos que avanza el kernel sobre la matriz de entrada.\n",
    "\n",
    "Padding p : es el borde que se le agrega a la matriz de entrada.\n",
    "\n",
    "Dilation d: espacio entre los elementos del kernel.\n",
    "\n",
    "Kernel size f: el tamaño del kernel o núcleo de la convolución.\n",
    "\n",
    "La cantidad de canales de entrada y salida es un parámetro que directamente se le pasa a la función de convolución.\n",
    "\n",
    "De acuerdo a estos parámetros, la función calcula el tamaño 2d de la matriz de salida:\n",
    "\n",
    "**Convolución**\n",
    "\n",
    "Si la imagen de entrada es un Tensor cuadrado de tamaño **nxn** (largoxancho) y el kernel de la convoución es una matriz cuarada de fxf de tamaño, entonces las salida de la convolución, si la misma tiene stride y padding, será una matriz cuadrada de tamaño:\n",
    "\n",
    "nxn $\\circledast$ fxf = $[\\frac{n + 2p - d(f-1) - 1}{s}+1]$ x $[\\frac{n + 2p - d(f-1) - 1}{s}+1 ]$\n",
    "\n",
    "**Convolución Traspuesta**\n",
    "\n",
    "Si la imagen de entrada es un Tensor cuadrado de tamaño **nxn** (largoxancho) y el kernel de la convoución es una matriz cuarada de fxf de tamaño, entonces las salida de la convolución, si la misma tiene stride y padding, será una matriz cuadrada de tamaño:\n",
    "\n",
    "nxn $\\circledast$ fxf = $[s(n-1) - 2p + d(f-1) + 1]$ x $[s(n-1) - 2p + d(f-1) + 1]$\n",
    "\n",
    "Explicación detallada sobre [convolución traspuesta](https://medium.com/apache-mxnet/transposed-convolutions-explained-with-ms-excel-52d13030c7e8) y [documentación](https://pytorch.org/docs/stable/generated/torch.nn.ConvTranspose2d.html).\n",
    " \n",
    "Se definirán funciones auxiliares para calcular el tamaño de la salida y del kernel."
   ]
  },
  {
   "cell_type": "code",
   "execution_count": 10,
   "metadata": {},
   "outputs": [],
   "source": [
    "def conv_outsize(in_size, f , s, p, d=1):\n",
    "    out_size = ((in_size + 2*p - d(f-1) - 1)/s) + 1\n",
    "    return out_size\n",
    "\n",
    "def get_fsize(in_size, out_size, p=1, s=2, d=1):\n",
    "    '''Calcula el tamaño de kernel que necesito si quiero obtener una salida de tamaño out_size'''\n",
    "    ker_size= n + 2*p - s*(out_size-1)\n",
    "    return ker_size\n",
    "\n",
    "def same_conv(in_size,out_size, p=1):\n",
    "    ker_size = in_size + 2*p + 1 - out_size\n",
    "    return ker_size\n",
    "\n",
    "def deconv_out(in_size, f , s=2, p=1, d=1):\n",
    "    out_size = s*(in_size-1) - 2*p + d*(f-1) + 1\n",
    "    return out_size"
   ]
  },
  {
   "cell_type": "markdown",
   "metadata": {},
   "source": [
    "Definimos una subclase de la clase nn.Module de Pytorch que contiene cada paso de la secuencia que se debe llevar a cabo para entrenar el modelo. [Fuente](http://jovian.ai)"
   ]
  },
  {
   "cell_type": "code",
   "execution_count": 11,
   "metadata": {},
   "outputs": [],
   "source": [
    "def accuracy(original, pred):\n",
    "    return torch.abs(original-pred).float().mean()"
   ]
  },
  {
   "cell_type": "code",
   "execution_count": 12,
   "metadata": {},
   "outputs": [],
   "source": [
    "class Train(nn.Module):\n",
    "    \n",
    "    def training_step(self, batch):\n",
    "        images, labels = batch \n",
    "        out = self(images)            # Generate predictions\n",
    "        loss = F.mse_loss(out,images) # Calculate loss\n",
    "        return loss\n",
    "    \n",
    "    def validation_step(self, batch):\n",
    "        images, labels = batch \n",
    "        out = self(images)                    # Generate predictions\n",
    "        loss = F.mse_loss(out, images)   # Calculate loss\n",
    "        acc = accuracy(images, out)           # Calculate accuracy\n",
    "        return {'val_loss': loss.detach(), 'val_acc': acc}\n",
    "        \n",
    "    def validation_epoch_end(self, outputs):\n",
    "        batch_losses = [x['val_loss'] for x in outputs]\n",
    "        epoch_loss = torch.stack(batch_losses).mean()   # Combine losses\n",
    "        batch_accs = [x['val_acc'] for x in outputs]\n",
    "        epoch_acc = torch.stack(batch_accs).mean()      # Combine accuracies\n",
    "        return {'val_loss': epoch_loss.item(), 'val_acc': epoch_acc.item()}\n",
    "    \n",
    "    def epoch_end(self, epoch, result):\n",
    "        print(\"Epoch [{}], train_loss: {:.4f}, val_loss: {:.4f}, val_acc: {:.4f}\".format(\n",
    "            epoch, result['train_loss'], result['val_loss'], result['val_acc']))"
   ]
  },
  {
   "cell_type": "markdown",
   "metadata": {},
   "source": [
    "Ahora definimos el primer modelo, cuya arquitectura será similar a la que se muestra en la imagen, excepto que se utilizará stride=1 (same convolutions). Este modelo se propone en el trabajo [1].\n",
    "![arquitectura modelo1](https://www.researchgate.net/profile/Xifeng-Guo/publication/320658590/figure/fig1/AS:614154637418504@1523437284408/The-structure-of-proposed-Convolutional-AutoEncoders-CAE-for-MNIST-In-the-middle-there.png)  \n",
    "\n",
    "Para ello utilizaremos la función nn.Sequential de Pytorch, que nos ayudará a encadenar las diferentes secciones. El modelo será una subclase de la clase Train, y contendrá un encoder y un decoder. Para llamar al modelo, recibirá como parámetro el tamaño de capa oculta."
   ]
  },
  {
   "cell_type": "code",
   "execution_count": 13,
   "metadata": {},
   "outputs": [],
   "source": [
    "class Reshape(nn.Module):\n",
    "    def __init__(self, *args):\n",
    "        super(Reshape, self).__init__()\n",
    "        self.shape = args\n",
    "\n",
    "    def forward(self, x):\n",
    "        return x.view(self.shape)"
   ]
  },
  {
   "cell_type": "code",
   "execution_count": 14,
   "metadata": {},
   "outputs": [],
   "source": [
    "class ConvAutoenc(Train):\n",
    "    \n",
    "    def __init__(self, hidden_size):\n",
    "        super().__init__() #uso esto porque la clase Autoencoder es subclase de otra\n",
    "        \n",
    "        self.encoder = nn.Sequential(\n",
    "            nn.Conv2d(1, 32, kernel_size=4, stride=2, padding=1), #out size= 14x14x32\n",
    "            nn.ReLU(),\n",
    "            nn.Conv2d(32, 64, kernel_size=4, stride=2, padding=1), #out size= 7x7x64\n",
    "            nn.ReLU(),\n",
    "            nn.Conv2d(64, 128, kernel_size=3, stride=2, padding=0), #out size= 3x3x64\n",
    "            nn.ReLU(),\n",
    "            nn.Flatten()\n",
    "        ) #out size= 1152 = 3*3*128\n",
    "            \n",
    "        self.hidden = nn.Sequential(\n",
    "            nn.Linear(1152, hidden_size),\n",
    "            nn.Linear(hidden_size, 1152),\n",
    "            nn.Dropout(0.1),\n",
    "            nn.ReLU()\n",
    "            )\n",
    "        \n",
    "        self.decoder = nn.Sequential(\n",
    "            nn.ConvTranspose2d(in_channels=128,out_channels=64,kernel_size=3,stride=2, padding=0), \n",
    "            nn.ReLU(),#out = 7x7x64\n",
    "            nn.ConvTranspose2d(in_channels=64,out_channels=32,kernel_size=4, stride=2, padding=1),\n",
    "            nn.ReLU(),#out = 14x14x32\n",
    "            nn.ConvTranspose2d(in_channels=32,out_channels=1,kernel_size=4, stride=2, padding=1)\n",
    "        )\n",
    "        \n",
    "    def forward(self, xb):\n",
    "        out = self.encoder(xb) #out size= 1152 = 3*3*128\n",
    "        out = self.hidden(out) #out size= 1152\n",
    "        z = out.view(out.shape[0], 128, 3, 3)\n",
    "        out = self.decoder(z)\n",
    "        return out"
   ]
  },
  {
   "cell_type": "markdown",
   "metadata": {},
   "source": [
    "## Prueba\n",
    "Crearemos un modelo que contenga una sola capa oculta con 512 activaciones; este no es el entrenamiento definitivo, sólo vamos a ver si el código funciona antes de entrenar."
   ]
  },
  {
   "cell_type": "code",
   "execution_count": 15,
   "metadata": {},
   "outputs": [
    {
     "data": {
      "text/plain": [
       "tensor([[1, 2, 3],\n",
       "        [1, 2, 3],\n",
       "        [1, 2, 3]])"
      ]
     },
     "execution_count": 15,
     "metadata": {},
     "output_type": "execute_result"
    }
   ],
   "source": [
    "ten = torch.tensor([[1,2,3],\n",
    "                  [1,2,3],\n",
    "                  [1,2,3]])\n",
    "ten.view(9)\n",
    "ten.view((3,3))"
   ]
  },
  {
   "cell_type": "code",
   "execution_count": 16,
   "metadata": {},
   "outputs": [
    {
     "data": {
      "text/plain": [
       "ConvAutoenc(\n",
       "  (encoder): Sequential(\n",
       "    (0): Conv2d(1, 32, kernel_size=(4, 4), stride=(2, 2), padding=(1, 1))\n",
       "    (1): ReLU()\n",
       "    (2): Conv2d(32, 64, kernel_size=(4, 4), stride=(2, 2), padding=(1, 1))\n",
       "    (3): ReLU()\n",
       "    (4): Conv2d(64, 128, kernel_size=(3, 3), stride=(2, 2))\n",
       "    (5): ReLU()\n",
       "    (6): Flatten(start_dim=1, end_dim=-1)\n",
       "  )\n",
       "  (hidden): Sequential(\n",
       "    (0): Linear(in_features=1152, out_features=10, bias=True)\n",
       "    (1): Linear(in_features=10, out_features=1152, bias=True)\n",
       "    (2): Dropout(p=0.1, inplace=False)\n",
       "    (3): ReLU()\n",
       "  )\n",
       "  (decoder): Sequential(\n",
       "    (0): ConvTranspose2d(128, 64, kernel_size=(3, 3), stride=(2, 2))\n",
       "    (1): ReLU()\n",
       "    (2): ConvTranspose2d(64, 32, kernel_size=(4, 4), stride=(2, 2), padding=(1, 1))\n",
       "    (3): ReLU()\n",
       "    (4): ConvTranspose2d(32, 1, kernel_size=(4, 4), stride=(2, 2), padding=(1, 1))\n",
       "  )\n",
       ")"
      ]
     },
     "execution_count": 16,
     "metadata": {},
     "output_type": "execute_result"
    }
   ],
   "source": [
    "hidden_size = 10 # se puede cambiar\n",
    "\n",
    "model = ConvAutoenc(hidden_size = 10)\n",
    "model"
   ]
  },
  {
   "cell_type": "markdown",
   "metadata": {},
   "source": [
    "Veamos si los tamaños de las salidas son los esperados. "
   ]
  },
  {
   "cell_type": "code",
   "execution_count": 17,
   "metadata": {},
   "outputs": [
    {
     "name": "stdout",
     "output_type": "stream",
     "text": [
      "torch.Size([32, 1, 4, 4])\n",
      "torch.Size([32])\n",
      "torch.Size([64, 32, 4, 4])\n",
      "torch.Size([64])\n",
      "torch.Size([128, 64, 3, 3])\n",
      "torch.Size([128])\n",
      "torch.Size([10, 1152])\n",
      "torch.Size([10])\n",
      "torch.Size([1152, 10])\n",
      "torch.Size([1152])\n",
      "torch.Size([128, 64, 3, 3])\n",
      "torch.Size([64])\n",
      "torch.Size([64, 32, 4, 4])\n",
      "torch.Size([32])\n",
      "torch.Size([32, 1, 4, 4])\n",
      "torch.Size([1])\n"
     ]
    }
   ],
   "source": [
    "for t in model.parameters():\n",
    "    print(t.shape)\n",
    "#imprime [canales de salida, canales de entrada, kernel]\n",
    "#canales de salida"
   ]
  },
  {
   "cell_type": "markdown",
   "metadata": {},
   "source": [
    "Generemos algunas salidas del modelo, para ver cómo funciona."
   ]
  },
  {
   "cell_type": "code",
   "execution_count": 18,
   "metadata": {},
   "outputs": [
    {
     "name": "stdout",
     "output_type": "stream",
     "text": [
      "Loss: 1.013484001159668\n",
      "outputs.shape :  <built-in method size of Tensor object at 0x7f1c3d3bbb40>\n",
      "Sample outputs :\n",
      " tensor([[[[0.0325, 0.0690, 0.0598,  ..., 0.0708, 0.0630, 0.0835],\n",
      "          [0.0655, 0.0676, 0.0421,  ..., 0.0819, 0.0345, 0.0877],\n",
      "          [0.0485, 0.0556, 0.0863,  ..., 0.0680, 0.0799, 0.0839],\n",
      "          ...,\n",
      "          [0.0732, 0.0848, 0.0455,  ..., 0.0652, 0.0494, 0.0775],\n",
      "          [0.0431, 0.0635, 0.1028,  ..., 0.0434, 0.0959, 0.0853],\n",
      "          [0.0739, 0.0842, 0.0645,  ..., 0.0788, 0.0597, 0.0675]]],\n",
      "\n",
      "\n",
      "        [[[0.0321, 0.0708, 0.0588,  ..., 0.0737, 0.0613, 0.0802],\n",
      "          [0.0674, 0.0640, 0.0445,  ..., 0.0759, 0.0326, 0.0854],\n",
      "          [0.0467, 0.0625, 0.0851,  ..., 0.0686, 0.0838, 0.0867],\n",
      "          ...,\n",
      "          [0.0696, 0.0798, 0.0399,  ..., 0.0622, 0.0483, 0.0787],\n",
      "          [0.0439, 0.0633, 0.1027,  ..., 0.0405, 0.0896, 0.0850],\n",
      "          [0.0734, 0.0786, 0.0607,  ..., 0.0815, 0.0608, 0.0652]]]])\n",
      "image shape in loader  tensor([[[[0.0325, 0.0690, 0.0598,  ..., 0.0708, 0.0630, 0.0835],\n",
      "          [0.0655, 0.0676, 0.0421,  ..., 0.0819, 0.0345, 0.0877],\n",
      "          [0.0485, 0.0556, 0.0863,  ..., 0.0680, 0.0799, 0.0839],\n",
      "          ...,\n",
      "          [0.0732, 0.0848, 0.0455,  ..., 0.0652, 0.0494, 0.0775],\n",
      "          [0.0431, 0.0635, 0.1028,  ..., 0.0434, 0.0959, 0.0853],\n",
      "          [0.0739, 0.0842, 0.0645,  ..., 0.0788, 0.0597, 0.0675]]],\n",
      "\n",
      "\n",
      "        [[[0.0321, 0.0708, 0.0588,  ..., 0.0737, 0.0613, 0.0802],\n",
      "          [0.0674, 0.0640, 0.0445,  ..., 0.0759, 0.0326, 0.0854],\n",
      "          [0.0467, 0.0625, 0.0851,  ..., 0.0686, 0.0838, 0.0867],\n",
      "          ...,\n",
      "          [0.0696, 0.0798, 0.0399,  ..., 0.0622, 0.0483, 0.0787],\n",
      "          [0.0439, 0.0633, 0.1027,  ..., 0.0405, 0.0896, 0.0850],\n",
      "          [0.0734, 0.0786, 0.0607,  ..., 0.0815, 0.0608, 0.0652]]]])\n"
     ]
    },
    {
     "data": {
      "text/plain": [
       "tensor(0.7390, grad_fn=<MeanBackward0>)"
      ]
     },
     "execution_count": 18,
     "metadata": {},
     "output_type": "execute_result"
    }
   ],
   "source": [
    "for images, labels in train_dl:\n",
    "    outputs = model(images)\n",
    "    loss = F.mse_loss(outputs, images)\n",
    "    accu = accuracy(images, outputs)\n",
    "    print('Loss:', loss.item())\n",
    "    break\n",
    "\n",
    "\n",
    "print('outputs.shape : ', outputs.size)\n",
    "print('Sample outputs :\\n', outputs[:2].data)\n",
    "print('image shape in loader ', outputs[:2].data)\n",
    "accu"
   ]
  },
  {
   "cell_type": "code",
   "execution_count": 19,
   "metadata": {},
   "outputs": [
    {
     "name": "stdout",
     "output_type": "stream",
     "text": [
      "xb shape torch.Size([24, 1, 28, 28])\n",
      "yb shape torch.Size([24])\n"
     ]
    }
   ],
   "source": [
    "for xb, yb in val_dl:\n",
    "    print('xb shape', xb.shape)\n",
    "    print('yb shape', yb.shape)\n",
    "    break"
   ]
  },
  {
   "cell_type": "markdown",
   "metadata": {},
   "source": [
    "## Entrenando al Modelo\n",
    "\n",
    "Vamos a definir algunas funciones que servirán para entrenar el modelo. \n",
    "\n",
    "El entrenamiento se realizará con un learning rate variable a lo largo de los batches. Se podría hacer con un lr constante haciendo algunas modificacione en el código.\n",
    "\n",
    "Más documentacion sobre [lr variables](http://https://pytorch.org/docs/stable/optim.html?highlight=one%20cycle#torch.optim.lr_scheduler.OneCycleLR)"
   ]
  },
  {
   "cell_type": "code",
   "execution_count": 20,
   "metadata": {},
   "outputs": [],
   "source": [
    "@torch.no_grad()\n",
    "def evaluate(model, val_loader):\n",
    "    '''\n",
    "    Funcion que sirve para evaluar una vez, para probar.\n",
    "    '''\n",
    "    model.eval()\n",
    "    outputs = [model.validation_step(batch) for batch in val_loader]\n",
    "    return model.validation_epoch_end(outputs)\n",
    "\n",
    "def get_lr(optimizer):\n",
    "    for param_group in optimizer.param_groups:\n",
    "        return param_group['lr']\n",
    "\n",
    "def fit_one_cycle(epochs, max_lr, model, train_loader, val_loader, \n",
    "                  grad_clip=None, opt_func=torch.optim.SGD):\n",
    "    \n",
    "    torch.cuda.empty_cache()\n",
    "    history = []\n",
    "    \n",
    "    # Set up cutom optimizer with weight decay\n",
    "    optimizer = opt_func(model.parameters(), max_lr)\n",
    "    # Set up one-cycle learning rate scheduler\n",
    "    sched = torch.optim.lr_scheduler.OneCycleLR(optimizer, max_lr, epochs=epochs, \n",
    "                                                steps_per_epoch=len(train_loader))\n",
    "    \n",
    "    for epoch in range(epochs):\n",
    "        # Training Phase \n",
    "        model.train()\n",
    "        train_losses = []\n",
    "        lrs = []\n",
    "        for batch in train_loader:\n",
    "            loss = model.training_step(batch)\n",
    "            train_losses.append(loss)\n",
    "            loss.backward()\n",
    "            \n",
    "            # Gradient clipping\n",
    "            if grad_clip: \n",
    "                nn.utils.clip_grad_value_(model.parameters(), grad_clip)\n",
    "            \n",
    "            optimizer.step()\n",
    "            optimizer.zero_grad()\n",
    "            \n",
    "            # Record & update learning rate\n",
    "            lrs.append(get_lr(optimizer))\n",
    "            sched.step()\n",
    "        \n",
    "        # Validation phase\n",
    "        result = evaluate(model, val_loader)\n",
    "        result['train_loss'] = torch.stack(train_losses).mean().item()\n",
    "        result['lrs'] = lrs\n",
    "        model.epoch_end(epoch, result) #imprime lo que vamos obteniendo por cada epoca\n",
    "        history.append(result)\n",
    "    return history"
   ]
  },
  {
   "cell_type": "markdown",
   "metadata": {},
   "source": [
    "Con lo siguiente podremos ver cómo se desempeña el modelo con un conjunto inicial de pesos. Si vamos a entrenar definitivamente, recomiendo reiniciar el kerne y saltar este paso."
   ]
  },
  {
   "cell_type": "code",
   "execution_count": 21,
   "metadata": {},
   "outputs": [],
   "source": [
    "train_loader = DeviceDataLoader(train_dl, device)\n",
    "val_loader = DeviceDataLoader(val_dl, device)"
   ]
  },
  {
   "cell_type": "code",
   "execution_count": 22,
   "metadata": {},
   "outputs": [
    {
     "data": {
      "text/plain": [
       "[{'val_loss': 1.0095126628875732, 'val_acc': 0.6264312863349915}]"
      ]
     },
     "execution_count": 22,
     "metadata": {},
     "output_type": "execute_result"
    }
   ],
   "source": [
    "model = to_device(ConvAutoenc(10), device)\n",
    "history = [evaluate(model, val_loader)]\n",
    "history"
   ]
  },
  {
   "cell_type": "markdown",
   "metadata": {},
   "source": [
    "Elegimos los parámetros con los que entrenaremos"
   ]
  },
  {
   "cell_type": "code",
   "execution_count": 23,
   "metadata": {},
   "outputs": [],
   "source": [
    "epochs = 30\n",
    "max_lr = 0.1\n",
    "grad_clip = 0.1\n",
    "weight_decay = 1e-4\n",
    "input_size = 784\n",
    "batch_size = 1000"
   ]
  },
  {
   "cell_type": "markdown",
   "metadata": {},
   "source": [
    "Volvemos a cargar los datasets en los loaders porque modificamos el tamaño del batch."
   ]
  },
  {
   "cell_type": "code",
   "execution_count": 24,
   "metadata": {},
   "outputs": [],
   "source": [
    "train_dl = DataLoader(train_ds, batch_size, shuffle=True, num_workers=4, pin_memory=True)\n",
    "    \n",
    "val_dl = DataLoader(val_ds, batch_size, num_workers=4, pin_memory=True)\n",
    "\n",
    "train_loader = DeviceDataLoader(train_dl, device)\n",
    "val_loader = DeviceDataLoader(val_dl, device)\n",
    "to_device(model, device);"
   ]
  },
  {
   "cell_type": "markdown",
   "metadata": {},
   "source": [
    "Entrenaremos con diferentes tamaños de capas ocultas para después comparar con cuál se desempeña mejor el modelo."
   ]
  },
  {
   "cell_type": "code",
   "execution_count": 25,
   "metadata": {},
   "outputs": [
    {
     "data": {
      "text/plain": [
       "[{'val_loss': 1.0364898443222046, 'val_acc': 0.8214189410209656}]"
      ]
     },
     "execution_count": 25,
     "metadata": {},
     "output_type": "execute_result"
    }
   ],
   "source": [
    "hidden_size0 = 10\n",
    "\n",
    "model0 = to_device(ConvAutoenc(hidden_size0), device)\n",
    "\n",
    "history0 = [evaluate(model0, val_loader)]\n",
    "history0"
   ]
  },
  {
   "cell_type": "code",
   "execution_count": 26,
   "metadata": {},
   "outputs": [
    {
     "name": "stdout",
     "output_type": "stream",
     "text": [
      "Epoch [0], train_loss: 1.0135, val_loss: 1.0038, val_acc: 0.6664\n",
      "Epoch [1], train_loss: 0.9965, val_loss: 0.9907, val_acc: 0.6909\n",
      "Epoch [2], train_loss: 0.9616, val_loss: 0.8645, val_acc: 0.6653\n",
      "Epoch [3], train_loss: 0.7184, val_loss: 0.6706, val_acc: 0.4960\n",
      "Epoch [4], train_loss: 0.6271, val_loss: 0.5542, val_acc: 0.4360\n",
      "Epoch [5], train_loss: 0.4864, val_loss: 0.4159, val_acc: 0.3633\n",
      "Epoch [6], train_loss: 0.4010, val_loss: 0.3566, val_acc: 0.3226\n",
      "Epoch [7], train_loss: 0.3512, val_loss: 0.3192, val_acc: 0.3001\n",
      "Epoch [8], train_loss: 0.3208, val_loss: 0.2954, val_acc: 0.2806\n",
      "Epoch [9], train_loss: 0.3025, val_loss: 0.2771, val_acc: 0.2704\n",
      "Epoch [10], train_loss: 0.2892, val_loss: 0.2649, val_acc: 0.2602\n",
      "Epoch [11], train_loss: 0.2765, val_loss: 0.2565, val_acc: 0.2545\n",
      "Epoch [12], train_loss: 0.2685, val_loss: 0.2471, val_acc: 0.2467\n",
      "Epoch [13], train_loss: 0.2604, val_loss: 0.2403, val_acc: 0.2409\n",
      "Epoch [14], train_loss: 0.2535, val_loss: 0.2353, val_acc: 0.2370\n",
      "Epoch [15], train_loss: 0.2473, val_loss: 0.2292, val_acc: 0.2326\n",
      "Epoch [16], train_loss: 0.2424, val_loss: 0.2242, val_acc: 0.2276\n",
      "Epoch [17], train_loss: 0.2378, val_loss: 0.2207, val_acc: 0.2245\n",
      "Epoch [18], train_loss: 0.2339, val_loss: 0.2167, val_acc: 0.2216\n",
      "Epoch [19], train_loss: 0.2305, val_loss: 0.2140, val_acc: 0.2196\n",
      "Epoch [20], train_loss: 0.2277, val_loss: 0.2113, val_acc: 0.2171\n",
      "Epoch [21], train_loss: 0.2250, val_loss: 0.2092, val_acc: 0.2156\n",
      "Epoch [22], train_loss: 0.2229, val_loss: 0.2070, val_acc: 0.2141\n",
      "Epoch [23], train_loss: 0.2210, val_loss: 0.2056, val_acc: 0.2127\n",
      "Epoch [24], train_loss: 0.2197, val_loss: 0.2043, val_acc: 0.2117\n",
      "Epoch [25], train_loss: 0.2187, val_loss: 0.2035, val_acc: 0.2114\n",
      "Epoch [26], train_loss: 0.2178, val_loss: 0.2030, val_acc: 0.2107\n",
      "Epoch [27], train_loss: 0.2174, val_loss: 0.2026, val_acc: 0.2105\n",
      "Epoch [28], train_loss: 0.2172, val_loss: 0.2025, val_acc: 0.2104\n",
      "Epoch [29], train_loss: 0.2171, val_loss: 0.2024, val_acc: 0.2104\n"
     ]
    }
   ],
   "source": [
    "start = time.time()\n",
    "\n",
    "history0 += fit_one_cycle(epochs, max_lr, model0, train_loader, val_loader,grad_clip=grad_clip)\n",
    "\n",
    "end = time.time()\n",
    "time0= (end - start)/60 #Wall time"
   ]
  },
  {
   "cell_type": "code",
   "execution_count": 27,
   "metadata": {},
   "outputs": [
    {
     "data": {
      "text/plain": [
       "[{'val_loss': 1.002488374710083, 'val_acc': 0.6839584708213806}]"
      ]
     },
     "execution_count": 27,
     "metadata": {},
     "output_type": "execute_result"
    }
   ],
   "source": [
    "hidden_size1 = 64 \n",
    "\n",
    "model1 = to_device(ConvAutoenc(hidden_size1), device)\n",
    "\n",
    "history1 = [evaluate(model1, val_loader)]\n",
    "history1"
   ]
  },
  {
   "cell_type": "code",
   "execution_count": 28,
   "metadata": {},
   "outputs": [
    {
     "name": "stdout",
     "output_type": "stream",
     "text": [
      "Epoch [0], train_loss: 0.9994, val_loss: 0.9979, val_acc: 0.6952\n",
      "Epoch [1], train_loss: 0.9933, val_loss: 0.9878, val_acc: 0.6948\n",
      "Epoch [2], train_loss: 0.9673, val_loss: 0.9237, val_acc: 0.6674\n",
      "Epoch [3], train_loss: 0.7585, val_loss: 0.6772, val_acc: 0.5068\n",
      "Epoch [4], train_loss: 0.6258, val_loss: 0.5390, val_acc: 0.4291\n",
      "Epoch [5], train_loss: 0.4628, val_loss: 0.3766, val_acc: 0.3399\n",
      "Epoch [6], train_loss: 0.3918, val_loss: 0.2958, val_acc: 0.2797\n",
      "Epoch [7], train_loss: 0.2758, val_loss: 0.2320, val_acc: 0.2419\n",
      "Epoch [8], train_loss: 0.2303, val_loss: 0.1959, val_acc: 0.2178\n",
      "Epoch [9], train_loss: 0.2018, val_loss: 0.1721, val_acc: 0.2017\n",
      "Epoch [10], train_loss: 0.1819, val_loss: 0.1547, val_acc: 0.1892\n",
      "Epoch [11], train_loss: 0.1669, val_loss: 0.1423, val_acc: 0.1799\n",
      "Epoch [12], train_loss: 0.1566, val_loss: 0.1334, val_acc: 0.1723\n",
      "Epoch [13], train_loss: 0.1460, val_loss: 0.1246, val_acc: 0.1658\n",
      "Epoch [14], train_loss: 0.1386, val_loss: 0.1176, val_acc: 0.1600\n",
      "Epoch [15], train_loss: 0.1322, val_loss: 0.1123, val_acc: 0.1542\n",
      "Epoch [16], train_loss: 0.1268, val_loss: 0.1072, val_acc: 0.1494\n",
      "Epoch [17], train_loss: 0.1222, val_loss: 0.1031, val_acc: 0.1460\n",
      "Epoch [18], train_loss: 0.1183, val_loss: 0.0999, val_acc: 0.1422\n",
      "Epoch [19], train_loss: 0.1149, val_loss: 0.0973, val_acc: 0.1396\n",
      "Epoch [20], train_loss: 0.1121, val_loss: 0.0947, val_acc: 0.1370\n",
      "Epoch [21], train_loss: 0.1097, val_loss: 0.0922, val_acc: 0.1352\n",
      "Epoch [22], train_loss: 0.1077, val_loss: 0.0909, val_acc: 0.1335\n",
      "Epoch [23], train_loss: 0.1061, val_loss: 0.0893, val_acc: 0.1321\n",
      "Epoch [24], train_loss: 0.1048, val_loss: 0.0884, val_acc: 0.1310\n",
      "Epoch [25], train_loss: 0.1038, val_loss: 0.0875, val_acc: 0.1302\n",
      "Epoch [26], train_loss: 0.1032, val_loss: 0.0870, val_acc: 0.1298\n",
      "Epoch [27], train_loss: 0.1028, val_loss: 0.0867, val_acc: 0.1296\n",
      "Epoch [28], train_loss: 0.1025, val_loss: 0.0866, val_acc: 0.1295\n",
      "Epoch [29], train_loss: 0.1023, val_loss: 0.0866, val_acc: 0.1295\n",
      "CPU times: user 21.8 s, sys: 8.43 s, total: 30.3 s\n",
      "Wall time: 6min 7s\n"
     ]
    }
   ],
   "source": [
    "%%time\n",
    "start = time.time()\n",
    "\n",
    "history1 += fit_one_cycle(epochs, max_lr, model1, train_loader, val_loader,grad_clip=grad_clip)\n",
    "\n",
    "end = time.time()\n",
    "time1 = (end - start)/60 #Wall time"
   ]
  },
  {
   "cell_type": "code",
   "execution_count": 29,
   "metadata": {},
   "outputs": [
    {
     "data": {
      "text/plain": [
       "[{'val_loss': 1.0491634607315063, 'val_acc': 0.5523210763931274}]"
      ]
     },
     "execution_count": 29,
     "metadata": {},
     "output_type": "execute_result"
    }
   ],
   "source": [
    "hidden_size2 = 128\n",
    "\n",
    "model2 = to_device(ConvAutoenc(hidden_size2), device)\n",
    "\n",
    "history2 = [evaluate(model2, val_loader)]\n",
    "history2"
   ]
  },
  {
   "cell_type": "code",
   "execution_count": 30,
   "metadata": {},
   "outputs": [
    {
     "name": "stdout",
     "output_type": "stream",
     "text": [
      "Epoch [0], train_loss: 1.0115, val_loss: 0.9961, val_acc: 0.7418\n",
      "Epoch [1], train_loss: 0.9867, val_loss: 0.9793, val_acc: 0.6846\n",
      "Epoch [2], train_loss: 0.9603, val_loss: 0.9123, val_acc: 0.6691\n",
      "Epoch [3], train_loss: 0.7367, val_loss: 0.6687, val_acc: 0.4922\n",
      "Epoch [4], train_loss: 0.6098, val_loss: 0.5099, val_acc: 0.4077\n",
      "Epoch [5], train_loss: 0.4397, val_loss: 0.3579, val_acc: 0.3149\n",
      "Epoch [6], train_loss: 0.4369, val_loss: 0.2898, val_acc: 0.2664\n",
      "Epoch [7], train_loss: 0.2671, val_loss: 0.2244, val_acc: 0.2283\n",
      "Epoch [8], train_loss: 0.2209, val_loss: 0.1889, val_acc: 0.2062\n",
      "Epoch [9], train_loss: 0.1918, val_loss: 0.1654, val_acc: 0.1928\n",
      "Epoch [10], train_loss: 0.1722, val_loss: 0.1472, val_acc: 0.1796\n",
      "Epoch [11], train_loss: 0.1566, val_loss: 0.1347, val_acc: 0.1709\n",
      "Epoch [12], train_loss: 0.1455, val_loss: 0.1252, val_acc: 0.1633\n",
      "Epoch [13], train_loss: 0.1361, val_loss: 0.1164, val_acc: 0.1567\n",
      "Epoch [14], train_loss: 0.1285, val_loss: 0.1105, val_acc: 0.1525\n",
      "Epoch [15], train_loss: 0.1224, val_loss: 0.1046, val_acc: 0.1465\n",
      "Epoch [16], train_loss: 0.1166, val_loss: 0.0999, val_acc: 0.1426\n",
      "Epoch [17], train_loss: 0.1120, val_loss: 0.0954, val_acc: 0.1386\n",
      "Epoch [18], train_loss: 0.1082, val_loss: 0.0919, val_acc: 0.1355\n",
      "Epoch [19], train_loss: 0.1047, val_loss: 0.0891, val_acc: 0.1326\n",
      "Epoch [20], train_loss: 0.1018, val_loss: 0.0866, val_acc: 0.1301\n",
      "Epoch [21], train_loss: 0.0994, val_loss: 0.0843, val_acc: 0.1279\n",
      "Epoch [22], train_loss: 0.0973, val_loss: 0.0825, val_acc: 0.1259\n",
      "Epoch [23], train_loss: 0.0957, val_loss: 0.0811, val_acc: 0.1246\n",
      "Epoch [24], train_loss: 0.0944, val_loss: 0.0801, val_acc: 0.1237\n",
      "Epoch [25], train_loss: 0.0935, val_loss: 0.0793, val_acc: 0.1228\n",
      "Epoch [26], train_loss: 0.0928, val_loss: 0.0787, val_acc: 0.1222\n",
      "Epoch [27], train_loss: 0.0923, val_loss: 0.0784, val_acc: 0.1220\n",
      "Epoch [28], train_loss: 0.0921, val_loss: 0.0783, val_acc: 0.1218\n",
      "Epoch [29], train_loss: 0.0920, val_loss: 0.0783, val_acc: 0.1218\n",
      "CPU times: user 21.9 s, sys: 8.56 s, total: 30.5 s\n",
      "Wall time: 6min 9s\n"
     ]
    }
   ],
   "source": [
    "%%time\n",
    "start = time.time()\n",
    "\n",
    "history2 += fit_one_cycle(epochs, max_lr, model2, train_loader, val_loader, grad_clip=grad_clip)\n",
    "\n",
    "end = time.time()\n",
    "time2 = (end - start)/60 #Wall time"
   ]
  },
  {
   "cell_type": "code",
   "execution_count": 31,
   "metadata": {},
   "outputs": [
    {
     "data": {
      "text/plain": [
       "[{'val_loss': 1.0084922313690186, 'val_acc': 0.6527111530303955}]"
      ]
     },
     "execution_count": 31,
     "metadata": {},
     "output_type": "execute_result"
    }
   ],
   "source": [
    "hidden_size3 = 256\n",
    "\n",
    "model3 = to_device(ConvAutoenc(hidden_size3), device)\n",
    "\n",
    "history3 = [evaluate(model3, val_loader)]\n",
    "history3"
   ]
  },
  {
   "cell_type": "code",
   "execution_count": 32,
   "metadata": {},
   "outputs": [
    {
     "name": "stdout",
     "output_type": "stream",
     "text": [
      "Epoch [0], train_loss: 1.0011, val_loss: 0.9978, val_acc: 0.6924\n",
      "Epoch [1], train_loss: 0.9927, val_loss: 0.9868, val_acc: 0.6889\n",
      "Epoch [2], train_loss: 0.9669, val_loss: 0.9116, val_acc: 0.6738\n",
      "Epoch [3], train_loss: 0.7284, val_loss: 0.6581, val_acc: 0.4857\n",
      "Epoch [4], train_loss: 0.5758, val_loss: 0.4614, val_acc: 0.3777\n",
      "Epoch [5], train_loss: 0.3893, val_loss: 0.3106, val_acc: 0.2843\n",
      "Epoch [6], train_loss: 0.2837, val_loss: 0.2295, val_acc: 0.2335\n",
      "Epoch [7], train_loss: 0.2305, val_loss: 0.1881, val_acc: 0.2077\n",
      "Epoch [8], train_loss: 0.1867, val_loss: 0.1630, val_acc: 0.1893\n",
      "Epoch [9], train_loss: 0.1653, val_loss: 0.1406, val_acc: 0.1760\n",
      "Epoch [10], train_loss: 0.1482, val_loss: 0.1274, val_acc: 0.1652\n",
      "Epoch [11], train_loss: 0.1364, val_loss: 0.1171, val_acc: 0.1566\n",
      "Epoch [12], train_loss: 0.1254, val_loss: 0.1079, val_acc: 0.1496\n",
      "Epoch [13], train_loss: 0.1180, val_loss: 0.1010, val_acc: 0.1437\n",
      "Epoch [14], train_loss: 0.1111, val_loss: 0.0960, val_acc: 0.1388\n",
      "Epoch [15], train_loss: 0.1053, val_loss: 0.0901, val_acc: 0.1343\n",
      "Epoch [16], train_loss: 0.1009, val_loss: 0.0866, val_acc: 0.1309\n",
      "Epoch [17], train_loss: 0.0972, val_loss: 0.0831, val_acc: 0.1275\n",
      "Epoch [18], train_loss: 0.0937, val_loss: 0.0801, val_acc: 0.1252\n",
      "Epoch [19], train_loss: 0.0909, val_loss: 0.0777, val_acc: 0.1228\n",
      "Epoch [20], train_loss: 0.0886, val_loss: 0.0754, val_acc: 0.1204\n",
      "Epoch [21], train_loss: 0.0865, val_loss: 0.0737, val_acc: 0.1187\n",
      "Epoch [22], train_loss: 0.0848, val_loss: 0.0722, val_acc: 0.1171\n",
      "Epoch [23], train_loss: 0.0835, val_loss: 0.0712, val_acc: 0.1159\n",
      "Epoch [24], train_loss: 0.0825, val_loss: 0.0701, val_acc: 0.1150\n",
      "Epoch [25], train_loss: 0.0815, val_loss: 0.0695, val_acc: 0.1143\n",
      "Epoch [26], train_loss: 0.0810, val_loss: 0.0690, val_acc: 0.1140\n",
      "Epoch [27], train_loss: 0.0806, val_loss: 0.0688, val_acc: 0.1138\n",
      "Epoch [28], train_loss: 0.0803, val_loss: 0.0686, val_acc: 0.1136\n",
      "Epoch [29], train_loss: 0.0803, val_loss: 0.0686, val_acc: 0.1136\n",
      "CPU times: user 22 s, sys: 8.82 s, total: 30.9 s\n",
      "Wall time: 6min 11s\n"
     ]
    }
   ],
   "source": [
    "%%time\n",
    "start = time.time()\n",
    "\n",
    "history3 += fit_one_cycle(epochs, max_lr, model3, train_loader, val_loader, grad_clip=grad_clip)\n",
    "\n",
    "end = time.time()\n",
    "time3 = (end - start)/60 #Wall time"
   ]
  },
  {
   "cell_type": "code",
   "execution_count": 33,
   "metadata": {},
   "outputs": [
    {
     "data": {
      "text/plain": [
       "[{'val_loss': 1.0423429012298584, 'val_acc': 0.8316307067871094}]"
      ]
     },
     "execution_count": 33,
     "metadata": {},
     "output_type": "execute_result"
    }
   ],
   "source": [
    "hidden_size4 = 512\n",
    "\n",
    "model4 = to_device(ConvAutoenc(hidden_size4), device)\n",
    "\n",
    "history4 = [evaluate(model4, val_loader)]\n",
    "history4"
   ]
  },
  {
   "cell_type": "code",
   "execution_count": 34,
   "metadata": {},
   "outputs": [
    {
     "name": "stdout",
     "output_type": "stream",
     "text": [
      "Epoch [0], train_loss: 1.0155, val_loss: 1.0033, val_acc: 0.6658\n",
      "Epoch [1], train_loss: 0.9984, val_loss: 0.9967, val_acc: 0.6906\n",
      "Epoch [2], train_loss: 0.9908, val_loss: 0.9833, val_acc: 0.6905\n",
      "Epoch [3], train_loss: 0.9573, val_loss: 0.8417, val_acc: 0.6586\n",
      "Epoch [4], train_loss: 0.7011, val_loss: 0.6412, val_acc: 0.4660\n",
      "Epoch [5], train_loss: 0.5275, val_loss: 0.4116, val_acc: 0.3601\n",
      "Epoch [6], train_loss: 0.3548, val_loss: 0.3465, val_acc: 0.3285\n",
      "Epoch [7], train_loss: 0.2629, val_loss: 0.2131, val_acc: 0.2401\n",
      "Epoch [8], train_loss: 0.2062, val_loss: 0.1743, val_acc: 0.2127\n",
      "Epoch [9], train_loss: 0.1749, val_loss: 0.1495, val_acc: 0.1945\n",
      "Epoch [10], train_loss: 0.1544, val_loss: 0.1332, val_acc: 0.1813\n",
      "Epoch [11], train_loss: 0.1397, val_loss: 0.1210, val_acc: 0.1714\n",
      "Epoch [12], train_loss: 0.1287, val_loss: 0.1108, val_acc: 0.1634\n",
      "Epoch [13], train_loss: 0.1196, val_loss: 0.1046, val_acc: 0.1582\n",
      "Epoch [14], train_loss: 0.1129, val_loss: 0.0971, val_acc: 0.1517\n",
      "Epoch [15], train_loss: 0.1068, val_loss: 0.0919, val_acc: 0.1472\n",
      "Epoch [16], train_loss: 0.1017, val_loss: 0.0878, val_acc: 0.1432\n",
      "Epoch [17], train_loss: 0.0975, val_loss: 0.0839, val_acc: 0.1400\n",
      "Epoch [18], train_loss: 0.0940, val_loss: 0.0807, val_acc: 0.1375\n",
      "Epoch [19], train_loss: 0.0909, val_loss: 0.0781, val_acc: 0.1347\n",
      "Epoch [20], train_loss: 0.0883, val_loss: 0.0757, val_acc: 0.1329\n",
      "Epoch [21], train_loss: 0.0862, val_loss: 0.0740, val_acc: 0.1310\n",
      "Epoch [22], train_loss: 0.0845, val_loss: 0.0724, val_acc: 0.1296\n",
      "Epoch [23], train_loss: 0.0829, val_loss: 0.0711, val_acc: 0.1285\n",
      "Epoch [24], train_loss: 0.0819, val_loss: 0.0702, val_acc: 0.1275\n",
      "Epoch [25], train_loss: 0.0810, val_loss: 0.0695, val_acc: 0.1268\n",
      "Epoch [26], train_loss: 0.0803, val_loss: 0.0690, val_acc: 0.1264\n",
      "Epoch [27], train_loss: 0.0800, val_loss: 0.0688, val_acc: 0.1261\n",
      "Epoch [28], train_loss: 0.0798, val_loss: 0.0687, val_acc: 0.1260\n",
      "Epoch [29], train_loss: 0.0797, val_loss: 0.0686, val_acc: 0.1260\n",
      "CPU times: user 21.4 s, sys: 8.56 s, total: 29.9 s\n",
      "Wall time: 6min 5s\n"
     ]
    }
   ],
   "source": [
    "%%time\n",
    "start = time.time()\n",
    "\n",
    "history4 += fit_one_cycle(epochs, max_lr, model4, train_loader, val_loader, grad_clip=grad_clip)\n",
    "\n",
    "end = time.time()\n",
    "time4 = (end - start)/60 #Wall time"
   ]
  },
  {
   "cell_type": "markdown",
   "metadata": {},
   "source": [
    "## Ploteos"
   ]
  },
  {
   "cell_type": "markdown",
   "metadata": {},
   "source": [
    "### Error cuadrático medio de validacion"
   ]
  },
  {
   "cell_type": "code",
   "execution_count": 35,
   "metadata": {},
   "outputs": [
    {
     "data": {
      "text/plain": [
       "<matplotlib.legend.Legend at 0x7f1c3d481550>"
      ]
     },
     "execution_count": 35,
     "metadata": {},
     "output_type": "execute_result"
    },
    {
     "data": {
      "image/png": "[encoded data removed]",
      "text/plain": [
       "<Figure size 432x288 with 1 Axes>"
      ]
     },
     "metadata": {
      "needs_background": "light"
     },
     "output_type": "display_data"
    }
   ],
   "source": [
    "vloss0 = [x['val_loss'] for x in history0]\n",
    "vloss1 = [x['val_loss'] for x in history1]\n",
    "vloss2 = [x['val_loss'] for x in history2]\n",
    "vloss3 = [x['val_loss'] for x in history3]\n",
    "vloss4 = [x['val_loss'] for x in history4]\n",
    "plt.plot(vloss0, '-c', label='10')\n",
    "plt.plot(vloss1, '-r', label='64')\n",
    "plt.plot(vloss2, '-b', label='128')\n",
    "plt.plot(vloss3, '-g', label='256')\n",
    "plt.plot(vloss4, '-m', label='512')\n",
    "\n",
    "plt.xlabel('Epoca')\n",
    "plt.ylabel('Error')\n",
    "plt.title('Error cuadrático medio - Validación')\n",
    "plt.legend(title='Tamaño capa oculta')"
   ]
  },
  {
   "cell_type": "markdown",
   "metadata": {},
   "source": [
    "### Error cuadrático medio de entrenamiento"
   ]
  },
  {
   "cell_type": "code",
   "execution_count": 36,
   "metadata": {},
   "outputs": [
    {
     "data": {
      "text/plain": [
       "<matplotlib.legend.Legend at 0x7f1c3cfef9d0>"
      ]
     },
     "execution_count": 36,
     "metadata": {},
     "output_type": "execute_result"
    },
    {
     "data": {
      "image/png": "[encoded data removed]",
      "text/plain": [
       "<Figure size 432x288 with 1 Axes>"
      ]
     },
     "metadata": {
      "needs_background": "light"
     },
     "output_type": "display_data"
    }
   ],
   "source": [
    "tloss0 = [x.get('train_loss') for x in history0]\n",
    "tloss1 = [x.get('train_loss') for x in history1]\n",
    "tloss2 = [x.get('train_loss') for x in history2]\n",
    "tloss3 = [x.get('train_loss') for x in history3]\n",
    "tloss4 = [x.get('train_loss') for x in history4]\n",
    "\n",
    "plt.plot(tloss0, '-c', label='10')\n",
    "plt.plot(tloss1, '-r', label='64')\n",
    "plt.plot(tloss2, '-b', label='128')\n",
    "plt.plot(tloss3, '-g', label='256')\n",
    "plt.plot(tloss4, '-m', label='512')\n",
    "\n",
    "plt.xlabel('Epoca')\n",
    "plt.ylabel('Error')\n",
    "plt.title('Error cuadrático medio - Train')\n",
    "plt.legend(title='Tamaño capa oculta')"
   ]
  },
  {
   "cell_type": "markdown",
   "metadata": {},
   "source": [
    "### Función de pérdida vs numero de epoca\n",
    "\n",
    "Para algun tamaño de capa oculta"
   ]
  },
  {
   "cell_type": "code",
   "execution_count": 37,
   "metadata": {},
   "outputs": [],
   "source": [
    "def plot_losses(history):\n",
    "    train_losses = [x.get('train_loss') for x in history]\n",
    "    val_losses = [x['val_loss'] for x in history]\n",
    "    plt.plot(train_losses, '-b')\n",
    "    plt.plot(val_losses, '-r')\n",
    "    plt.xlabel('Epoca')\n",
    "    plt.ylabel('Error')\n",
    "    plt.legend(['Training', 'Test']);"
   ]
  },
  {
   "cell_type": "code",
   "execution_count": 38,
   "metadata": {},
   "outputs": [
    {
     "data": {
      "text/plain": [
       "Text(0.5, 1.0, 'Capa ocuta = 64')"
      ]
     },
     "execution_count": 38,
     "metadata": {},
     "output_type": "execute_result"
    },
    {
     "data": {
      "image/png": "[encoded data removed]",
      "text/plain": [
       "<Figure size 720x360 with 5 Axes>"
      ]
     },
     "metadata": {
      "needs_background": "light"
     },
     "output_type": "display_data"
    }
   ],
   "source": [
    "plt.figure(figsize=(10,5))\n",
    "plt.suptitle('Error vs. No. de época')\n",
    "\n",
    "plt.subplot(151)\n",
    "plot_losses(history0)\n",
    "plt.title('Capa ocuta = 10')\n",
    "\n",
    "plt.subplot(152)\n",
    "plot_losses(history1)\n",
    "plt.title('Capa ocuta = 64')\n",
    "\n",
    "plt.subplot(153)\n",
    "plot_losses(history2)\n",
    "plt.title('Capa ocuta = 128')\n",
    "\n",
    "plt.subplot(154)\n",
    "plot_losses(history3)\n",
    "plt.title('Capa ocuta = 256')\n",
    "\n",
    "plt.subplot(155)\n",
    "plot_losses(history4)\n",
    "plt.title('Capa ocuta = 64')"
   ]
  },
  {
   "cell_type": "markdown",
   "metadata": {},
   "source": [
    "### Learning rate vs batch"
   ]
  },
  {
   "cell_type": "code",
   "execution_count": 39,
   "metadata": {},
   "outputs": [
    {
     "data": {
      "image/png": "[encoded data removed]",
      "text/plain": [
       "<Figure size 432x288 with 1 Axes>"
      ]
     },
     "metadata": {
      "needs_background": "light"
     },
     "output_type": "display_data"
    }
   ],
   "source": [
    "def plot_lrs(history):\n",
    "    lrs = np.concatenate([x.get('lrs', []) for x in history])\n",
    "    plt.plot(lrs)\n",
    "    plt.xlabel('Batch no.')\n",
    "    plt.ylabel('Learning rate')\n",
    "    plt.title('Learning Rate vs. Batch no.');\n",
    "    \n",
    "plot_lrs(history4)"
   ]
  },
  {
   "cell_type": "markdown",
   "metadata": {},
   "source": [
    "## Testeo\n",
    "Con las siguientes funciones podremos graficar un autput del modelo junto con la imagen original, de forma que podamos comparar."
   ]
  },
  {
   "cell_type": "code",
   "execution_count": 40,
   "metadata": {},
   "outputs": [],
   "source": [
    "#Test\n",
    "def predict_image(img, model):\n",
    "    xb = to_device(img.unsqueeze(0), device) # Convert to a batch of 1\n",
    "    yb = model(xb) # Get predictions from model\n",
    "    return yb"
   ]
  },
  {
   "cell_type": "markdown",
   "metadata": {},
   "source": [
    "Visualizamos una salida que elegimos al azar del conjunto de testeo, para cada capa oculta, co la imagen original correspondiente."
   ]
  },
  {
   "cell_type": "code",
   "execution_count": 41,
   "metadata": {},
   "outputs": [],
   "source": [
    "x_test, label = test_ds[9235] #le pasamos el numero de imagen del set de validación"
   ]
  },
  {
   "cell_type": "code",
   "execution_count": 42,
   "metadata": {},
   "outputs": [
    {
     "data": {
      "image/png": "[encoded data removed]",
      "text/plain": [
       "<Figure size 432x396 with 6 Axes>"
      ]
     },
     "metadata": {
      "needs_background": "light"
     },
     "output_type": "display_data"
    }
   ],
   "source": [
    "dims=(28,28)\n",
    "\n",
    "plt.figure(figsize=(6,5.5))\n",
    "plt.suptitle('Salidas para batch={}, épocas={}'.format(batch_size, epochs))\n",
    "\n",
    "plt.subplot(231)\n",
    "plt.imshow(x_test.reshape((28,28)))\n",
    "plt.gray()\n",
    "plt.title('Original')\n",
    "plt.axis('off')\n",
    "\n",
    "plt.subplot(232)\n",
    "decoded_img0 = predict_image(x_test,model0).cpu().detach().numpy()\n",
    "plt.imshow(decoded_img0.reshape(dims))\n",
    "plt.title('h size: {}'.format(hidden_size0))\n",
    "plt.axis('off')\n",
    "\n",
    "plt.subplot(233)\n",
    "decoded_img1 = predict_image(x_test,model1).cpu().detach().numpy()\n",
    "plt.imshow(decoded_img1.reshape(dims))\n",
    "plt.title('h size: {}'.format(hidden_size1))\n",
    "plt.axis('off')\n",
    "\n",
    "plt.subplot(234)\n",
    "decoded_img2 = predict_image(x_test,model2).cpu().detach().numpy()\n",
    "plt.imshow(decoded_img2.reshape(dims))\n",
    "plt.title('h size: {}'.format(hidden_size2))\n",
    "plt.axis('off')\n",
    "\n",
    "plt.subplot(235)\n",
    "decoded_img3 = predict_image(x_test,model3).cpu().detach().numpy()\n",
    "plt.imshow(decoded_img3.reshape(dims))\n",
    "plt.title('h size: {}'.format(hidden_size3))\n",
    "plt.axis('off')\n",
    "\n",
    "plt.subplot(236)\n",
    "decoded_img4 = predict_image(x_test,model4).cpu().detach().numpy()\n",
    "plt.imshow(decoded_img4.reshape(dims))\n",
    "plt.title('h size: {}'.format(hidden_size4))\n",
    "plt.axis('off')\n",
    "\n",
    "plt.tight_layout()\n",
    "plt.show()\n",
    "#plot_autoencoder_outputs(img_orig,model1)\n",
    "#plot_autoencoder_outputs(img_orig,model2)\n",
    "#plot_autoencoder_outputs(img_orig,model3)\n",
    "#plot_autoencoder_outputs(img_orig,model4)"
   ]
  },
  {
   "cell_type": "markdown",
   "metadata": {},
   "source": [
    "## Testeo\n",
    "\n",
    "Finalmente, vamos a calcular el error sobre el dataset de testeo o evaluación. En general, se espera que sea similar al obtenido para el dataset de validación. Con esto obenemos una nueva métrica para evaluar los resultados."
   ]
  },
  {
   "cell_type": "code",
   "execution_count": 43,
   "metadata": {},
   "outputs": [
    {
     "data": {
      "text/plain": [
       "[0.19979043304920197,\n",
       " 0.08431626111268997,\n",
       " 0.0762845054268837,\n",
       " 0.06696203351020813,\n",
       " 0.06702926754951477]"
      ]
     },
     "execution_count": 43,
     "metadata": {},
     "output_type": "execute_result"
    }
   ],
   "source": [
    "test_loader = DeviceDataLoader(DataLoader(test_ds, batch_size*2), device)\n",
    "\n",
    "test_result=[]\n",
    "test_result.append(evaluate(model0, test_loader).get('val_loss'))\n",
    "test_result.append(evaluate(model1, test_loader).get('val_loss'))\n",
    "test_result.append(evaluate(model2, test_loader).get('val_loss'))\n",
    "test_result.append(evaluate(model3, test_loader).get('val_loss'))\n",
    "test_result.append(evaluate(model4, test_loader).get('val_loss'))\n",
    "\n",
    "test_result"
   ]
  },
  {
   "cell_type": "markdown",
   "metadata": {},
   "source": [
    "## Tabla comparativa"
   ]
  },
  {
   "cell_type": "code",
   "execution_count": 44,
   "metadata": {},
   "outputs": [],
   "source": [
    "col = ['Capa oculta', 'Minimo error train', 'Minimo error val', 'Error conjunto test', 'Tiempo (min)']\n",
    "rows = ['%d' % x for x in (10, 64, 128, 256, 512)]\n",
    "data = [\n",
    "       [hidden_size0, history0[-1].get('train_loss'), history0[-1].get('val_loss'), test_result[0], time0],\n",
    "       [hidden_size1, history1[-1].get('train_loss'), history1[-1].get('val_loss'), test_result[1], time1],\n",
    "       [hidden_size2, history2[-1].get('train_loss'), history2[-1].get('val_loss'), test_result[2], time2],\n",
    "       [hidden_size3, history3[-1].get('train_loss'), history0[-1].get('val_loss'), test_result[3] ,time3],\n",
    "       [hidden_size4, history4[-1].get('train_loss'), history0[-1].get('val_loss'), test_result[4] ,time4]\n",
    "       ]"
   ]
  },
  {
   "cell_type": "code",
   "execution_count": 45,
   "metadata": {},
   "outputs": [
    {
     "data": {
      "image/png": "[encoded data removed]",
      "text/plain": [
       "<Figure size 720x720 with 1 Axes>"
      ]
     },
     "metadata": {
      "needs_background": "light"
     },
     "output_type": "display_data"
    }
   ],
   "source": [
    "import numpy as np\n",
    "import pandas as pd\n",
    "\n",
    "fig, ax = plt.subplots(figsize=(10,10))\n",
    "\n",
    "# hide axes\n",
    "fig.patch.set_visible(False)\n",
    "ax.axis('off')\n",
    "ax.axis('tight')\n",
    "\n",
    "df = pd.DataFrame(data, columns=col)\n",
    "\n",
    "ax.table(cellText=df.values, colLabels=df.columns, loc='center')\n",
    "\n",
    "fig.tight_layout()\n",
    "plt.title('Épocas: {}. Tamaño de batch: {}'.format(epochs, batch_size), y=0.6, pad=-14)\n",
    "plt.show()"
   ]
  },
  {
   "cell_type": "markdown",
   "metadata": {},
   "source": [
    "## Commit and upload the notebook\n",
    "\n",
    "Finalemente, guardamos el trabajo en Jovian. Esto es muy util si queremos, además de conservar versiones, guardar las métricas de forma simple."
   ]
  },
  {
   "cell_type": "code",
   "execution_count": 46,
   "metadata": {},
   "outputs": [
    {
     "data": {
      "application/javascript": [
       "if (window.IPython && IPython.notebook.kernel) IPython.notebook.kernel.execute('jovian.utils.jupyter.get_notebook_name_saved = lambda: \"' + IPython.notebook.notebook_name + '\"')"
      ],
      "text/plain": [
       "<IPython.core.display.Javascript object>"
      ]
     },
     "metadata": {},
     "output_type": "display_data"
    }
   ],
   "source": [
    "!pip install jovian --upgrade -q\n",
    "\n",
    "import jovian"
   ]
  },
  {
   "cell_type": "code",
   "execution_count": 47,
   "metadata": {},
   "outputs": [
    {
     "name": "stdout",
     "output_type": "stream",
     "text": [
      "[jovian] Please enter your API key ( from https://jovian.ai/ ):\u001b[0m\n",
      "API KEY: ········\n",
      "[jovian] Hyperparams logged.\u001b[0m\n"
     ]
    },
    {
     "data": {
      "application/javascript": [
       "window.require && require([\"base/js/namespace\"],function(Jupyter){Jupyter.notebook.save_checkpoint()})"
      ],
      "text/plain": [
       "<IPython.core.display.Javascript object>"
      ]
     },
     "metadata": {},
     "output_type": "display_data"
    },
    {
     "name": "stdout",
     "output_type": "stream",
     "text": [
      "[jovian] Attempting to save notebook..\u001b[0m\n",
      "[jovian] Detected Kaggle notebook...\u001b[0m\n",
      "[jovian] Uploading notebook to https://jovian.ai/paula-rj/Autoencoder Convolucional\u001b[0m\n"
     ]
    },
    {
     "data": {
      "application/javascript": [
       "\n",
       "    require([\"base/js/namespace\"],function(Jupyter) {\n",
       "        var nbJson = JSON.stringify(Jupyter.notebook.toJSON());\n",
       "\n",
       "        console.log(\"[jovian] Extracted notebook JSON:\");\n",
       "        console.log(nbJson);\n",
       "\n",
       "        function jvnLog (data) {\n",
       "          console.log(\"Result from jovian.commit:\");\n",
       "          if (data.content.text) {\n",
       "              var result = JSON.parse(data.content.text.trim());\n",
       "              var msg = result['msg'];\n",
       "              var err = result['err'];\n",
       "              if (msg) {\n",
       "                  element.text(\"Committed successfully: \" + msg)\n",
       "              } else {\n",
       "                  alert(\"Notebook commit failed. Error: \" + (err || \"Unknown\"))\n",
       "              }\n",
       "          }\n",
       "          \n",
       "        };\n",
       "        \n",
       "        var pythonCode = `\n",
       "from contextlib import redirect_stdout, redirect_stderr\n",
       "from io import StringIO\n",
       "import json\n",
       " \n",
       "with open(\"Autoencoder Convolucional.ipynb\", 'w') as f:\n",
       "    f.write(r\"\"\"${nbJson}\"\"\")\n",
       "\n",
       "jvn_update = StringIO()\n",
       "jvn_update_err = StringIO()\n",
       "with redirect_stdout(jvn_update), redirect_stderr(jvn_update_err):\n",
       "    from jovian import commit\n",
       "\n",
       "jvn_f_out = StringIO()\n",
       "jvn_f_err = StringIO()\n",
       "with redirect_stdout(jvn_f_out), redirect_stderr(jvn_f_err):\n",
       "    jvn_msg = jovian.commit(message=None, files=[], outputs=['Autoencoder Convoluciona.pth'], environment=None, privacy='auto', filename='Autoencoder Convolucional.ipynb', project='Autoencoder Convolucional', new_project=None)\n",
       "\n",
       "print(json.dumps({'msg': jvn_msg, 'err': jvn_f_err.getvalue(), 'update': jvn_update.getvalue()}))\n",
       "        `;\n",
       "\n",
       "        console.log(\"Invoking jovian.commit\")\n",
       "        // console.log(pythonCode)\n",
       "\n",
       "        Jupyter.notebook.kernel.execute(pythonCode, { iopub: { output: jvnLog }});\n",
       "    });"
      ],
      "text/plain": [
       "<IPython.core.display.Javascript object>"
      ]
     },
     "metadata": {},
     "output_type": "display_data"
    }
   ],
   "source": [
    "jovian.reset()\n",
    "\n",
    "jovian.log_hyperparams(cant_epocas = epochs,\n",
    "                       lr = max_lr,\n",
    "                       batch=batch_size,\n",
    "                       optimizador = 'SGD')\n",
    "\n",
    "jovian.commit(project='Autoencoder Convolucional', outputs=['Autoencoder Convoluciona.pth'], environment=None)"
   ]
  },
  {
   "cell_type": "markdown",
   "metadata": {},
   "source": [
    "Fuentes:\n",
    "\n",
    "[Pytorch: from zero to GANs](http://jovian.ai)\n",
    "\n",
    "https://nextjournal.com/gkoehler/pytorch-mnist\n",
    "\n",
    "https://github.com/ardendertat/Applied-Deep-Learning-with-Keras/blob/master/notebooks/Part%203%20-%20Autoencoders.ipynb\n",
    "\n",
    "[Guo, Xifeng & Liu, Xinwang & Zhu, En & Yin, Jianping. (2017). Deep Clustering with Convolutional Autoencoders. 373-382. 10.1007/978-3-319-70096-0_39. ](http://https://www.researchgate.net/figure/The-structure-of-proposed-Convolutional-AutoEncoders-CAE-for-MNIST-In-the-middle-there_fig1_320658590); codigo en [github](https://github.com/XifengGuo/DCEC/blob/master/metrics.py) (en keras).\n",
    "\n",
    "https://debuggercafe.com/convolutional-variational-autoencoder-in-pytorch-on-mnist-dataset/"
   ]
  }
 ],
 "metadata": {
  "language_info": {
   "codemirror_mode": {
    "name": "ipython",
    "version": 3
   },
   "file_extension": ".py",
   "mimetype": "text/x-python",
   "name": "python",
   "nbconvert_exporter": "python",
   "pygments_lexer": "ipython3",
   "version": "3.7.9"
  }
 },
 "nbformat": 4,
 "nbformat_minor": 4
}