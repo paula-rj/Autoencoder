{
 "cells": [
  {
   "cell_type": "markdown",
   "metadata": {},
   "source": [
    "## Preparación de los datos\n",
    "\n",
    "En [este tutorial](https://jvn.io/aakashns/a1b40b04f5174a18bd05b17e3dffb0f0), se explica el procedimiento (en inglés).\n",
    "\n",
    "Primero importamos las librerías y funciones que vamos a utilizar."
   ]
  },
  {
   "cell_type": "code",
   "execution_count": 1,
   "metadata": {},
   "outputs": [],
   "source": [
    "#Librerias de machine learning\n",
    "import torch #PyTorch\n",
    "import torchvision \n",
    "#Libreria para procesar imágenes para ML\n",
    "import numpy as np #Librería para hacer operaciones vectoriales y matriciales\n",
    "import torch.nn as nn #Librería de torch con funciones para hacer cosas con redes neuronales\n",
    "import torch.nn.functional as F #Lo mismo que nn pero le pasas los argumentos DENTRO de la funcion\n",
    "import torchvision.transforms #Sirve para hacer transformaciones a la imágenes por ej rotaciones \n",
    "from torchvision.datasets import MNIST #Dataset que vamos a usar. Lo importamos desde PyTorch\n",
    "from torch.utils.data.dataloader import DataLoader #Sirve para cargar los datos\n",
    "from torch.utils.data import random_split #Sirve para partir listas de manera aleatoria\n",
    "\n",
    "#Librerias para plotear\n",
    "from torchvision.utils import make_grid #para hacer un ploteo con varias imagenes del dataset\n",
    "import matplotlib.pyplot as plt\n",
    "%matplotlib inline\n",
    "\n",
    "import time"
   ]
  },
  {
   "cell_type": "markdown",
   "metadata": {},
   "source": [
    "Descargamos los datos y creamos un dataset de PyTorch. Los datos serán imágenes de 28x28 píxeles en blanco y negro (es decir, cada imágen será una matriz 28x28x1) de números escritos. Este famoso conjunto de datos se denomina `MNIST` y es una clase dentro de la librería `torchvision.datasets`, de donde lo descargaremos. Vamos a utilizar un conjunto de imagenes para el entrenamiento y otro con imágenes distintas para el testeo o evaluación."
   ]
  },
  {
   "cell_type": "code",
   "execution_count": 2,
   "metadata": {},
   "outputs": [
    {
     "name": "stdout",
     "output_type": "stream",
     "text": [
      "Downloading http://yann.lecun.com/exdb/mnist/train-images-idx3-ubyte.gz to /tmp/MNIST/raw/train-images-idx3-ubyte.gz\n"
     ]
    },
    {
     "data": {
      "application/vnd.jupyter.widget-view+json": {
       "model_id": "f61ac5eccc844b5a8012b43b2e470c83",
       "version_major": 2,
       "version_minor": 0
      },
      "text/plain": [
       "HBox(children=(FloatProgress(value=1.0, bar_style='info', max=1.0), HTML(value='')))"
      ]
     },
     "metadata": {},
     "output_type": "display_data"
    },
    {
     "name": "stdout",
     "output_type": "stream",
     "text": [
      "Extracting /tmp/MNIST/raw/train-images-idx3-ubyte.gz to /tmp/MNIST/raw\n",
      "Downloading http://yann.lecun.com/exdb/mnist/train-labels-idx1-ubyte.gz to /tmp/MNIST/raw/train-labels-idx1-ubyte.gz\n"
     ]
    },
    {
     "data": {
      "application/vnd.jupyter.widget-view+json": {
       "model_id": "ca1ae5b4408f43c8945bc7e202cb2fb4",
       "version_major": 2,
       "version_minor": 0
      },
      "text/plain": [
       "HBox(children=(FloatProgress(value=1.0, bar_style='info', max=1.0), HTML(value='')))"
      ]
     },
     "metadata": {},
     "output_type": "display_data"
    },
    {
     "name": "stdout",
     "output_type": "stream",
     "text": [
      "Extracting /tmp/MNIST/raw/train-labels-idx1-ubyte.gz to /tmp/MNIST/raw\n",
      "Downloading http://yann.lecun.com/exdb/mnist/t10k-images-idx3-ubyte.gz to /tmp/MNIST/raw/t10k-images-idx3-ubyte.gz\n"
     ]
    },
    {
     "data": {
      "application/vnd.jupyter.widget-view+json": {
       "model_id": "f617a97df507435b88b18636497f79ba",
       "version_major": 2,
       "version_minor": 0
      },
      "text/plain": [
       "HBox(children=(FloatProgress(value=1.0, bar_style='info', max=1.0), HTML(value='')))"
      ]
     },
     "metadata": {},
     "output_type": "display_data"
    },
    {
     "name": "stdout",
     "output_type": "stream",
     "text": [
      "Extracting /tmp/MNIST/raw/t10k-images-idx3-ubyte.gz to /tmp/MNIST/raw\n",
      "Downloading http://yann.lecun.com/exdb/mnist/t10k-labels-idx1-ubyte.gz to /tmp/MNIST/raw/t10k-labels-idx1-ubyte.gz\n"
     ]
    },
    {
     "data": {
      "application/vnd.jupyter.widget-view+json": {
       "model_id": "cfaff1ce23c64b4bbae5e61479089000",
       "version_major": 2,
       "version_minor": 0
      },
      "text/plain": [
       "HBox(children=(FloatProgress(value=1.0, bar_style='info', max=1.0), HTML(value='')))"
      ]
     },
     "metadata": {},
     "output_type": "display_data"
    },
    {
     "name": "stdout",
     "output_type": "stream",
     "text": [
      "Extracting /tmp/MNIST/raw/t10k-labels-idx1-ubyte.gz to /tmp/MNIST/raw\n",
      "Processing...\n"
     ]
    },
    {
     "name": "stderr",
     "output_type": "stream",
     "text": [
      "/opt/conda/lib/python3.7/site-packages/torchvision/datasets/mnist.py:469: UserWarning: The given NumPy array is not writeable, and PyTorch does not support non-writeable tensors. This means you can write to the underlying (supposedly non-writeable) NumPy array using the tensor. You may want to copy the array to protect its data or make it writeable before converting it to a tensor. This type of warning will be suppressed for the rest of this program. (Triggered internally at  /opt/conda/conda-bld/pytorch_1595629401553/work/torch/csrc/utils/tensor_numpy.cpp:141.)\n",
      "  return torch.from_numpy(parsed.astype(m[2], copy=False)).view(*s)\n"
     ]
    },
    {
     "name": "stdout",
     "output_type": "stream",
     "text": [
      "Done!\n"
     ]
    }
   ],
   "source": [
    "# Load and transform data\n",
    "train_ds = MNIST(root='/tmp', \n",
    "                 train=True, \n",
    "                 download=True, \n",
    "                 transform=torchvision.transforms.Compose([\n",
    "                            torchvision.transforms.ToTensor(),#transforma la img a tensores (matrices)\n",
    "                            torchvision.transforms.Normalize((0.1307,), (0.3081,))]) #normaliza \n",
    "                  )\n",
    "\n",
    "test_ds = MNIST(root='/tmp', \n",
    "                train=False, \n",
    "                download=True, \n",
    "                transform=torchvision.transforms.Compose([\n",
    "                          torchvision.transforms.ToTensor(),#transforma la img a tensores (matrices)\n",
    "                          torchvision.transforms.Normalize((0.1307,), (0.3081,))]) #normaliza \n",
    "                  )"
   ]
  },
  {
   "cell_type": "markdown",
   "metadata": {},
   "source": [
    "Veamos la longitud de cada dataset:"
   ]
  },
  {
   "cell_type": "code",
   "execution_count": 3,
   "metadata": {},
   "outputs": [
    {
     "data": {
      "text/plain": [
       "(60000, 10000)"
      ]
     },
     "execution_count": 3,
     "metadata": {},
     "output_type": "execute_result"
    }
   ],
   "source": [
    "len(train_ds),len(test_ds)"
   ]
  },
  {
   "cell_type": "markdown",
   "metadata": {},
   "source": [
    "Ahora, usamos la función random_split para separar el conjunto de entrenamiento (60000 imagenes) en dos:\n",
    "\n",
    "Conjunto de entrenamiento(train): contendrá 80% del total de imagenes en train_ds.\n",
    "\n",
    "Conjunto de validacióno(val): contendrá el restante 20% del total de imagenes en train_ds.\n",
    "\n",
    "Ambos subconjuntos se utilizaran *durante* el entrenamiento. El conjunto de testeo NO se utilizará durante el entreamientp, si no despues de concluir con el mismo."
   ]
  },
  {
   "cell_type": "code",
   "execution_count": 4,
   "metadata": {},
   "outputs": [
    {
     "name": "stdout",
     "output_type": "stream",
     "text": [
      "\n",
      "\n"
     ]
    },
    {
     "data": {
      "text/plain": [
       "(48000, 12000)"
      ]
     },
     "execution_count": 4,
     "metadata": {},
     "output_type": "execute_result"
    }
   ],
   "source": [
    "train_size = 48000\n",
    "val_size = len(train_ds)- train_size\n",
    "\n",
    "train_ds, val_ds = random_split(train_ds, [train_size, val_size])\n",
    "len(train_ds), len(val_ds)"
   ]
  },
  {
   "cell_type": "markdown",
   "metadata": {},
   "source": [
    "Creamos los 'PyTorch data loaders' para el cojunto de entrenamiento y validación. Básicamente son funciones que ya vienen incluidas en PyTorch mediante las cuales podremos ordenar los datos y realizar un entrenamiento en mini-batches (lotes) del tamaño que elijamos, entre otras funcionaliades. Por ejemplo:\n",
    "\n",
    "- shuffle (bool): Sirve para indicar si queremos que los datos se reorganicen luego de cada epoca de corrida.\n",
    "- num_workers (int, optional): Cuántos subprocesos usar para la carga de los datos. 0 significa que los datos se cargarán en el proceso principal. \n",
    "- pin_memory (bool, optional): Si está en True, el data loader va a copiar los Tensores en la memoria  CUDA antes de devoverlos. Sirve particularmente si vamos a usar el acelerador. \n",
    "\n",
    "Más documentación: https://pytorch.org/docs/stable/data.html"
   ]
  },
  {
   "cell_type": "code",
   "execution_count": 5,
   "metadata": {},
   "outputs": [],
   "source": [
    "#Defino tamaño de los batch\n",
    "batch_size=24   \n",
    "\n",
    "train_loader = DataLoader(train_ds, batch_size, shuffle=True, num_workers=4, pin_memory=True)\n",
    "val_loader = DataLoader(val_ds, batch_size, num_workers=4, pin_memory=True)"
   ]
  },
  {
   "cell_type": "markdown",
   "metadata": {},
   "source": [
    "Vamos a plotear un minibatch de imagenes. Para ello utilizamos la función `make_grid` de `torchvision` y el método `.permute`. Necesitamos este último porque la forma del tensor de las imágenes cargadas en el dataloader es [1,28,28], es decir que los canales están el la dimensión '0' del tensor (la primera). Pero la función `make_grid` toma como argumento tensores (imágenes) de la forma [ancho, alto, canales], por lo que si no hacemos este cambio con las dimensiones la funcion tira un error. Por lo tanto, con el método permute le pedimos que para cada tensor del dataloader, haga el siguiente cambio antes de pasarle en tensor a la función `make_grid`:\n",
    "\n",
    "canales dim 0-> dim 2\n",
    "\n",
    "ancho   dim 1-> dim 0\n",
    "\n",
    "alto    dim2 -> dim 1"
   ]
  },
  {
   "cell_type": "code",
   "execution_count": 6,
   "metadata": {},
   "outputs": [
    {
     "name": "stdout",
     "output_type": "stream",
     "text": [
      "images.shape: torch.Size([24, 1, 28, 28])\n"
     ]
    },
    {
     "data": {
      "image/png": "[encoded data removed]",
      "text/plain": [
       "<Figure size 1152x576 with 1 Axes>"
      ]
     },
     "metadata": {
      "needs_background": "light"
     },
     "output_type": "display_data"
    },
    {
     "name": "stdout",
     "output_type": "stream",
     "text": [
      "\n",
      "\n"
     ]
    }
   ],
   "source": [
    "for images, _ in train_loader:\n",
    "    print('images.shape:', images.shape)\n",
    "    plt.figure(figsize=(16,8))\n",
    "    plt.axis('off')\n",
    "    plt.imshow(make_grid(images, nrow=100).permute((1, 2, 0)))\n",
    "    break"
   ]
  },
  {
   "cell_type": "markdown",
   "metadata": {},
   "source": [
    "## Modelo\n",
    "\n",
    "Antes que nada, vamos a definir la clase Flatten que simplemente usa la funcion view(input.size(0), -1) para 'aplastar' las imagenes, es decir convertir las matrices en un vector unidimensional. Podríamos usar directamente la función pero es mucho texto. Necesitamos hacer esto porque las funciones que vamos a usar en el modelo son lineales, toman vectores, osea tensores de dimension 1x(largo), no matrices."
   ]
  },
  {
   "cell_type": "code",
   "execution_count": 7,
   "metadata": {},
   "outputs": [],
   "source": [
    "class Flatten(nn.Module):\n",
    "    def forward(self, input):\n",
    "        return input.view(input.size(0), -1)\n",
    "\n",
    "flatten = Flatten() #creo un objeto de la clase"
   ]
  },
  {
   "cell_type": "code",
   "execution_count": 8,
   "metadata": {},
   "outputs": [],
   "source": [
    "#def accuracy(outputs, labels):\n",
    "#    _, preds = torch.max(outputs, dim=1)\n",
    "#    return torch.tensor(torch.sum(preds == labels).item() / len(preds))\n",
    "\n",
    "#The accuracy we will define our own, that will be basically \n",
    "#the number of matched pixels (output == original) divided by the total number of pixels in a batch\n",
    "def accuracy(outputs, yb):\n",
    "    return torch.sum(torch.eq(outputs[1], yb)).item()/outputs[1].nelement()"
   ]
  },
  {
   "cell_type": "markdown",
   "metadata": {},
   "source": [
    "Ahora si, el modelo:\n",
    "\n",
    "* Usaremos la función `nn.Linear`. Cada vez que usamos una de estas en la red, se dice que es una 'capa' de la misma.\n",
    "\n",
    "* La primera capa (hidden layer) transformará la matriz de entrada, cuyo tamaño será `batch_size x 784`(luego de pasarla por Flatten) en una matriz intermedia de tamaño `batch_size x hidden_size`, donde `hidden_size` es un parámetro que le pasaremos de antemano a la función, el tamaño de la capa oculta.\n",
    "\n",
    "* Luego le pasamos la salida de esta funcion a la función `Dropout(p).` Esto 'apaga' algunas conexiones de manera aleatoria, con una probabilidad p. Es un método que sirve para mejorar la performance del modelo. El tamaño se conserva.\n",
    "\n",
    "* Luego le pasamos la salida a una función de activación no lineal, en particular elegiremos la ReLU(). \n",
    "\n",
    "* Al resultado que sale de la función activación, de tamaño `batch_size x hidden_size`, se lo pasamos a la segunda capa denominada 'output layer', que es la capa final y se ocupará de transformar la salida en una matriz de tamaño  `batch_size x 784` identico al tamaño de la entrada inicial, ya que de eso se trata el autoencoder."
   ]
  },
  {
   "cell_type": "code",
   "execution_count": 9,
   "metadata": {},
   "outputs": [],
   "source": [
    "class AutoencoderMNIST(nn.Module): \n",
    "    \"\"\"\n",
    "    Autoencoder es una subclase de la clase Module\n",
    "    Red neuronal feedforward con 1 capa oculta\n",
    "    \"\"\"\n",
    "    def __init__(self, hidden_size, in_size=784, out_size=784): \n",
    "        #los argumentos son los que le voy a pasar a la clase Autoencoder cuando la llame\n",
    "        super().__init__() #uso esto porque la clase Autoencoder es subclase de otra\n",
    "        param = locals()\n",
    "        # hidden layer\n",
    "        self.linear1 = nn.Linear(in_size, hidden_size)\n",
    "        # output layer\n",
    "        self.linear2 = nn.Linear(hidden_size, out_size)\n",
    "        #Dropuot\n",
    "        self.drop = nn.Dropout(0.1)\n",
    "        #Funcion de activación no lineal\n",
    "        self.relu = nn.ReLU()\n",
    "        \n",
    "    def forward(self, xb):\n",
    "        # Flatten the image tensors\n",
    "        xb = xb.view(xb.size(0), -1)\n",
    "        # Get intermediate outputs using hidden layer\n",
    "        out = self.linear1(xb)\n",
    "        #droput \n",
    "        out = self.drop(out)\n",
    "        # Apply activation function\n",
    "        out = self.relu(out)\n",
    "        # Get predictions using output layer\n",
    "        out = self.linear2(out)\n",
    "        return out\n",
    "    \n",
    "    def training_step(self, batch):\n",
    "        images, labels = batch \n",
    "        out = self(images)                     # Generate predictions\n",
    "        loss = F.mse_loss(out,flatten(images)) # Calculate loss\n",
    "        return loss\n",
    "    \n",
    "    def validation_step(self, batch):\n",
    "        images, labels = batch \n",
    "        out = self(images)                        # Generate predictions\n",
    "        loss = F.mse_loss(out, flatten(images))   # Calculate loss ([1, 1, 28, 28])\n",
    "       # acc = accuracy(out, images.view(-1, 784))          # Calculate accuracy\n",
    "        return {'val_loss': loss}  # val_acc acc\n",
    "        \n",
    "    def validation_epoch_end(self, outputs):\n",
    "        batch_losses = [x['val_loss'] for x in outputs]\n",
    "        epoch_loss = torch.stack(batch_losses).mean()   # Combine losses\n",
    "        #batch_accs = [x['val_acc'] for x in outputs]\n",
    "        #epoch_acc = torch.stack(batch_accs).mean()      # Combine accuracies\n",
    "        return {'val_loss': epoch_loss.item()} # 'val_acc': epoch_acc.item()\n",
    "    \n",
    "    def epoch_end(self, epoch, result):\n",
    "        print(\"Epoch [{}], last_lr: {:.4f}, train_loss: {:.4f}, val_loss: {:.4f}\".format(\n",
    "            epoch, result['lrs'][-1], result['train_loss'], result['val_loss']))"
   ]
  },
  {
   "cell_type": "markdown",
   "metadata": {},
   "source": [
    "## Prueba\n",
    "Crearemos un modelo que contenga una sola capa oculta con 512 activaciones; este no es el entrenamiento definitivo, sólo vamos a ver si el código funciona antes de entrenar."
   ]
  },
  {
   "cell_type": "code",
   "execution_count": 10,
   "metadata": {},
   "outputs": [],
   "source": [
    "hidden_size = 512 # se puede cambiar\n",
    "\n",
    "model = AutoencoderMNIST(hidden_size=512)"
   ]
  },
  {
   "cell_type": "markdown",
   "metadata": {},
   "source": [
    "Veamos si los tamaños de las salidas son los esperados. "
   ]
  },
  {
   "cell_type": "code",
   "execution_count": 11,
   "metadata": {},
   "outputs": [
    {
     "name": "stdout",
     "output_type": "stream",
     "text": [
      "torch.Size([512, 784])\n",
      "torch.Size([512])\n",
      "torch.Size([784, 512])\n",
      "torch.Size([784])\n"
     ]
    }
   ],
   "source": [
    "for t in model.parameters():\n",
    "    print(t.shape)"
   ]
  },
  {
   "cell_type": "markdown",
   "metadata": {},
   "source": [
    "Generemos algunas salidas del modelo, para ver cómo funciona."
   ]
  },
  {
   "cell_type": "code",
   "execution_count": 12,
   "metadata": {},
   "outputs": [
    {
     "name": "stdout",
     "output_type": "stream",
     "text": [
      "Loss: 1.078021764755249\n",
      "outputs.shape :  torch.Size([24, 784])\n",
      "Sample outputs :\n",
      " tensor([[-0.1677, -0.2901,  0.0549,  ...,  0.2538, -0.3053, -0.2149],\n",
      "        [-0.1340, -0.2134,  0.0385,  ...,  0.1874, -0.1187, -0.2652]])\n",
      "image shape in loader  tensor([[-0.1677, -0.2901,  0.0549,  ...,  0.2538, -0.3053, -0.2149],\n",
      "        [-0.1340, -0.2134,  0.0385,  ...,  0.1874, -0.1187, -0.2652]])\n"
     ]
    }
   ],
   "source": [
    "for images, labels in train_loader:\n",
    "    outputs = model(images)\n",
    "    loss = F.mse_loss(outputs, flatten(images))\n",
    "    #acc = accuracy(outputs, flatten(images))\n",
    "    print('Loss:', loss.item())\n",
    "    break\n",
    "\n",
    "print('outputs.shape : ', outputs.shape)\n",
    "print('Sample outputs :\\n', outputs[:2].data)\n",
    "print('image shape in loader ', outputs[:2].data)"
   ]
  },
  {
   "cell_type": "code",
   "execution_count": 13,
   "metadata": {},
   "outputs": [
    {
     "name": "stdout",
     "output_type": "stream",
     "text": [
      "xb shape torch.Size([24, 1, 28, 28])\n",
      "yb shape torch.Size([24])\n"
     ]
    }
   ],
   "source": [
    "for xb, yb in val_loader:\n",
    "    print('xb shape', xb.shape)\n",
    "    print('yb shape', yb.shape)\n",
    "    break"
   ]
  },
  {
   "cell_type": "markdown",
   "metadata": {},
   "source": [
    "## Entrenando al Modelo\n",
    "\n",
    "Vamos a definir algunas funciones que servirán para entrenar el modelo. \n",
    "\n",
    "El entrenamiento se realizará con un learning rate variable a lo largo de los batches. Se podría hacer con un lr constante haciendo algunas modificacione en el código.\n",
    "\n",
    "Más documentacion sobre [lr variables](http://https://pytorch.org/docs/stable/optim.html?highlight=one%20cycle#torch.optim.lr_scheduler.OneCycleLR)"
   ]
  },
  {
   "cell_type": "code",
   "execution_count": 14,
   "metadata": {},
   "outputs": [],
   "source": [
    "@torch.no_grad()\n",
    "def evaluate(model, val_loader):\n",
    "    '''\n",
    "    Funcion que sirve para evaluar una vez, para probar.\n",
    "    '''\n",
    "    model.eval()\n",
    "    outputs = [model.validation_step(batch) for batch in val_loader]\n",
    "    return model.validation_epoch_end(outputs)\n",
    "\n",
    "def get_lr(optimizer):\n",
    "    for param_group in optimizer.param_groups:\n",
    "        return param_group['lr']\n",
    "\n",
    "def fit_one_cycle(epochs, max_lr, model, train_loader, val_loader, \n",
    "                  grad_clip=None, opt_func=torch.optim.SGD):\n",
    "    \n",
    "    torch.cuda.empty_cache()\n",
    "    history = []\n",
    "    \n",
    "    # Set up cutom optimizer with weight decay\n",
    "    optimizer = opt_func(model.parameters(), max_lr)\n",
    "    # Set up one-cycle learning rate scheduler\n",
    "    sched = torch.optim.lr_scheduler.OneCycleLR(optimizer, max_lr, epochs=epochs, \n",
    "                                                steps_per_epoch=len(train_loader))\n",
    "    \n",
    "    for epoch in range(epochs):\n",
    "        # Training Phase \n",
    "        model.train()\n",
    "        train_losses = []\n",
    "        lrs = []\n",
    "        for batch in train_loader:\n",
    "            loss = model.training_step(batch)\n",
    "            train_losses.append(loss)\n",
    "            loss.backward()\n",
    "            \n",
    "            # Gradient clipping\n",
    "            if grad_clip: \n",
    "                nn.utils.clip_grad_value_(model.parameters(), grad_clip)\n",
    "            \n",
    "            optimizer.step()\n",
    "            optimizer.zero_grad()\n",
    "            \n",
    "            # Record & update learning rate\n",
    "            lrs.append(get_lr(optimizer))\n",
    "            sched.step()\n",
    "        \n",
    "        # Validation phase\n",
    "        result = evaluate(model, val_loader)\n",
    "        result['train_loss'] = torch.stack(train_losses).mean().item()\n",
    "        result['lrs'] = lrs\n",
    "        model.epoch_end(epoch, result) #imprime lo que vamos obteniendo por cada epoca\n",
    "        history.append(result)\n",
    "    return history"
   ]
  },
  {
   "cell_type": "markdown",
   "metadata": {},
   "source": [
    "Con lo siguiente podremos ver cómo se desempeña el modelo con un conjunto inicial de pesos. Si vamos a entrenar definitivamente, recomiendo reiniciar el kerne y saltar este paso."
   ]
  },
  {
   "cell_type": "code",
   "execution_count": 15,
   "metadata": {},
   "outputs": [
    {
     "data": {
      "text/plain": [
       "[{'val_loss': 1.0523829460144043}]"
      ]
     },
     "execution_count": 15,
     "metadata": {},
     "output_type": "execute_result"
    }
   ],
   "source": [
    "history = [evaluate(model, val_loader)]\n",
    "history"
   ]
  },
  {
   "cell_type": "markdown",
   "metadata": {},
   "source": [
    "Elegimos los parámetros con los que entrenaremos"
   ]
  },
  {
   "cell_type": "code",
   "execution_count": 16,
   "metadata": {},
   "outputs": [],
   "source": [
    "epochs = 100\n",
    "max_lr = 0.1\n",
    "grad_clip = 0.1\n",
    "weight_decay = 1e-4\n",
    "input_size = 784\n",
    "batch_size = 50"
   ]
  },
  {
   "cell_type": "markdown",
   "metadata": {},
   "source": [
    "Volvemos a cargar los datasets en los loaders porque modificamos el tamaño del batch."
   ]
  },
  {
   "cell_type": "code",
   "execution_count": 17,
   "metadata": {},
   "outputs": [],
   "source": [
    "train_loader = DataLoader(train_ds, batch_size, shuffle=True, num_workers=4, pin_memory=True)\n",
    "    \n",
    "val_loader = DataLoader(val_ds, batch_size, num_workers=4, pin_memory=True)"
   ]
  },
  {
   "cell_type": "markdown",
   "metadata": {},
   "source": [
    "Entrenaremos con diferentes tamaños de capas ocultas para después comparar con cuál se desempeña mejor el modelo."
   ]
  },
  {
   "cell_type": "code",
   "execution_count": 18,
   "metadata": {},
   "outputs": [
    {
     "data": {
      "text/plain": [
       "[{'val_loss': 1.0873920917510986}]"
      ]
     },
     "execution_count": 18,
     "metadata": {},
     "output_type": "execute_result"
    }
   ],
   "source": [
    "hidden_size0 = 10\n",
    "\n",
    "model0 = AutoencoderMNIST(hidden_size=hidden_size0)\n",
    "\n",
    "history0 = [evaluate(model0, val_loader)]\n",
    "history0"
   ]
  },
  {
   "cell_type": "code",
   "execution_count": 19,
   "metadata": {},
   "outputs": [
    {
     "name": "stdout",
     "output_type": "stream",
     "text": [
      "Epoch [0], last_lr: 0.0043, train_loss: 0.9797, val_loss: 0.9305\n",
      "Epoch [1], last_lr: 0.0050, train_loss: 0.8865, val_loss: 0.8506\n",
      "Epoch [2], last_lr: 0.0063, train_loss: 0.8176, val_loss: 0.7911\n",
      "Epoch [3], last_lr: 0.0081, train_loss: 0.7673, val_loss: 0.7490\n",
      "Epoch [4], last_lr: 0.0104, train_loss: 0.7331, val_loss: 0.7206\n",
      "Epoch [5], last_lr: 0.0132, train_loss: 0.7099, val_loss: 0.6996\n",
      "Epoch [6], last_lr: 0.0163, train_loss: 0.6919, val_loss: 0.6818\n",
      "Epoch [7], last_lr: 0.0199, train_loss: 0.6776, val_loss: 0.6682\n",
      "Epoch [8], last_lr: 0.0238, train_loss: 0.6673, val_loss: 0.6589\n",
      "Epoch [9], last_lr: 0.0280, train_loss: 0.6597, val_loss: 0.6511\n",
      "Epoch [10], last_lr: 0.0325, train_loss: 0.6524, val_loss: 0.6406\n",
      "Epoch [11], last_lr: 0.0372, train_loss: 0.6411, val_loss: 0.6249\n",
      "Epoch [12], last_lr: 0.0420, train_loss: 0.6289, val_loss: 0.6131\n",
      "Epoch [13], last_lr: 0.0470, train_loss: 0.6230, val_loss: 0.6077\n",
      "Epoch [14], last_lr: 0.0520, train_loss: 0.6208, val_loss: 0.6048\n",
      "Epoch [15], last_lr: 0.0570, train_loss: 0.6179, val_loss: 0.5998\n",
      "Epoch [16], last_lr: 0.0620, train_loss: 0.6093, val_loss: 0.5830\n",
      "Epoch [17], last_lr: 0.0668, train_loss: 0.5932, val_loss: 0.5667\n",
      "Epoch [18], last_lr: 0.0715, train_loss: 0.5850, val_loss: 0.5632\n",
      "Epoch [19], last_lr: 0.0760, train_loss: 0.5832, val_loss: 0.5614\n",
      "Epoch [20], last_lr: 0.0802, train_loss: 0.5833, val_loss: 0.5594\n",
      "Epoch [21], last_lr: 0.0841, train_loss: 0.5825, val_loss: 0.5595\n",
      "Epoch [22], last_lr: 0.0877, train_loss: 0.5821, val_loss: 0.5593\n",
      "Epoch [23], last_lr: 0.0908, train_loss: 0.5818, val_loss: 0.5582\n",
      "Epoch [24], last_lr: 0.0936, train_loss: 0.5813, val_loss: 0.5567\n",
      "Epoch [25], last_lr: 0.0958, train_loss: 0.5780, val_loss: 0.5519\n",
      "Epoch [26], last_lr: 0.0977, train_loss: 0.5702, val_loss: 0.5381\n",
      "Epoch [27], last_lr: 0.0990, train_loss: 0.5613, val_loss: 0.5322\n",
      "Epoch [28], last_lr: 0.0997, train_loss: 0.5574, val_loss: 0.5292\n",
      "Epoch [29], last_lr: 0.1000, train_loss: 0.5556, val_loss: 0.5280\n",
      "Epoch [30], last_lr: 0.0999, train_loss: 0.5550, val_loss: 0.5279\n",
      "Epoch [31], last_lr: 0.0998, train_loss: 0.5547, val_loss: 0.5264\n",
      "Epoch [32], last_lr: 0.0995, train_loss: 0.5512, val_loss: 0.5186\n",
      "Epoch [33], last_lr: 0.0992, train_loss: 0.5396, val_loss: 0.5000\n",
      "Epoch [34], last_lr: 0.0987, train_loss: 0.5284, val_loss: 0.4932\n",
      "Epoch [35], last_lr: 0.0982, train_loss: 0.5253, val_loss: 0.4930\n",
      "Epoch [36], last_lr: 0.0976, train_loss: 0.5243, val_loss: 0.4907\n",
      "Epoch [37], last_lr: 0.0968, train_loss: 0.5253, val_loss: 0.4908\n",
      "Epoch [38], last_lr: 0.0960, train_loss: 0.5238, val_loss: 0.4909\n",
      "Epoch [39], last_lr: 0.0950, train_loss: 0.5240, val_loss: 0.4914\n",
      "Epoch [40], last_lr: 0.0940, train_loss: 0.5233, val_loss: 0.4941\n",
      "Epoch [41], last_lr: 0.0929, train_loss: 0.5226, val_loss: 0.4909\n",
      "Epoch [42], last_lr: 0.0917, train_loss: 0.5228, val_loss: 0.4899\n",
      "Epoch [43], last_lr: 0.0905, train_loss: 0.5222, val_loss: 0.4896\n",
      "Epoch [44], last_lr: 0.0891, train_loss: 0.5224, val_loss: 0.4904\n",
      "Epoch [45], last_lr: 0.0877, train_loss: 0.5234, val_loss: 0.4907\n",
      "Epoch [46], last_lr: 0.0861, train_loss: 0.5217, val_loss: 0.4894\n",
      "Epoch [47], last_lr: 0.0846, train_loss: 0.5226, val_loss: 0.4909\n",
      "Epoch [48], last_lr: 0.0829, train_loss: 0.5227, val_loss: 0.4910\n",
      "Epoch [49], last_lr: 0.0812, train_loss: 0.5226, val_loss: 0.4897\n",
      "Epoch [50], last_lr: 0.0794, train_loss: 0.5228, val_loss: 0.4896\n",
      "Epoch [51], last_lr: 0.0775, train_loss: 0.5230, val_loss: 0.4896\n",
      "Epoch [52], last_lr: 0.0756, train_loss: 0.5223, val_loss: 0.4905\n",
      "Epoch [53], last_lr: 0.0737, train_loss: 0.5231, val_loss: 0.4911\n",
      "Epoch [54], last_lr: 0.0717, train_loss: 0.5229, val_loss: 0.4904\n",
      "Epoch [55], last_lr: 0.0697, train_loss: 0.5227, val_loss: 0.4898\n",
      "Epoch [56], last_lr: 0.0676, train_loss: 0.5222, val_loss: 0.4901\n",
      "Epoch [57], last_lr: 0.0655, train_loss: 0.5223, val_loss: 0.4903\n",
      "Epoch [58], last_lr: 0.0633, train_loss: 0.5220, val_loss: 0.4901\n",
      "Epoch [59], last_lr: 0.0611, train_loss: 0.5215, val_loss: 0.4898\n",
      "Epoch [60], last_lr: 0.0589, train_loss: 0.5226, val_loss: 0.4899\n",
      "Epoch [61], last_lr: 0.0567, train_loss: 0.5224, val_loss: 0.4898\n",
      "Epoch [62], last_lr: 0.0545, train_loss: 0.5211, val_loss: 0.4898\n",
      "Epoch [63], last_lr: 0.0522, train_loss: 0.5217, val_loss: 0.4913\n",
      "Epoch [64], last_lr: 0.0500, train_loss: 0.5221, val_loss: 0.4891\n",
      "Epoch [65], last_lr: 0.0478, train_loss: 0.5215, val_loss: 0.4899\n",
      "Epoch [66], last_lr: 0.0455, train_loss: 0.5217, val_loss: 0.4895\n",
      "Epoch [67], last_lr: 0.0433, train_loss: 0.5224, val_loss: 0.4895\n",
      "Epoch [68], last_lr: 0.0411, train_loss: 0.5221, val_loss: 0.4905\n",
      "Epoch [69], last_lr: 0.0389, train_loss: 0.5217, val_loss: 0.4901\n",
      "Epoch [70], last_lr: 0.0367, train_loss: 0.5221, val_loss: 0.4900\n",
      "Epoch [71], last_lr: 0.0345, train_loss: 0.5216, val_loss: 0.4893\n",
      "Epoch [72], last_lr: 0.0324, train_loss: 0.5213, val_loss: 0.4895\n",
      "Epoch [73], last_lr: 0.0303, train_loss: 0.5220, val_loss: 0.4898\n",
      "Epoch [74], last_lr: 0.0283, train_loss: 0.5218, val_loss: 0.4896\n",
      "Epoch [75], last_lr: 0.0263, train_loss: 0.5222, val_loss: 0.4891\n",
      "Epoch [76], last_lr: 0.0244, train_loss: 0.5214, val_loss: 0.4902\n",
      "Epoch [77], last_lr: 0.0225, train_loss: 0.5218, val_loss: 0.4899\n",
      "Epoch [78], last_lr: 0.0206, train_loss: 0.5218, val_loss: 0.4896\n",
      "Epoch [79], last_lr: 0.0188, train_loss: 0.5214, val_loss: 0.4901\n",
      "Epoch [80], last_lr: 0.0171, train_loss: 0.5214, val_loss: 0.4893\n",
      "Epoch [81], last_lr: 0.0154, train_loss: 0.5223, val_loss: 0.4897\n",
      "Epoch [82], last_lr: 0.0139, train_loss: 0.5221, val_loss: 0.4895\n",
      "Epoch [83], last_lr: 0.0123, train_loss: 0.5218, val_loss: 0.4893\n",
      "Epoch [84], last_lr: 0.0109, train_loss: 0.5216, val_loss: 0.4895\n",
      "Epoch [85], last_lr: 0.0095, train_loss: 0.5221, val_loss: 0.4895\n",
      "Epoch [86], last_lr: 0.0083, train_loss: 0.5219, val_loss: 0.4897\n",
      "Epoch [87], last_lr: 0.0071, train_loss: 0.5212, val_loss: 0.4892\n",
      "Epoch [88], last_lr: 0.0060, train_loss: 0.5215, val_loss: 0.4893\n",
      "Epoch [89], last_lr: 0.0050, train_loss: 0.5212, val_loss: 0.4895\n",
      "Epoch [90], last_lr: 0.0040, train_loss: 0.5213, val_loss: 0.4895\n",
      "Epoch [91], last_lr: 0.0032, train_loss: 0.5215, val_loss: 0.4894\n",
      "Epoch [92], last_lr: 0.0024, train_loss: 0.5217, val_loss: 0.4896\n",
      "Epoch [93], last_lr: 0.0018, train_loss: 0.5214, val_loss: 0.4893\n",
      "Epoch [94], last_lr: 0.0013, train_loss: 0.5217, val_loss: 0.4895\n",
      "Epoch [95], last_lr: 0.0008, train_loss: 0.5218, val_loss: 0.4894\n",
      "Epoch [96], last_lr: 0.0005, train_loss: 0.5208, val_loss: 0.4894\n",
      "Epoch [97], last_lr: 0.0002, train_loss: 0.5224, val_loss: 0.4894\n",
      "Epoch [98], last_lr: 0.0001, train_loss: 0.5213, val_loss: 0.4895\n",
      "Epoch [99], last_lr: 0.0000, train_loss: 0.5213, val_loss: 0.4894\n"
     ]
    }
   ],
   "source": [
    "start = time.time()\n",
    "\n",
    "history0 += fit_one_cycle(epochs, max_lr, model0, train_loader, val_loader,grad_clip=grad_clip)\n",
    "\n",
    "end = time.time()\n",
    "time0= (end - start)/60 #Wall time"
   ]
  },
  {
   "cell_type": "code",
   "execution_count": 20,
   "metadata": {},
   "outputs": [
    {
     "data": {
      "text/plain": [
       "[{'val_loss': 1.0530707836151123}]"
      ]
     },
     "execution_count": 20,
     "metadata": {},
     "output_type": "execute_result"
    }
   ],
   "source": [
    "hidden_size1 = 64 \n",
    "\n",
    "model1 = AutoencoderMNIST(hidden_size=hidden_size1)\n",
    "\n",
    "history1 = [evaluate(model1, val_loader)]\n",
    "history1"
   ]
  },
  {
   "cell_type": "code",
   "execution_count": 21,
   "metadata": {},
   "outputs": [
    {
     "name": "stdout",
     "output_type": "stream",
     "text": [
      "Epoch [0], last_lr: 0.0043, train_loss: 0.7398, val_loss: 0.5861\n",
      "Epoch [1], last_lr: 0.0050, train_loss: 0.5477, val_loss: 0.4632\n",
      "Epoch [2], last_lr: 0.0063, train_loss: 0.4583, val_loss: 0.3868\n",
      "Epoch [3], last_lr: 0.0081, train_loss: 0.3990, val_loss: 0.3316\n",
      "Epoch [4], last_lr: 0.0104, train_loss: 0.3547, val_loss: 0.2881\n",
      "Epoch [5], last_lr: 0.0132, train_loss: 0.3206, val_loss: 0.2544\n",
      "Epoch [6], last_lr: 0.0163, train_loss: 0.2947, val_loss: 0.2285\n",
      "Epoch [7], last_lr: 0.0199, train_loss: 0.2751, val_loss: 0.2093\n",
      "Epoch [8], last_lr: 0.0238, train_loss: 0.2602, val_loss: 0.1947\n",
      "Epoch [9], last_lr: 0.0280, train_loss: 0.2500, val_loss: 0.1841\n",
      "Epoch [10], last_lr: 0.0325, train_loss: 0.2420, val_loss: 0.1762\n",
      "Epoch [11], last_lr: 0.0372, train_loss: 0.2351, val_loss: 0.1689\n",
      "Epoch [12], last_lr: 0.0420, train_loss: 0.2299, val_loss: 0.1642\n",
      "Epoch [13], last_lr: 0.0470, train_loss: 0.2256, val_loss: 0.1600\n",
      "Epoch [14], last_lr: 0.0520, train_loss: 0.2225, val_loss: 0.1571\n",
      "Epoch [15], last_lr: 0.0570, train_loss: 0.2191, val_loss: 0.1539\n",
      "Epoch [16], last_lr: 0.0620, train_loss: 0.2167, val_loss: 0.1522\n",
      "Epoch [17], last_lr: 0.0668, train_loss: 0.2144, val_loss: 0.1502\n",
      "Epoch [18], last_lr: 0.0715, train_loss: 0.2125, val_loss: 0.1486\n",
      "Epoch [19], last_lr: 0.0760, train_loss: 0.2117, val_loss: 0.1478\n",
      "Epoch [20], last_lr: 0.0802, train_loss: 0.2102, val_loss: 0.1466\n",
      "Epoch [21], last_lr: 0.0841, train_loss: 0.2096, val_loss: 0.1469\n",
      "Epoch [22], last_lr: 0.0877, train_loss: 0.2073, val_loss: 0.1462\n",
      "Epoch [23], last_lr: 0.0908, train_loss: 0.2066, val_loss: 0.1436\n",
      "Epoch [24], last_lr: 0.0936, train_loss: 0.2052, val_loss: 0.1439\n",
      "Epoch [25], last_lr: 0.0958, train_loss: 0.2046, val_loss: 0.1441\n",
      "Epoch [26], last_lr: 0.0977, train_loss: 0.2038, val_loss: 0.1417\n",
      "Epoch [27], last_lr: 0.0990, train_loss: 0.2024, val_loss: 0.1420\n",
      "Epoch [28], last_lr: 0.0997, train_loss: 0.2017, val_loss: 0.1425\n",
      "Epoch [29], last_lr: 0.1000, train_loss: 0.2018, val_loss: 0.1411\n",
      "Epoch [30], last_lr: 0.0999, train_loss: 0.2009, val_loss: 0.1403\n",
      "Epoch [31], last_lr: 0.0998, train_loss: 0.2004, val_loss: 0.1403\n",
      "Epoch [32], last_lr: 0.0995, train_loss: 0.2001, val_loss: 0.1404\n",
      "Epoch [33], last_lr: 0.0992, train_loss: 0.1995, val_loss: 0.1398\n",
      "Epoch [34], last_lr: 0.0987, train_loss: 0.1990, val_loss: 0.1391\n",
      "Epoch [35], last_lr: 0.0982, train_loss: 0.1987, val_loss: 0.1393\n",
      "Epoch [36], last_lr: 0.0976, train_loss: 0.1983, val_loss: 0.1393\n",
      "Epoch [37], last_lr: 0.0968, train_loss: 0.1980, val_loss: 0.1385\n",
      "Epoch [38], last_lr: 0.0960, train_loss: 0.1980, val_loss: 0.1393\n",
      "Epoch [39], last_lr: 0.0950, train_loss: 0.1976, val_loss: 0.1385\n",
      "Epoch [40], last_lr: 0.0940, train_loss: 0.1970, val_loss: 0.1387\n",
      "Epoch [41], last_lr: 0.0929, train_loss: 0.1968, val_loss: 0.1371\n",
      "Epoch [42], last_lr: 0.0917, train_loss: 0.1969, val_loss: 0.1373\n",
      "Epoch [43], last_lr: 0.0905, train_loss: 0.1959, val_loss: 0.1369\n",
      "Epoch [44], last_lr: 0.0891, train_loss: 0.1944, val_loss: 0.1359\n",
      "Epoch [45], last_lr: 0.0877, train_loss: 0.1948, val_loss: 0.1362\n",
      "Epoch [46], last_lr: 0.0861, train_loss: 0.1945, val_loss: 0.1359\n",
      "Epoch [47], last_lr: 0.0846, train_loss: 0.1943, val_loss: 0.1356\n",
      "Epoch [48], last_lr: 0.0829, train_loss: 0.1942, val_loss: 0.1354\n",
      "Epoch [49], last_lr: 0.0812, train_loss: 0.1930, val_loss: 0.1347\n",
      "Epoch [50], last_lr: 0.0794, train_loss: 0.1931, val_loss: 0.1348\n",
      "Epoch [51], last_lr: 0.0775, train_loss: 0.1927, val_loss: 0.1350\n",
      "Epoch [52], last_lr: 0.0756, train_loss: 0.1926, val_loss: 0.1344\n",
      "Epoch [53], last_lr: 0.0737, train_loss: 0.1924, val_loss: 0.1339\n",
      "Epoch [54], last_lr: 0.0717, train_loss: 0.1918, val_loss: 0.1341\n",
      "Epoch [55], last_lr: 0.0697, train_loss: 0.1920, val_loss: 0.1340\n",
      "Epoch [56], last_lr: 0.0676, train_loss: 0.1919, val_loss: 0.1335\n",
      "Epoch [57], last_lr: 0.0655, train_loss: 0.1910, val_loss: 0.1327\n",
      "Epoch [58], last_lr: 0.0633, train_loss: 0.1915, val_loss: 0.1348\n",
      "Epoch [59], last_lr: 0.0611, train_loss: 0.1909, val_loss: 0.1338\n",
      "Epoch [60], last_lr: 0.0589, train_loss: 0.1915, val_loss: 0.1328\n",
      "Epoch [61], last_lr: 0.0567, train_loss: 0.1908, val_loss: 0.1329\n",
      "Epoch [62], last_lr: 0.0545, train_loss: 0.1904, val_loss: 0.1327\n",
      "Epoch [63], last_lr: 0.0522, train_loss: 0.1905, val_loss: 0.1332\n",
      "Epoch [64], last_lr: 0.0500, train_loss: 0.1903, val_loss: 0.1328\n",
      "Epoch [65], last_lr: 0.0478, train_loss: 0.1899, val_loss: 0.1335\n",
      "Epoch [66], last_lr: 0.0455, train_loss: 0.1905, val_loss: 0.1330\n",
      "Epoch [67], last_lr: 0.0433, train_loss: 0.1899, val_loss: 0.1329\n",
      "Epoch [68], last_lr: 0.0411, train_loss: 0.1896, val_loss: 0.1327\n",
      "Epoch [69], last_lr: 0.0389, train_loss: 0.1898, val_loss: 0.1323\n",
      "Epoch [70], last_lr: 0.0367, train_loss: 0.1897, val_loss: 0.1325\n",
      "Epoch [71], last_lr: 0.0345, train_loss: 0.1895, val_loss: 0.1320\n",
      "Epoch [72], last_lr: 0.0324, train_loss: 0.1894, val_loss: 0.1318\n",
      "Epoch [73], last_lr: 0.0303, train_loss: 0.1896, val_loss: 0.1325\n",
      "Epoch [74], last_lr: 0.0283, train_loss: 0.1893, val_loss: 0.1319\n",
      "Epoch [75], last_lr: 0.0263, train_loss: 0.1891, val_loss: 0.1324\n",
      "Epoch [76], last_lr: 0.0244, train_loss: 0.1889, val_loss: 0.1325\n",
      "Epoch [77], last_lr: 0.0225, train_loss: 0.1888, val_loss: 0.1329\n",
      "Epoch [78], last_lr: 0.0206, train_loss: 0.1888, val_loss: 0.1322\n",
      "Epoch [79], last_lr: 0.0188, train_loss: 0.1889, val_loss: 0.1320\n",
      "Epoch [80], last_lr: 0.0171, train_loss: 0.1888, val_loss: 0.1324\n",
      "Epoch [81], last_lr: 0.0154, train_loss: 0.1891, val_loss: 0.1316\n",
      "Epoch [82], last_lr: 0.0139, train_loss: 0.1888, val_loss: 0.1320\n",
      "Epoch [83], last_lr: 0.0123, train_loss: 0.1892, val_loss: 0.1316\n",
      "Epoch [84], last_lr: 0.0109, train_loss: 0.1885, val_loss: 0.1318\n",
      "Epoch [85], last_lr: 0.0095, train_loss: 0.1883, val_loss: 0.1315\n",
      "Epoch [86], last_lr: 0.0083, train_loss: 0.1881, val_loss: 0.1315\n",
      "Epoch [87], last_lr: 0.0071, train_loss: 0.1887, val_loss: 0.1315\n",
      "Epoch [88], last_lr: 0.0060, train_loss: 0.1878, val_loss: 0.1313\n",
      "Epoch [89], last_lr: 0.0050, train_loss: 0.1883, val_loss: 0.1314\n",
      "Epoch [90], last_lr: 0.0040, train_loss: 0.1883, val_loss: 0.1313\n",
      "Epoch [91], last_lr: 0.0032, train_loss: 0.1879, val_loss: 0.1312\n",
      "Epoch [92], last_lr: 0.0024, train_loss: 0.1883, val_loss: 0.1314\n",
      "Epoch [93], last_lr: 0.0018, train_loss: 0.1880, val_loss: 0.1314\n",
      "Epoch [94], last_lr: 0.0013, train_loss: 0.1879, val_loss: 0.1313\n",
      "Epoch [95], last_lr: 0.0008, train_loss: 0.1880, val_loss: 0.1314\n",
      "Epoch [96], last_lr: 0.0005, train_loss: 0.1880, val_loss: 0.1313\n",
      "Epoch [97], last_lr: 0.0002, train_loss: 0.1881, val_loss: 0.1313\n",
      "Epoch [98], last_lr: 0.0001, train_loss: 0.1886, val_loss: 0.1313\n",
      "Epoch [99], last_lr: 0.0000, train_loss: 0.1874, val_loss: 0.1313\n",
      "CPU times: user 19min 13s, sys: 3min 21s, total: 22min 34s\n",
      "Wall time: 15min 13s\n"
     ]
    }
   ],
   "source": [
    "%%time\n",
    "start = time.time()\n",
    "\n",
    "history1 += fit_one_cycle(epochs, max_lr, model1, train_loader, val_loader,grad_clip=grad_clip)\n",
    "\n",
    "end = time.time()\n",
    "time1 = (end - start)/60 #Wall time"
   ]
  },
  {
   "cell_type": "code",
   "execution_count": 22,
   "metadata": {},
   "outputs": [
    {
     "data": {
      "text/plain": [
       "[{'val_loss': 1.0602391958236694}]"
      ]
     },
     "execution_count": 22,
     "metadata": {},
     "output_type": "execute_result"
    }
   ],
   "source": [
    "hidden_size2 = 128\n",
    "\n",
    "model2 = AutoencoderMNIST(hidden_size=hidden_size2)\n",
    "\n",
    "history2 = [evaluate(model2, val_loader)]\n",
    "history2"
   ]
  },
  {
   "cell_type": "code",
   "execution_count": 23,
   "metadata": {},
   "outputs": [
    {
     "name": "stdout",
     "output_type": "stream",
     "text": [
      "Epoch [0], last_lr: 0.0043, train_loss: 0.6449, val_loss: 0.4641\n",
      "Epoch [1], last_lr: 0.0050, train_loss: 0.4302, val_loss: 0.3411\n",
      "Epoch [2], last_lr: 0.0063, train_loss: 0.3459, val_loss: 0.2708\n",
      "Epoch [3], last_lr: 0.0081, train_loss: 0.2922, val_loss: 0.2237\n",
      "Epoch [4], last_lr: 0.0104, train_loss: 0.2547, val_loss: 0.1901\n",
      "Epoch [5], last_lr: 0.0132, train_loss: 0.2276, val_loss: 0.1662\n",
      "Epoch [6], last_lr: 0.0163, train_loss: 0.2086, val_loss: 0.1483\n",
      "Epoch [7], last_lr: 0.0199, train_loss: 0.1942, val_loss: 0.1352\n",
      "Epoch [8], last_lr: 0.0238, train_loss: 0.1834, val_loss: 0.1249\n",
      "Epoch [9], last_lr: 0.0280, train_loss: 0.1751, val_loss: 0.1172\n",
      "Epoch [10], last_lr: 0.0325, train_loss: 0.1690, val_loss: 0.1115\n",
      "Epoch [11], last_lr: 0.0372, train_loss: 0.1648, val_loss: 0.1062\n",
      "Epoch [12], last_lr: 0.0420, train_loss: 0.1613, val_loss: 0.1032\n",
      "Epoch [13], last_lr: 0.0470, train_loss: 0.1581, val_loss: 0.1006\n",
      "Epoch [14], last_lr: 0.0520, train_loss: 0.1561, val_loss: 0.0984\n",
      "Epoch [15], last_lr: 0.0570, train_loss: 0.1541, val_loss: 0.0971\n",
      "Epoch [16], last_lr: 0.0620, train_loss: 0.1525, val_loss: 0.0947\n",
      "Epoch [17], last_lr: 0.0668, train_loss: 0.1510, val_loss: 0.0938\n",
      "Epoch [18], last_lr: 0.0715, train_loss: 0.1500, val_loss: 0.0928\n",
      "Epoch [19], last_lr: 0.0760, train_loss: 0.1482, val_loss: 0.0912\n",
      "Epoch [20], last_lr: 0.0802, train_loss: 0.1472, val_loss: 0.0906\n",
      "Epoch [21], last_lr: 0.0841, train_loss: 0.1466, val_loss: 0.0899\n",
      "Epoch [22], last_lr: 0.0877, train_loss: 0.1457, val_loss: 0.0895\n",
      "Epoch [23], last_lr: 0.0908, train_loss: 0.1448, val_loss: 0.0888\n",
      "Epoch [24], last_lr: 0.0936, train_loss: 0.1445, val_loss: 0.0879\n",
      "Epoch [25], last_lr: 0.0958, train_loss: 0.1439, val_loss: 0.0875\n",
      "Epoch [26], last_lr: 0.0977, train_loss: 0.1429, val_loss: 0.0876\n",
      "Epoch [27], last_lr: 0.0990, train_loss: 0.1423, val_loss: 0.0867\n",
      "Epoch [28], last_lr: 0.0997, train_loss: 0.1417, val_loss: 0.0862\n",
      "Epoch [29], last_lr: 0.1000, train_loss: 0.1413, val_loss: 0.0863\n",
      "Epoch [30], last_lr: 0.0999, train_loss: 0.1405, val_loss: 0.0854\n",
      "Epoch [31], last_lr: 0.0998, train_loss: 0.1402, val_loss: 0.0850\n",
      "Epoch [32], last_lr: 0.0995, train_loss: 0.1394, val_loss: 0.0847\n",
      "Epoch [33], last_lr: 0.0992, train_loss: 0.1384, val_loss: 0.0842\n",
      "Epoch [34], last_lr: 0.0987, train_loss: 0.1385, val_loss: 0.0841\n",
      "Epoch [35], last_lr: 0.0982, train_loss: 0.1377, val_loss: 0.0832\n",
      "Epoch [36], last_lr: 0.0976, train_loss: 0.1374, val_loss: 0.0833\n",
      "Epoch [37], last_lr: 0.0968, train_loss: 0.1367, val_loss: 0.0835\n",
      "Epoch [38], last_lr: 0.0960, train_loss: 0.1361, val_loss: 0.0824\n",
      "Epoch [39], last_lr: 0.0950, train_loss: 0.1360, val_loss: 0.0822\n",
      "Epoch [40], last_lr: 0.0940, train_loss: 0.1360, val_loss: 0.0819\n",
      "Epoch [41], last_lr: 0.0929, train_loss: 0.1351, val_loss: 0.0812\n",
      "Epoch [42], last_lr: 0.0917, train_loss: 0.1349, val_loss: 0.0810\n",
      "Epoch [43], last_lr: 0.0905, train_loss: 0.1340, val_loss: 0.0806\n",
      "Epoch [44], last_lr: 0.0891, train_loss: 0.1338, val_loss: 0.0813\n",
      "Epoch [45], last_lr: 0.0877, train_loss: 0.1338, val_loss: 0.0804\n",
      "Epoch [46], last_lr: 0.0861, train_loss: 0.1332, val_loss: 0.0798\n",
      "Epoch [47], last_lr: 0.0846, train_loss: 0.1325, val_loss: 0.0794\n",
      "Epoch [48], last_lr: 0.0829, train_loss: 0.1317, val_loss: 0.0793\n",
      "Epoch [49], last_lr: 0.0812, train_loss: 0.1317, val_loss: 0.0788\n",
      "Epoch [50], last_lr: 0.0794, train_loss: 0.1312, val_loss: 0.0788\n",
      "Epoch [51], last_lr: 0.0775, train_loss: 0.1307, val_loss: 0.0782\n",
      "Epoch [52], last_lr: 0.0756, train_loss: 0.1304, val_loss: 0.0781\n",
      "Epoch [53], last_lr: 0.0737, train_loss: 0.1305, val_loss: 0.0776\n",
      "Epoch [54], last_lr: 0.0717, train_loss: 0.1295, val_loss: 0.0776\n",
      "Epoch [55], last_lr: 0.0697, train_loss: 0.1293, val_loss: 0.0775\n",
      "Epoch [56], last_lr: 0.0676, train_loss: 0.1293, val_loss: 0.0771\n",
      "Epoch [57], last_lr: 0.0655, train_loss: 0.1288, val_loss: 0.0775\n",
      "Epoch [58], last_lr: 0.0633, train_loss: 0.1289, val_loss: 0.0766\n",
      "Epoch [59], last_lr: 0.0611, train_loss: 0.1283, val_loss: 0.0767\n",
      "Epoch [60], last_lr: 0.0589, train_loss: 0.1279, val_loss: 0.0767\n",
      "Epoch [61], last_lr: 0.0567, train_loss: 0.1278, val_loss: 0.0758\n",
      "Epoch [62], last_lr: 0.0545, train_loss: 0.1277, val_loss: 0.0759\n",
      "Epoch [63], last_lr: 0.0522, train_loss: 0.1277, val_loss: 0.0762\n",
      "Epoch [64], last_lr: 0.0500, train_loss: 0.1270, val_loss: 0.0759\n",
      "Epoch [65], last_lr: 0.0478, train_loss: 0.1267, val_loss: 0.0755\n",
      "Epoch [66], last_lr: 0.0455, train_loss: 0.1272, val_loss: 0.0752\n",
      "Epoch [67], last_lr: 0.0433, train_loss: 0.1266, val_loss: 0.0757\n",
      "Epoch [68], last_lr: 0.0411, train_loss: 0.1267, val_loss: 0.0758\n",
      "Epoch [69], last_lr: 0.0389, train_loss: 0.1265, val_loss: 0.0750\n",
      "Epoch [70], last_lr: 0.0367, train_loss: 0.1263, val_loss: 0.0751\n",
      "Epoch [71], last_lr: 0.0345, train_loss: 0.1260, val_loss: 0.0748\n",
      "Epoch [72], last_lr: 0.0324, train_loss: 0.1260, val_loss: 0.0749\n",
      "Epoch [73], last_lr: 0.0303, train_loss: 0.1258, val_loss: 0.0748\n",
      "Epoch [74], last_lr: 0.0283, train_loss: 0.1259, val_loss: 0.0748\n",
      "Epoch [75], last_lr: 0.0263, train_loss: 0.1254, val_loss: 0.0746\n",
      "Epoch [76], last_lr: 0.0244, train_loss: 0.1255, val_loss: 0.0743\n",
      "Epoch [77], last_lr: 0.0225, train_loss: 0.1256, val_loss: 0.0744\n",
      "Epoch [78], last_lr: 0.0206, train_loss: 0.1256, val_loss: 0.0742\n",
      "Epoch [79], last_lr: 0.0188, train_loss: 0.1254, val_loss: 0.0740\n",
      "Epoch [80], last_lr: 0.0171, train_loss: 0.1252, val_loss: 0.0741\n",
      "Epoch [81], last_lr: 0.0154, train_loss: 0.1247, val_loss: 0.0740\n",
      "Epoch [82], last_lr: 0.0139, train_loss: 0.1251, val_loss: 0.0740\n",
      "Epoch [83], last_lr: 0.0123, train_loss: 0.1252, val_loss: 0.0741\n",
      "Epoch [84], last_lr: 0.0109, train_loss: 0.1248, val_loss: 0.0740\n",
      "Epoch [85], last_lr: 0.0095, train_loss: 0.1248, val_loss: 0.0739\n",
      "Epoch [86], last_lr: 0.0083, train_loss: 0.1250, val_loss: 0.0738\n",
      "Epoch [87], last_lr: 0.0071, train_loss: 0.1248, val_loss: 0.0738\n",
      "Epoch [88], last_lr: 0.0060, train_loss: 0.1246, val_loss: 0.0738\n",
      "Epoch [89], last_lr: 0.0050, train_loss: 0.1247, val_loss: 0.0736\n",
      "Epoch [90], last_lr: 0.0040, train_loss: 0.1246, val_loss: 0.0736\n",
      "Epoch [91], last_lr: 0.0032, train_loss: 0.1248, val_loss: 0.0737\n",
      "Epoch [92], last_lr: 0.0024, train_loss: 0.1243, val_loss: 0.0736\n",
      "Epoch [93], last_lr: 0.0018, train_loss: 0.1244, val_loss: 0.0736\n",
      "Epoch [94], last_lr: 0.0013, train_loss: 0.1246, val_loss: 0.0735\n",
      "Epoch [95], last_lr: 0.0008, train_loss: 0.1244, val_loss: 0.0736\n",
      "Epoch [96], last_lr: 0.0005, train_loss: 0.1241, val_loss: 0.0736\n",
      "Epoch [97], last_lr: 0.0002, train_loss: 0.1244, val_loss: 0.0736\n",
      "Epoch [98], last_lr: 0.0001, train_loss: 0.1242, val_loss: 0.0735\n",
      "Epoch [99], last_lr: 0.0000, train_loss: 0.1240, val_loss: 0.0735\n",
      "CPU times: user 21min 7s, sys: 2min 45s, total: 23min 53s\n",
      "Wall time: 15min 38s\n"
     ]
    }
   ],
   "source": [
    "%%time\n",
    "start = time.time()\n",
    "\n",
    "history2 += fit_one_cycle(epochs, max_lr, model2, train_loader, val_loader, grad_clip=grad_clip)\n",
    "\n",
    "end = time.time()\n",
    "time2 = (end - start)/60 #Wall time"
   ]
  },
  {
   "cell_type": "code",
   "execution_count": 24,
   "metadata": {},
   "outputs": [
    {
     "data": {
      "text/plain": [
       "[{'val_loss': 1.0539239645004272}]"
      ]
     },
     "execution_count": 24,
     "metadata": {},
     "output_type": "execute_result"
    }
   ],
   "source": [
    "hidden_size3 = 256\n",
    "\n",
    "model3 = AutoencoderMNIST(hidden_size=hidden_size3)\n",
    "\n",
    "history3 = [evaluate(model3, val_loader)]\n",
    "history3"
   ]
  },
  {
   "cell_type": "code",
   "execution_count": 25,
   "metadata": {},
   "outputs": [
    {
     "name": "stdout",
     "output_type": "stream",
     "text": [
      "Epoch [0], last_lr: 0.0043, train_loss: 0.5544, val_loss: 0.3628\n",
      "Epoch [1], last_lr: 0.0050, train_loss: 0.3377, val_loss: 0.2528\n",
      "Epoch [2], last_lr: 0.0063, train_loss: 0.2623, val_loss: 0.1953\n",
      "Epoch [3], last_lr: 0.0081, train_loss: 0.2180, val_loss: 0.1595\n",
      "Epoch [4], last_lr: 0.0104, train_loss: 0.1883, val_loss: 0.1345\n",
      "Epoch [5], last_lr: 0.0132, train_loss: 0.1673, val_loss: 0.1168\n",
      "Epoch [6], last_lr: 0.0163, train_loss: 0.1519, val_loss: 0.1035\n",
      "Epoch [7], last_lr: 0.0199, train_loss: 0.1399, val_loss: 0.0934\n",
      "Epoch [8], last_lr: 0.0238, train_loss: 0.1310, val_loss: 0.0856\n",
      "Epoch [9], last_lr: 0.0280, train_loss: 0.1241, val_loss: 0.0794\n",
      "Epoch [10], last_lr: 0.0325, train_loss: 0.1189, val_loss: 0.0749\n",
      "Epoch [11], last_lr: 0.0372, train_loss: 0.1149, val_loss: 0.0712\n",
      "Epoch [12], last_lr: 0.0420, train_loss: 0.1112, val_loss: 0.0677\n",
      "Epoch [13], last_lr: 0.0470, train_loss: 0.1086, val_loss: 0.0655\n",
      "Epoch [14], last_lr: 0.0520, train_loss: 0.1063, val_loss: 0.0637\n",
      "Epoch [15], last_lr: 0.0570, train_loss: 0.1046, val_loss: 0.0616\n",
      "Epoch [16], last_lr: 0.0620, train_loss: 0.1032, val_loss: 0.0600\n",
      "Epoch [17], last_lr: 0.0668, train_loss: 0.1017, val_loss: 0.0587\n",
      "Epoch [18], last_lr: 0.0715, train_loss: 0.1008, val_loss: 0.0577\n",
      "Epoch [19], last_lr: 0.0760, train_loss: 0.0997, val_loss: 0.0566\n",
      "Epoch [20], last_lr: 0.0802, train_loss: 0.0988, val_loss: 0.0559\n",
      "Epoch [21], last_lr: 0.0841, train_loss: 0.0980, val_loss: 0.0554\n",
      "Epoch [22], last_lr: 0.0877, train_loss: 0.0971, val_loss: 0.0541\n",
      "Epoch [23], last_lr: 0.0908, train_loss: 0.0966, val_loss: 0.0533\n",
      "Epoch [24], last_lr: 0.0936, train_loss: 0.0957, val_loss: 0.0526\n",
      "Epoch [25], last_lr: 0.0958, train_loss: 0.0952, val_loss: 0.0521\n",
      "Epoch [26], last_lr: 0.0977, train_loss: 0.0948, val_loss: 0.0521\n",
      "Epoch [27], last_lr: 0.0990, train_loss: 0.0943, val_loss: 0.0515\n",
      "Epoch [28], last_lr: 0.0997, train_loss: 0.0938, val_loss: 0.0508\n",
      "Epoch [29], last_lr: 0.1000, train_loss: 0.0931, val_loss: 0.0505\n",
      "Epoch [30], last_lr: 0.0999, train_loss: 0.0926, val_loss: 0.0502\n",
      "Epoch [31], last_lr: 0.0998, train_loss: 0.0921, val_loss: 0.0500\n",
      "Epoch [32], last_lr: 0.0995, train_loss: 0.0919, val_loss: 0.0492\n",
      "Epoch [33], last_lr: 0.0992, train_loss: 0.0915, val_loss: 0.0490\n",
      "Epoch [34], last_lr: 0.0987, train_loss: 0.0911, val_loss: 0.0491\n",
      "Epoch [35], last_lr: 0.0982, train_loss: 0.0909, val_loss: 0.0485\n",
      "Epoch [36], last_lr: 0.0976, train_loss: 0.0902, val_loss: 0.0480\n",
      "Epoch [37], last_lr: 0.0968, train_loss: 0.0898, val_loss: 0.0477\n",
      "Epoch [38], last_lr: 0.0960, train_loss: 0.0896, val_loss: 0.0474\n",
      "Epoch [39], last_lr: 0.0950, train_loss: 0.0893, val_loss: 0.0471\n",
      "Epoch [40], last_lr: 0.0940, train_loss: 0.0889, val_loss: 0.0472\n",
      "Epoch [41], last_lr: 0.0929, train_loss: 0.0887, val_loss: 0.0466\n",
      "Epoch [42], last_lr: 0.0917, train_loss: 0.0883, val_loss: 0.0463\n",
      "Epoch [43], last_lr: 0.0905, train_loss: 0.0881, val_loss: 0.0461\n",
      "Epoch [44], last_lr: 0.0891, train_loss: 0.0878, val_loss: 0.0459\n",
      "Epoch [45], last_lr: 0.0877, train_loss: 0.0875, val_loss: 0.0455\n",
      "Epoch [46], last_lr: 0.0861, train_loss: 0.0873, val_loss: 0.0452\n",
      "Epoch [47], last_lr: 0.0846, train_loss: 0.0870, val_loss: 0.0450\n",
      "Epoch [48], last_lr: 0.0829, train_loss: 0.0868, val_loss: 0.0450\n",
      "Epoch [49], last_lr: 0.0812, train_loss: 0.0863, val_loss: 0.0447\n",
      "Epoch [50], last_lr: 0.0794, train_loss: 0.0863, val_loss: 0.0446\n",
      "Epoch [51], last_lr: 0.0775, train_loss: 0.0860, val_loss: 0.0444\n",
      "Epoch [52], last_lr: 0.0756, train_loss: 0.0858, val_loss: 0.0446\n",
      "Epoch [53], last_lr: 0.0737, train_loss: 0.0854, val_loss: 0.0440\n",
      "Epoch [54], last_lr: 0.0717, train_loss: 0.0853, val_loss: 0.0439\n",
      "Epoch [55], last_lr: 0.0697, train_loss: 0.0852, val_loss: 0.0437\n",
      "Epoch [56], last_lr: 0.0676, train_loss: 0.0850, val_loss: 0.0437\n",
      "Epoch [57], last_lr: 0.0655, train_loss: 0.0847, val_loss: 0.0434\n",
      "Epoch [58], last_lr: 0.0633, train_loss: 0.0845, val_loss: 0.0435\n",
      "Epoch [59], last_lr: 0.0611, train_loss: 0.0844, val_loss: 0.0428\n",
      "Epoch [60], last_lr: 0.0589, train_loss: 0.0841, val_loss: 0.0430\n",
      "Epoch [61], last_lr: 0.0567, train_loss: 0.0839, val_loss: 0.0427\n",
      "Epoch [62], last_lr: 0.0545, train_loss: 0.0839, val_loss: 0.0430\n",
      "Epoch [63], last_lr: 0.0522, train_loss: 0.0836, val_loss: 0.0429\n",
      "Epoch [64], last_lr: 0.0500, train_loss: 0.0836, val_loss: 0.0425\n",
      "Epoch [65], last_lr: 0.0478, train_loss: 0.0833, val_loss: 0.0424\n",
      "Epoch [66], last_lr: 0.0455, train_loss: 0.0835, val_loss: 0.0421\n",
      "Epoch [67], last_lr: 0.0433, train_loss: 0.0832, val_loss: 0.0423\n",
      "Epoch [68], last_lr: 0.0411, train_loss: 0.0829, val_loss: 0.0418\n",
      "Epoch [69], last_lr: 0.0389, train_loss: 0.0828, val_loss: 0.0420\n",
      "Epoch [70], last_lr: 0.0367, train_loss: 0.0827, val_loss: 0.0416\n",
      "Epoch [71], last_lr: 0.0345, train_loss: 0.0826, val_loss: 0.0416\n",
      "Epoch [72], last_lr: 0.0324, train_loss: 0.0824, val_loss: 0.0415\n",
      "Epoch [73], last_lr: 0.0303, train_loss: 0.0822, val_loss: 0.0413\n",
      "Epoch [74], last_lr: 0.0283, train_loss: 0.0822, val_loss: 0.0413\n",
      "Epoch [75], last_lr: 0.0263, train_loss: 0.0822, val_loss: 0.0414\n",
      "Epoch [76], last_lr: 0.0244, train_loss: 0.0820, val_loss: 0.0411\n",
      "Epoch [77], last_lr: 0.0225, train_loss: 0.0820, val_loss: 0.0412\n",
      "Epoch [78], last_lr: 0.0206, train_loss: 0.0818, val_loss: 0.0410\n",
      "Epoch [79], last_lr: 0.0188, train_loss: 0.0817, val_loss: 0.0410\n",
      "Epoch [80], last_lr: 0.0171, train_loss: 0.0818, val_loss: 0.0407\n",
      "Epoch [81], last_lr: 0.0154, train_loss: 0.0816, val_loss: 0.0408\n",
      "Epoch [82], last_lr: 0.0139, train_loss: 0.0816, val_loss: 0.0406\n",
      "Epoch [83], last_lr: 0.0123, train_loss: 0.0816, val_loss: 0.0407\n",
      "Epoch [84], last_lr: 0.0109, train_loss: 0.0814, val_loss: 0.0405\n",
      "Epoch [85], last_lr: 0.0095, train_loss: 0.0814, val_loss: 0.0406\n",
      "Epoch [86], last_lr: 0.0083, train_loss: 0.0812, val_loss: 0.0406\n",
      "Epoch [87], last_lr: 0.0071, train_loss: 0.0811, val_loss: 0.0404\n",
      "Epoch [88], last_lr: 0.0060, train_loss: 0.0812, val_loss: 0.0404\n",
      "Epoch [89], last_lr: 0.0050, train_loss: 0.0811, val_loss: 0.0404\n",
      "Epoch [90], last_lr: 0.0040, train_loss: 0.0812, val_loss: 0.0403\n",
      "Epoch [91], last_lr: 0.0032, train_loss: 0.0810, val_loss: 0.0403\n",
      "Epoch [92], last_lr: 0.0024, train_loss: 0.0808, val_loss: 0.0402\n",
      "Epoch [93], last_lr: 0.0018, train_loss: 0.0809, val_loss: 0.0402\n",
      "Epoch [94], last_lr: 0.0013, train_loss: 0.0811, val_loss: 0.0402\n",
      "Epoch [95], last_lr: 0.0008, train_loss: 0.0807, val_loss: 0.0402\n",
      "Epoch [96], last_lr: 0.0005, train_loss: 0.0808, val_loss: 0.0402\n",
      "Epoch [97], last_lr: 0.0002, train_loss: 0.0809, val_loss: 0.0401\n",
      "Epoch [98], last_lr: 0.0001, train_loss: 0.0810, val_loss: 0.0401\n",
      "Epoch [99], last_lr: 0.0000, train_loss: 0.0808, val_loss: 0.0401\n",
      "CPU times: user 25min 42s, sys: 2min 40s, total: 28min 22s\n",
      "Wall time: 17min 28s\n"
     ]
    }
   ],
   "source": [
    "%%time\n",
    "start = time.time()\n",
    "\n",
    "history3 += fit_one_cycle(epochs, max_lr, model3, train_loader, val_loader, grad_clip=grad_clip)\n",
    "\n",
    "end = time.time()\n",
    "time3 = (end - start)/60 #Wall time"
   ]
  },
  {
   "cell_type": "code",
   "execution_count": 26,
   "metadata": {},
   "outputs": [
    {
     "data": {
      "text/plain": [
       "[{'val_loss': 1.0538996458053589}]"
      ]
     },
     "execution_count": 26,
     "metadata": {},
     "output_type": "execute_result"
    }
   ],
   "source": [
    "hidden_size4 = 512\n",
    "\n",
    "model4 = AutoencoderMNIST(hidden_size=hidden_size4)\n",
    "\n",
    "history4 = [evaluate(model4, val_loader)]\n",
    "history4"
   ]
  },
  {
   "cell_type": "code",
   "execution_count": 27,
   "metadata": {},
   "outputs": [
    {
     "name": "stdout",
     "output_type": "stream",
     "text": [
      "Epoch [0], last_lr: 0.0043, train_loss: 0.4789, val_loss: 0.2875\n",
      "Epoch [1], last_lr: 0.0050, train_loss: 0.2648, val_loss: 0.1920\n",
      "Epoch [2], last_lr: 0.0063, train_loss: 0.2012, val_loss: 0.1468\n",
      "Epoch [3], last_lr: 0.0081, train_loss: 0.1655, val_loss: 0.1191\n",
      "Epoch [4], last_lr: 0.0104, train_loss: 0.1415, val_loss: 0.0997\n",
      "Epoch [5], last_lr: 0.0132, train_loss: 0.1243, val_loss: 0.0855\n",
      "Epoch [6], last_lr: 0.0163, train_loss: 0.1113, val_loss: 0.0748\n",
      "Epoch [7], last_lr: 0.0199, train_loss: 0.1013, val_loss: 0.0667\n",
      "Epoch [8], last_lr: 0.0238, train_loss: 0.0936, val_loss: 0.0602\n",
      "Epoch [9], last_lr: 0.0280, train_loss: 0.0876, val_loss: 0.0551\n",
      "Epoch [10], last_lr: 0.0325, train_loss: 0.0827, val_loss: 0.0509\n",
      "Epoch [11], last_lr: 0.0372, train_loss: 0.0789, val_loss: 0.0475\n",
      "Epoch [12], last_lr: 0.0420, train_loss: 0.0757, val_loss: 0.0451\n",
      "Epoch [13], last_lr: 0.0470, train_loss: 0.0733, val_loss: 0.0428\n",
      "Epoch [14], last_lr: 0.0520, train_loss: 0.0711, val_loss: 0.0408\n",
      "Epoch [15], last_lr: 0.0570, train_loss: 0.0695, val_loss: 0.0392\n",
      "Epoch [16], last_lr: 0.0620, train_loss: 0.0680, val_loss: 0.0377\n",
      "Epoch [17], last_lr: 0.0668, train_loss: 0.0667, val_loss: 0.0365\n",
      "Epoch [18], last_lr: 0.0715, train_loss: 0.0657, val_loss: 0.0355\n",
      "Epoch [19], last_lr: 0.0760, train_loss: 0.0647, val_loss: 0.0347\n",
      "Epoch [20], last_lr: 0.0802, train_loss: 0.0639, val_loss: 0.0339\n",
      "Epoch [21], last_lr: 0.0841, train_loss: 0.0633, val_loss: 0.0331\n",
      "Epoch [22], last_lr: 0.0877, train_loss: 0.0627, val_loss: 0.0329\n",
      "Epoch [23], last_lr: 0.0908, train_loss: 0.0621, val_loss: 0.0318\n",
      "Epoch [24], last_lr: 0.0936, train_loss: 0.0616, val_loss: 0.0312\n",
      "Epoch [25], last_lr: 0.0958, train_loss: 0.0610, val_loss: 0.0310\n",
      "Epoch [26], last_lr: 0.0977, train_loss: 0.0606, val_loss: 0.0305\n",
      "Epoch [27], last_lr: 0.0990, train_loss: 0.0601, val_loss: 0.0300\n",
      "Epoch [28], last_lr: 0.0997, train_loss: 0.0597, val_loss: 0.0296\n",
      "Epoch [29], last_lr: 0.1000, train_loss: 0.0594, val_loss: 0.0292\n",
      "Epoch [30], last_lr: 0.0999, train_loss: 0.0590, val_loss: 0.0287\n",
      "Epoch [31], last_lr: 0.0998, train_loss: 0.0586, val_loss: 0.0287\n",
      "Epoch [32], last_lr: 0.0995, train_loss: 0.0583, val_loss: 0.0284\n",
      "Epoch [33], last_lr: 0.0992, train_loss: 0.0580, val_loss: 0.0279\n",
      "Epoch [34], last_lr: 0.0987, train_loss: 0.0578, val_loss: 0.0276\n",
      "Epoch [35], last_lr: 0.0982, train_loss: 0.0575, val_loss: 0.0274\n",
      "Epoch [36], last_lr: 0.0976, train_loss: 0.0573, val_loss: 0.0273\n",
      "Epoch [37], last_lr: 0.0968, train_loss: 0.0570, val_loss: 0.0269\n",
      "Epoch [38], last_lr: 0.0960, train_loss: 0.0567, val_loss: 0.0266\n",
      "Epoch [39], last_lr: 0.0950, train_loss: 0.0564, val_loss: 0.0263\n",
      "Epoch [40], last_lr: 0.0940, train_loss: 0.0564, val_loss: 0.0262\n",
      "Epoch [41], last_lr: 0.0929, train_loss: 0.0561, val_loss: 0.0258\n",
      "Epoch [42], last_lr: 0.0917, train_loss: 0.0559, val_loss: 0.0259\n",
      "Epoch [43], last_lr: 0.0905, train_loss: 0.0557, val_loss: 0.0255\n",
      "Epoch [44], last_lr: 0.0891, train_loss: 0.0555, val_loss: 0.0254\n",
      "Epoch [45], last_lr: 0.0877, train_loss: 0.0553, val_loss: 0.0253\n",
      "Epoch [46], last_lr: 0.0861, train_loss: 0.0551, val_loss: 0.0250\n",
      "Epoch [47], last_lr: 0.0846, train_loss: 0.0549, val_loss: 0.0250\n",
      "Epoch [48], last_lr: 0.0829, train_loss: 0.0548, val_loss: 0.0246\n",
      "Epoch [49], last_lr: 0.0812, train_loss: 0.0545, val_loss: 0.0247\n",
      "Epoch [50], last_lr: 0.0794, train_loss: 0.0544, val_loss: 0.0246\n",
      "Epoch [51], last_lr: 0.0775, train_loss: 0.0542, val_loss: 0.0245\n",
      "Epoch [52], last_lr: 0.0756, train_loss: 0.0540, val_loss: 0.0243\n",
      "Epoch [53], last_lr: 0.0737, train_loss: 0.0541, val_loss: 0.0242\n",
      "Epoch [54], last_lr: 0.0717, train_loss: 0.0539, val_loss: 0.0240\n",
      "Epoch [55], last_lr: 0.0697, train_loss: 0.0537, val_loss: 0.0239\n",
      "Epoch [56], last_lr: 0.0676, train_loss: 0.0537, val_loss: 0.0237\n",
      "Epoch [57], last_lr: 0.0655, train_loss: 0.0536, val_loss: 0.0236\n",
      "Epoch [58], last_lr: 0.0633, train_loss: 0.0534, val_loss: 0.0236\n",
      "Epoch [59], last_lr: 0.0611, train_loss: 0.0532, val_loss: 0.0234\n",
      "Epoch [60], last_lr: 0.0589, train_loss: 0.0531, val_loss: 0.0235\n",
      "Epoch [61], last_lr: 0.0567, train_loss: 0.0531, val_loss: 0.0233\n",
      "Epoch [62], last_lr: 0.0545, train_loss: 0.0529, val_loss: 0.0233\n",
      "Epoch [63], last_lr: 0.0522, train_loss: 0.0528, val_loss: 0.0232\n",
      "Epoch [64], last_lr: 0.0500, train_loss: 0.0527, val_loss: 0.0229\n",
      "Epoch [65], last_lr: 0.0478, train_loss: 0.0527, val_loss: 0.0229\n",
      "Epoch [66], last_lr: 0.0455, train_loss: 0.0525, val_loss: 0.0228\n",
      "Epoch [67], last_lr: 0.0433, train_loss: 0.0524, val_loss: 0.0228\n",
      "Epoch [68], last_lr: 0.0411, train_loss: 0.0524, val_loss: 0.0226\n",
      "Epoch [69], last_lr: 0.0389, train_loss: 0.0522, val_loss: 0.0226\n",
      "Epoch [70], last_lr: 0.0367, train_loss: 0.0522, val_loss: 0.0224\n",
      "Epoch [71], last_lr: 0.0345, train_loss: 0.0519, val_loss: 0.0222\n",
      "Epoch [72], last_lr: 0.0324, train_loss: 0.0518, val_loss: 0.0223\n",
      "Epoch [73], last_lr: 0.0303, train_loss: 0.0519, val_loss: 0.0223\n",
      "Epoch [74], last_lr: 0.0283, train_loss: 0.0517, val_loss: 0.0222\n",
      "Epoch [75], last_lr: 0.0263, train_loss: 0.0518, val_loss: 0.0221\n",
      "Epoch [76], last_lr: 0.0244, train_loss: 0.0516, val_loss: 0.0221\n",
      "Epoch [77], last_lr: 0.0225, train_loss: 0.0515, val_loss: 0.0220\n",
      "Epoch [78], last_lr: 0.0206, train_loss: 0.0515, val_loss: 0.0219\n",
      "Epoch [79], last_lr: 0.0188, train_loss: 0.0516, val_loss: 0.0219\n",
      "Epoch [80], last_lr: 0.0171, train_loss: 0.0513, val_loss: 0.0217\n",
      "Epoch [81], last_lr: 0.0154, train_loss: 0.0513, val_loss: 0.0217\n",
      "Epoch [82], last_lr: 0.0139, train_loss: 0.0511, val_loss: 0.0217\n",
      "Epoch [83], last_lr: 0.0123, train_loss: 0.0511, val_loss: 0.0215\n",
      "Epoch [84], last_lr: 0.0109, train_loss: 0.0511, val_loss: 0.0215\n",
      "Epoch [85], last_lr: 0.0095, train_loss: 0.0509, val_loss: 0.0215\n",
      "Epoch [86], last_lr: 0.0083, train_loss: 0.0509, val_loss: 0.0214\n",
      "Epoch [87], last_lr: 0.0071, train_loss: 0.0509, val_loss: 0.0215\n",
      "Epoch [88], last_lr: 0.0060, train_loss: 0.0508, val_loss: 0.0213\n",
      "Epoch [89], last_lr: 0.0050, train_loss: 0.0508, val_loss: 0.0214\n",
      "Epoch [90], last_lr: 0.0040, train_loss: 0.0507, val_loss: 0.0213\n",
      "Epoch [91], last_lr: 0.0032, train_loss: 0.0508, val_loss: 0.0213\n",
      "Epoch [92], last_lr: 0.0024, train_loss: 0.0506, val_loss: 0.0212\n",
      "Epoch [93], last_lr: 0.0018, train_loss: 0.0506, val_loss: 0.0212\n",
      "Epoch [94], last_lr: 0.0013, train_loss: 0.0506, val_loss: 0.0212\n",
      "Epoch [95], last_lr: 0.0008, train_loss: 0.0507, val_loss: 0.0212\n",
      "Epoch [96], last_lr: 0.0005, train_loss: 0.0506, val_loss: 0.0212\n",
      "Epoch [97], last_lr: 0.0002, train_loss: 0.0506, val_loss: 0.0212\n",
      "Epoch [98], last_lr: 0.0001, train_loss: 0.0506, val_loss: 0.0212\n",
      "Epoch [99], last_lr: 0.0000, train_loss: 0.0506, val_loss: 0.0212\n",
      "CPU times: user 34min 29s, sys: 3min 32s, total: 38min 2s\n",
      "Wall time: 21min 3s\n"
     ]
    }
   ],
   "source": [
    "%%time\n",
    "start = time.time()\n",
    "\n",
    "history4 += fit_one_cycle(epochs, max_lr, model4, train_loader, val_loader, grad_clip=grad_clip)\n",
    "\n",
    "end = time.time()\n",
    "time4 = (end - start)/60 #Wall time"
   ]
  },
  {
   "cell_type": "markdown",
   "metadata": {},
   "source": [
    "## Ploteos"
   ]
  },
  {
   "cell_type": "markdown",
   "metadata": {},
   "source": [
    "### Error cuadrático medio de validacion"
   ]
  },
  {
   "cell_type": "code",
   "execution_count": 28,
   "metadata": {},
   "outputs": [
    {
     "data": {
      "text/plain": [
       "<matplotlib.legend.Legend at 0x7f04bbe7e490>"
      ]
     },
     "execution_count": 28,
     "metadata": {},
     "output_type": "execute_result"
    },
    {
     "data": {
      "image/png": "[encoded data removed]",
      "text/plain": [
       "<Figure size 432x288 with 1 Axes>"
      ]
     },
     "metadata": {
      "needs_background": "light"
     },
     "output_type": "display_data"
    }
   ],
   "source": [
    "vloss0 = [x['val_loss'] for x in history0]\n",
    "vloss1 = [x['val_loss'] for x in history1]\n",
    "vloss2 = [x['val_loss'] for x in history2]\n",
    "vloss3 = [x['val_loss'] for x in history3]\n",
    "vloss4 = [x['val_loss'] for x in history4]\n",
    "plt.plot(vloss0, '-c.', label='10')\n",
    "plt.plot(vloss1, '-r.', label='64')\n",
    "plt.plot(vloss2, '-b.', label='128')\n",
    "plt.plot(vloss3, '-g.', label='256')\n",
    "plt.plot(vloss4, '-m.', label='512')\n",
    "\n",
    "plt.xlabel('Epoca')\n",
    "plt.ylabel('Error')\n",
    "plt.title('Error cuadrático medio - Validación')\n",
    "plt.legend(title='Tamaño capa oculta')"
   ]
  },
  {
   "cell_type": "markdown",
   "metadata": {},
   "source": [
    "### Error cuadrático medio de entrenamiento"
   ]
  },
  {
   "cell_type": "code",
   "execution_count": 29,
   "metadata": {},
   "outputs": [
    {
     "data": {
      "text/plain": [
       "<matplotlib.legend.Legend at 0x7f04bbd97e50>"
      ]
     },
     "execution_count": 29,
     "metadata": {},
     "output_type": "execute_result"
    },
    {
     "data": {
      "image/png": "[encoded data removed]",
      "text/plain": [
       "<Figure size 432x288 with 1 Axes>"
      ]
     },
     "metadata": {
      "needs_background": "light"
     },
     "output_type": "display_data"
    }
   ],
   "source": [
    "tloss0 = [x.get('train_loss') for x in history0]\n",
    "tloss1 = [x.get('train_loss') for x in history1]\n",
    "tloss2 = [x.get('train_loss') for x in history2]\n",
    "tloss3 = [x.get('train_loss') for x in history3]\n",
    "tloss4 = [x.get('train_loss') for x in history4]\n",
    "\n",
    "plt.plot(tloss0, '-c.', label='10')\n",
    "plt.plot(tloss1, '-r.', label='64')\n",
    "plt.plot(tloss2, '-b.', label='128')\n",
    "plt.plot(tloss3, '-g.', label='256')\n",
    "plt.plot(tloss4, '-m.', label='512')\n",
    "\n",
    "plt.xlabel('Epoca')\n",
    "plt.ylabel('Error')\n",
    "plt.title('Error cuadrático medio - Train')\n",
    "plt.legend(title='Tamaño capa oculta')"
   ]
  },
  {
   "cell_type": "markdown",
   "metadata": {},
   "source": [
    "### Función de pérdida vs numero de epoca\n",
    "\n",
    "Para algun tamaño de capa oculta"
   ]
  },
  {
   "cell_type": "code",
   "execution_count": 30,
   "metadata": {},
   "outputs": [],
   "source": [
    "def plot_losses(history):\n",
    "    train_losses = [x.get('train_loss') for x in history]\n",
    "    val_losses = [x['val_loss'] for x in history]\n",
    "    plt.plot(train_losses, '-b.')\n",
    "    plt.plot(val_losses, '-r.')\n",
    "    plt.xlabel('Epoca')\n",
    "    plt.ylabel('Error')\n",
    "    plt.legend(['Training', 'Test']);"
   ]
  },
  {
   "cell_type": "code",
   "execution_count": 31,
   "metadata": {},
   "outputs": [
    {
     "data": {
      "text/plain": [
       "Text(0.5, 1.0, 'Capa ocuta = 256')"
      ]
     },
     "execution_count": 31,
     "metadata": {},
     "output_type": "execute_result"
    },
    {
     "data": {
      "image/png": "[encoded data removed]",
      "text/plain": [
       "<Figure size 432x288 with 2 Axes>"
      ]
     },
     "metadata": {
      "needs_background": "light"
     },
     "output_type": "display_data"
    }
   ],
   "source": [
    "plt.figure()\n",
    "plt.suptitle('Error vs. No. de época')\n",
    "\n",
    "plt.subplot(151)\n",
    "plot_losses(history0)\n",
    "plt.title('Capa ocuta = 10')\n",
    "\n",
    "plt.subplot(152)\n",
    "plot_losses(history1)\n",
    "plt.title('Capa ocuta = 64')\n",
    "\n",
    "plt.subplot(153)\n",
    "plot_losses(history2)\n",
    "plt.title('Capa ocuta = 128')\n",
    "\n",
    "plt.subplot(154)\n",
    "plot_losses(history3)\n",
    "plt.title('Capa ocuta = 256')\n",
    "\n",
    "plt.subplot(155)\n",
    "plot_losses(history4)\n",
    "plt.title('Capa ocuta = 64')"
   ]
  },
  {
   "cell_type": "markdown",
   "metadata": {},
   "source": [
    "### Learning rate vs batch"
   ]
  },
  {
   "cell_type": "code",
   "execution_count": 32,
   "metadata": {},
   "outputs": [
    {
     "data": {
      "image/png": "[encoded data removed]",
      "text/plain": [
       "<Figure size 432x288 with 1 Axes>"
      ]
     },
     "metadata": {
      "needs_background": "light"
     },
     "output_type": "display_data"
    }
   ],
   "source": [
    "def plot_lrs(history):\n",
    "    lrs = np.concatenate([x.get('lrs', []) for x in history])\n",
    "    plt.plot(lrs)\n",
    "    plt.xlabel('Batch no.')\n",
    "    plt.ylabel('Learning rate')\n",
    "    plt.title('Learning Rate vs. Batch no.');\n",
    "    \n",
    "plot_lrs(history4)"
   ]
  },
  {
   "cell_type": "markdown",
   "metadata": {},
   "source": [
    "## Testeo\n",
    "Con las siguientes funciones podremos graficar un autput del modelo junto con la imagen original, de forma que podamos comparar."
   ]
  },
  {
   "cell_type": "code",
   "execution_count": 33,
   "metadata": {},
   "outputs": [],
   "source": [
    "#Test\n",
    "def predict_image(img, model):\n",
    "    xb = img.unsqueeze(0)  # Convert to a batch of 1\n",
    "    yb = model(xb) # Get predictions from model\n",
    "    return yb"
   ]
  },
  {
   "cell_type": "markdown",
   "metadata": {},
   "source": [
    "Visualizamos una salida que elegimos al azar del conjunto de testeo, para cada capa oculta, co la imagen original correspondiente."
   ]
  },
  {
   "cell_type": "code",
   "execution_count": 34,
   "metadata": {},
   "outputs": [],
   "source": [
    "x_test, label = test_ds[9235] #le pasamos el numero de imagen del set de validación"
   ]
  },
  {
   "cell_type": "code",
   "execution_count": 35,
   "metadata": {},
   "outputs": [
    {
     "data": {
      "image/png": "[encoded data removed]",
      "text/plain": [
       "<Figure size 432x396 with 6 Axes>"
      ]
     },
     "metadata": {
      "needs_background": "light"
     },
     "output_type": "display_data"
    }
   ],
   "source": [
    "dims=(28,28)\n",
    "\n",
    "plt.figure(figsize=(6,5.5))\n",
    "plt.suptitle('Salidas para batch={}, épocas={}'.format(batch_size, epochs))\n",
    "\n",
    "plt.subplot(231)\n",
    "plt.imshow(x_test.reshape((28,28)))\n",
    "plt.gray()\n",
    "plt.title('Original')\n",
    "plt.axis('off')\n",
    "\n",
    "plt.subplot(232)\n",
    "decoded_img0 = predict_image(x_test,model0).detach().numpy()\n",
    "plt.imshow(decoded_img0.reshape(dims))\n",
    "plt.title('h size: {}'.format(hidden_size0))\n",
    "plt.axis('off')\n",
    "\n",
    "plt.subplot(233)\n",
    "decoded_img1 = predict_image(x_test,model1).detach().numpy()\n",
    "plt.imshow(decoded_img1.reshape(dims))\n",
    "plt.title('h size: {}'.format(hidden_size1))\n",
    "plt.axis('off')\n",
    "\n",
    "plt.subplot(234)\n",
    "decoded_img2 = predict_image(x_test,model2).detach().numpy()\n",
    "plt.imshow(decoded_img2.reshape(dims))\n",
    "plt.title('h size: {}'.format(hidden_size2))\n",
    "plt.axis('off')\n",
    "\n",
    "plt.subplot(235)\n",
    "decoded_img3 = predict_image(x_test,model3).detach().numpy()\n",
    "plt.imshow(decoded_img3.reshape(dims))\n",
    "plt.title('h size: {}'.format(hidden_size3))\n",
    "plt.axis('off')\n",
    "\n",
    "plt.subplot(236)\n",
    "decoded_img4 = predict_image(x_test,model4).detach().numpy()\n",
    "plt.imshow(decoded_img4.reshape(dims))\n",
    "plt.title('h size: {}'.format(hidden_size4))\n",
    "plt.axis('off')\n",
    "\n",
    "plt.tight_layout()\n",
    "plt.show()\n",
    "#plot_autoencoder_outputs(img_orig,model1)\n",
    "#plot_autoencoder_outputs(img_orig,model2)\n",
    "#plot_autoencoder_outputs(img_orig,model3)\n",
    "#plot_autoencoder_outputs(img_orig,model4)"
   ]
  },
  {
   "cell_type": "markdown",
   "metadata": {},
   "source": [
    "## Testeo\n",
    "\n",
    "Finalmente, vamos a calcular el error sobre el dataset de testeo o evaluación. En general, se espera que sea similar al obtenido para el dataset de validación. Con esto obenemos una nueva métrica para evaluar los resultados."
   ]
  },
  {
   "cell_type": "code",
   "execution_count": 36,
   "metadata": {},
   "outputs": [
    {
     "data": {
      "text/plain": [
       "[0.4857213497161865,\n",
       " 0.12802986800670624,\n",
       " 0.07178839296102524,\n",
       " 0.039141565561294556,\n",
       " 0.020580794662237167]"
      ]
     },
     "execution_count": 36,
     "metadata": {},
     "output_type": "execute_result"
    }
   ],
   "source": [
    "test_loader = DataLoader(test_ds, batch_size*2, num_workers=4, pin_memory=True)\n",
    "\n",
    "test_result=[]\n",
    "test_result.append(evaluate(model0, test_loader).get('val_loss'))\n",
    "test_result.append(evaluate(model1, test_loader).get('val_loss'))\n",
    "test_result.append(evaluate(model2, test_loader).get('val_loss'))\n",
    "test_result.append(evaluate(model3, test_loader).get('val_loss'))\n",
    "test_result.append(evaluate(model4, test_loader).get('val_loss'))\n",
    "\n",
    "test_result"
   ]
  },
  {
   "cell_type": "markdown",
   "metadata": {},
   "source": [
    "## Tabla comparativa"
   ]
  },
  {
   "cell_type": "code",
   "execution_count": 37,
   "metadata": {},
   "outputs": [],
   "source": [
    "col = ['Capa oculta', 'Minimo error train', 'Minimo error val', 'Error conjunto test', 'Tiempo (min)']\n",
    "rows = ['%d' % x for x in (10, 64, 128, 256, 512)]\n",
    "data = [\n",
    "       [hidden_size0, history0[-1].get('train_loss'), history0[-1].get('val_loss'), test_result[0], time0],\n",
    "       [hidden_size1, history1[-1].get('train_loss'), history1[-1].get('val_loss'), test_result[1], time1],\n",
    "       [hidden_size2, history2[-1].get('train_loss'), history2[-1].get('val_loss'), test_result[2], time2],\n",
    "       [hidden_size3, history3[-1].get('train_loss'), history0[-1].get('val_loss'), test_result[3] ,time3],\n",
    "       [hidden_size4, history4[-1].get('train_loss'), history0[-1].get('val_loss'), test_result[4] ,time4]\n",
    "       ]"
   ]
  },
  {
   "cell_type": "code",
   "execution_count": 38,
   "metadata": {},
   "outputs": [
    {
     "data": {
      "image/png": "[encoded data removed]",
      "text/plain": [
       "<Figure size 720x720 with 1 Axes>"
      ]
     },
     "metadata": {
      "needs_background": "light"
     },
     "output_type": "display_data"
    }
   ],
   "source": [
    "import numpy as np\n",
    "import pandas as pd\n",
    "\n",
    "fig, ax = plt.subplots(figsize=(10,10))\n",
    "\n",
    "# hide axes\n",
    "fig.patch.set_visible(False)\n",
    "ax.axis('off')\n",
    "ax.axis('tight')\n",
    "\n",
    "df = pd.DataFrame(data, columns=col)\n",
    "\n",
    "ax.table(cellText=df.values, colLabels=df.columns, loc='center')\n",
    "\n",
    "fig.tight_layout()\n",
    "\n",
    "plt.show()"
   ]
  },
  {
   "cell_type": "markdown",
   "metadata": {},
   "source": [
    "## Commit and upload the notebook\n",
    "\n",
    "Finalemente, guardamos el trabajo en Jovian. Esto es muy util si queremos, además de conservar versiones, guardar las métricas de forma simple."
   ]
  },
  {
   "cell_type": "code",
   "execution_count": 39,
   "metadata": {},
   "outputs": [
    {
     "name": "stdout",
     "output_type": "stream",
     "text": [
      "\u001b[33mWARNING: You are using pip version 20.2.4; however, version 21.0.1 is available.\r\n",
      "You should consider upgrading via the '/opt/conda/bin/python3.7 -m pip install --upgrade pip' command.\u001b[0m\r\n"
     ]
    },
    {
     "data": {
      "application/javascript": [
       "if (window.IPython && IPython.notebook.kernel) IPython.notebook.kernel.execute('jovian.utils.jupyter.get_notebook_name_saved = lambda: \"' + IPython.notebook.notebook_name + '\"')"
      ],
      "text/plain": [
       "<IPython.core.display.Javascript object>"
      ]
     },
     "metadata": {},
     "output_type": "display_data"
    }
   ],
   "source": [
    "!pip install jovian --upgrade -q\n",
    "\n",
    "import jovian"
   ]
  },
  {
   "cell_type": "code",
   "execution_count": 40,
   "metadata": {},
   "outputs": [
    {
     "name": "stdout",
     "output_type": "stream",
     "text": [
      "[jovian] Please enter your API key ( from https://jovian.ai/ ):\u001b[0m\n",
      "API KEY: ········\n",
      "[jovian] Hyperparams logged.\u001b[0m\n"
     ]
    },
    {
     "data": {
      "application/javascript": [
       "window.require && require([\"base/js/namespace\"],function(Jupyter){Jupyter.notebook.save_checkpoint()})"
      ],
      "text/plain": [
       "<IPython.core.display.Javascript object>"
      ]
     },
     "metadata": {},
     "output_type": "display_data"
    },
    {
     "name": "stdout",
     "output_type": "stream",
     "text": [
      "[jovian] Attempting to save notebook..\u001b[0m\n",
      "[jovian] Detected Kaggle notebook...\u001b[0m\n",
      "[jovian] Uploading notebook to https://jovian.ai/paula-rj/Autoencoder simple\u001b[0m\n"
     ]
    },
    {
     "data": {
      "application/javascript": [
       "\n",
       "    require([\"base/js/namespace\"],function(Jupyter) {\n",
       "        var nbJson = JSON.stringify(Jupyter.notebook.toJSON());\n",
       "\n",
       "        console.log(\"[jovian] Extracted notebook JSON:\");\n",
       "        console.log(nbJson);\n",
       "\n",
       "        function jvnLog (data) {\n",
       "          console.log(\"Result from jovian.commit:\");\n",
       "          if (data.content.text) {\n",
       "              var result = JSON.parse(data.content.text.trim());\n",
       "              var msg = result['msg'];\n",
       "              var err = result['err'];\n",
       "              if (msg) {\n",
       "                  element.text(\"Committed successfully: \" + msg)\n",
       "              } else {\n",
       "                  alert(\"Notebook commit failed. Error: \" + (err || \"Unknown\"))\n",
       "              }\n",
       "          }\n",
       "          \n",
       "        };\n",
       "        \n",
       "        var pythonCode = `\n",
       "from contextlib import redirect_stdout, redirect_stderr\n",
       "from io import StringIO\n",
       "import json\n",
       " \n",
       "with open(\"Autoencoder simple.ipynb\", 'w') as f:\n",
       "    f.write(r\"\"\"${nbJson}\"\"\")\n",
       "\n",
       "jvn_update = StringIO()\n",
       "jvn_update_err = StringIO()\n",
       "with redirect_stdout(jvn_update), redirect_stderr(jvn_update_err):\n",
       "    from jovian import commit\n",
       "\n",
       "jvn_f_out = StringIO()\n",
       "jvn_f_err = StringIO()\n",
       "with redirect_stdout(jvn_f_out), redirect_stderr(jvn_f_err):\n",
       "    jvn_msg = jovian.commit(message=None, files=[], outputs=['Autoencoder simple.pth'], environment=None, privacy='auto', filename='Autoencoder simple.ipynb', project='Autoencoder simple', new_project=None)\n",
       "\n",
       "print(json.dumps({'msg': jvn_msg, 'err': jvn_f_err.getvalue(), 'update': jvn_update.getvalue()}))\n",
       "        `;\n",
       "\n",
       "        console.log(\"Invoking jovian.commit\")\n",
       "        // console.log(pythonCode)\n",
       "\n",
       "        Jupyter.notebook.kernel.execute(pythonCode, { iopub: { output: jvnLog }});\n",
       "    });"
      ],
      "text/plain": [
       "<IPython.core.display.Javascript object>"
      ]
     },
     "metadata": {},
     "output_type": "display_data"
    }
   ],
   "source": [
    "jovian.reset()\n",
    "\n",
    "jovian.log_hyperparams(capa_oculta=None,\n",
    "                       cant_epocas = epochs,\n",
    "                       lr = max_lr,\n",
    "                       batch=batch_size,\n",
    "                       grad_clip = grad_clip)\n",
    "\n",
    "#jovian.log_metrics(min_train_loss= None,2,  min_val_loss= 0.4668, time = '4min 3s', lr_de_minLoss = 0.0006)\n",
    "\n",
    "jovian.commit(project='Autoencoder simple', outputs=['Autoencoder simple.pth'], environment=None)"
   ]
  },
  {
   "cell_type": "markdown",
   "metadata": {},
   "source": [
    "Fuentes:\n",
    "\n",
    "[Pytorch: from zero to GANs](http://jovian.ai)\n",
    "\n",
    "https://nextjournal.com/gkoehler/pytorch-mnist\n",
    "\n",
    "https://github.com/ardendertat/Applied-Deep-Learning-with-Keras/blob/master/notebooks/Part%203%20-%20Autoencoders.ipynb"
   ]
  }
 ],
 "metadata": {
  "language_info": {
   "codemirror_mode": {
    "name": "ipython",
    "version": 3
   },
   "file_extension": ".py",
   "mimetype": "text/x-python",
   "name": "python",
   "nbconvert_exporter": "python",
   "pygments_lexer": "ipython3",
   "version": "3.7.6"
  }
 },
 "nbformat": 4,
 "nbformat_minor": 4
}